{
 "cells": [
  {
   "cell_type": "markdown",
   "metadata": {},
   "source": [
    "# Homework Assignment Number One"
   ]
  },
  {
   "cell_type": "code",
   "execution_count": 1,
   "metadata": {
    "collapsed": true
   },
   "outputs": [],
   "source": [
    "import pandas as pd\n",
    "import matplotlib.pyplot as plt\n",
    "import seaborn as sns\n",
    "%matplotlib inline"
   ]
  },
  {
   "cell_type": "markdown",
   "metadata": {},
   "source": [
    "## Section 1: Police killings"
   ]
  },
  {
   "cell_type": "code",
   "execution_count": 2,
   "metadata": {},
   "outputs": [
    {
     "data": {
      "text/html": [
       "<div>\n",
       "<style>\n",
       "    .dataframe thead tr:only-child th {\n",
       "        text-align: right;\n",
       "    }\n",
       "\n",
       "    .dataframe thead th {\n",
       "        text-align: left;\n",
       "    }\n",
       "\n",
       "    .dataframe tbody tr th {\n",
       "        vertical-align: top;\n",
       "    }\n",
       "</style>\n",
       "<table border=\"1\" class=\"dataframe\">\n",
       "  <thead>\n",
       "    <tr style=\"text-align: right;\">\n",
       "      <th></th>\n",
       "      <th>name</th>\n",
       "      <th>age</th>\n",
       "      <th>gender</th>\n",
       "      <th>raceethnicity</th>\n",
       "      <th>month</th>\n",
       "      <th>day</th>\n",
       "      <th>year</th>\n",
       "      <th>streetaddress</th>\n",
       "      <th>city</th>\n",
       "      <th>state</th>\n",
       "      <th>lawenforcementagency</th>\n",
       "      <th>cause</th>\n",
       "      <th>armed</th>\n",
       "      <th>county_income</th>\n",
       "    </tr>\n",
       "  </thead>\n",
       "  <tbody>\n",
       "    <tr>\n",
       "      <th>0</th>\n",
       "      <td>A'donte Washington</td>\n",
       "      <td>16</td>\n",
       "      <td>Male</td>\n",
       "      <td>Black</td>\n",
       "      <td>February</td>\n",
       "      <td>23</td>\n",
       "      <td>2015</td>\n",
       "      <td>Clearview Ln</td>\n",
       "      <td>Millbrook</td>\n",
       "      <td>AL</td>\n",
       "      <td>Millbrook Police Department</td>\n",
       "      <td>Gunshot</td>\n",
       "      <td>No</td>\n",
       "      <td>54766</td>\n",
       "    </tr>\n",
       "    <tr>\n",
       "      <th>1</th>\n",
       "      <td>Aaron Rutledge</td>\n",
       "      <td>27</td>\n",
       "      <td>Male</td>\n",
       "      <td>White</td>\n",
       "      <td>April</td>\n",
       "      <td>2</td>\n",
       "      <td>2015</td>\n",
       "      <td>300 block Iris Park Dr</td>\n",
       "      <td>Pineville</td>\n",
       "      <td>LA</td>\n",
       "      <td>Rapides Parish Sheriff's Office</td>\n",
       "      <td>Gunshot</td>\n",
       "      <td>No</td>\n",
       "      <td>40930</td>\n",
       "    </tr>\n",
       "    <tr>\n",
       "      <th>2</th>\n",
       "      <td>Aaron Siler</td>\n",
       "      <td>26</td>\n",
       "      <td>Male</td>\n",
       "      <td>White</td>\n",
       "      <td>March</td>\n",
       "      <td>14</td>\n",
       "      <td>2015</td>\n",
       "      <td>22nd Ave and 56th St</td>\n",
       "      <td>Kenosha</td>\n",
       "      <td>WI</td>\n",
       "      <td>Kenosha Police Department</td>\n",
       "      <td>Gunshot</td>\n",
       "      <td>No</td>\n",
       "      <td>54930</td>\n",
       "    </tr>\n",
       "    <tr>\n",
       "      <th>3</th>\n",
       "      <td>Aaron Valdez</td>\n",
       "      <td>25</td>\n",
       "      <td>Male</td>\n",
       "      <td>Hispanic/Latino</td>\n",
       "      <td>March</td>\n",
       "      <td>11</td>\n",
       "      <td>2015</td>\n",
       "      <td>3000 Seminole Ave</td>\n",
       "      <td>South Gate</td>\n",
       "      <td>CA</td>\n",
       "      <td>South Gate Police Department</td>\n",
       "      <td>Gunshot</td>\n",
       "      <td>Firearm</td>\n",
       "      <td>55909</td>\n",
       "    </tr>\n",
       "    <tr>\n",
       "      <th>4</th>\n",
       "      <td>Adam Jovicic</td>\n",
       "      <td>29</td>\n",
       "      <td>Male</td>\n",
       "      <td>White</td>\n",
       "      <td>March</td>\n",
       "      <td>19</td>\n",
       "      <td>2015</td>\n",
       "      <td>364 Hiwood Ave</td>\n",
       "      <td>Munroe Falls</td>\n",
       "      <td>OH</td>\n",
       "      <td>Kent Police Department</td>\n",
       "      <td>Gunshot</td>\n",
       "      <td>No</td>\n",
       "      <td>49669</td>\n",
       "    </tr>\n",
       "  </tbody>\n",
       "</table>\n",
       "</div>"
      ],
      "text/plain": [
       "                 name  age gender    raceethnicity     month  day  year  \\\n",
       "0  A'donte Washington   16   Male            Black  February   23  2015   \n",
       "1      Aaron Rutledge   27   Male            White     April    2  2015   \n",
       "2         Aaron Siler   26   Male            White     March   14  2015   \n",
       "3        Aaron Valdez   25   Male  Hispanic/Latino     March   11  2015   \n",
       "4        Adam Jovicic   29   Male            White     March   19  2015   \n",
       "\n",
       "            streetaddress          city state  \\\n",
       "0            Clearview Ln     Millbrook    AL   \n",
       "1  300 block Iris Park Dr     Pineville    LA   \n",
       "2    22nd Ave and 56th St       Kenosha    WI   \n",
       "3       3000 Seminole Ave    South Gate    CA   \n",
       "4          364 Hiwood Ave  Munroe Falls    OH   \n",
       "\n",
       "              lawenforcementagency    cause    armed  county_income  \n",
       "0      Millbrook Police Department  Gunshot       No          54766  \n",
       "1  Rapides Parish Sheriff's Office  Gunshot       No          40930  \n",
       "2        Kenosha Police Department  Gunshot       No          54930  \n",
       "3     South Gate Police Department  Gunshot  Firearm          55909  \n",
       "4           Kent Police Department  Gunshot       No          49669  "
      ]
     },
     "execution_count": 2,
     "metadata": {},
     "output_type": "execute_result"
    }
   ],
   "source": [
    "killings = pd.read_csv('../data/police-killings.csv', index_col=[0])\n",
    "killings.head()"
   ]
  },
  {
   "cell_type": "markdown",
   "metadata": {
    "collapsed": true
   },
   "source": [
    "### 1. Make the following changes to column names:\n",
    "\n",
    "- lawenforcementagency -> agency\n",
    "- raceethnicity -> race"
   ]
  },
  {
   "cell_type": "code",
   "execution_count": 3,
   "metadata": {},
   "outputs": [
    {
     "data": {
      "text/plain": [
       "Index([u'name', u'age', u'gender', u'race', u'month', u'day', u'year',\n",
       "       u'streetaddress', u'city', u'state', u'agency', u'cause', u'armed',\n",
       "       u'county_income'],\n",
       "      dtype='object')"
      ]
     },
     "execution_count": 3,
     "metadata": {},
     "output_type": "execute_result"
    }
   ],
   "source": [
    "killings.rename(columns={'lawenforcementagency': 'agency', 'raceethnicity': 'race'}, inplace=True)\n",
    "killings.columns"
   ]
  },
  {
   "cell_type": "markdown",
   "metadata": {
    "collapsed": true
   },
   "source": [
    "### 2. Show the count of missing values in each column"
   ]
  },
  {
   "cell_type": "code",
   "execution_count": 4,
   "metadata": {},
   "outputs": [
    {
     "data": {
      "text/plain": [
       "name             0\n",
       "age              0\n",
       "gender           0\n",
       "race             0\n",
       "month            0\n",
       "day              0\n",
       "year             0\n",
       "streetaddress    4\n",
       "city             0\n",
       "state            0\n",
       "agency           0\n",
       "cause            0\n",
       "armed            0\n",
       "county_income    0\n",
       "dtype: int64"
      ]
     },
     "execution_count": 4,
     "metadata": {},
     "output_type": "execute_result"
    }
   ],
   "source": [
    "killings.isnull().sum()"
   ]
  },
  {
   "cell_type": "markdown",
   "metadata": {
    "collapsed": true
   },
   "source": [
    "### 3. Replace each null value in the dataframe with the string \"unknown\""
   ]
  },
  {
   "cell_type": "code",
   "execution_count": 5,
   "metadata": {},
   "outputs": [
    {
     "data": {
      "text/plain": [
       "4"
      ]
     },
     "execution_count": 5,
     "metadata": {},
     "output_type": "execute_result"
    }
   ],
   "source": [
    "killings.fillna(\"unknown\", inplace=True)\n",
    "(killings.streetaddress == \"unknown\").sum()"
   ]
  },
  {
   "cell_type": "markdown",
   "metadata": {
    "collapsed": true
   },
   "source": [
    "### 4. How many killings were there in March and April?"
   ]
  },
  {
   "cell_type": "code",
   "execution_count": 6,
   "metadata": {},
   "outputs": [
    {
     "data": {
      "text/plain": [
       "210"
      ]
     },
     "execution_count": 6,
     "metadata": {},
     "output_type": "execute_result"
    }
   ],
   "source": [
    "((killings.month == \"March\") | (killings.month ==\"April\")).sum()\n",
    "#210 killings"
   ]
  },
  {
   "cell_type": "markdown",
   "metadata": {
    "collapsed": true
   },
   "source": [
    "### 5. How many male and how many female victims are there?"
   ]
  },
  {
   "cell_type": "code",
   "execution_count": 12,
   "metadata": {},
   "outputs": [
    {
     "data": {
      "text/plain": [
       "Male      445\n",
       "Female     22\n",
       "Name: gender, dtype: int64"
      ]
     },
     "execution_count": 12,
     "metadata": {},
     "output_type": "execute_result"
    }
   ],
   "source": [
    "killings.gender.value_counts()\n",
    "#22 female victims\n",
    "#445 male victims"
   ]
  },
  {
   "cell_type": "markdown",
   "metadata": {
    "collapsed": true
   },
   "source": [
    "### 6. How many killings were of unarmed people?"
   ]
  },
  {
   "cell_type": "code",
   "execution_count": 8,
   "metadata": {},
   "outputs": [
    {
     "data": {
      "text/plain": [
       "102"
      ]
     },
     "execution_count": 8,
     "metadata": {},
     "output_type": "execute_result"
    }
   ],
   "source": [
    "killings.armed.unique()\n",
    "(killings.armed==\"No\").sum()\n",
    "#102 unarmed people"
   ]
  },
  {
   "cell_type": "markdown",
   "metadata": {
    "collapsed": true
   },
   "source": [
    "### 7. What percentage of all killings were unarmed?"
   ]
  },
  {
   "cell_type": "code",
   "execution_count": 9,
   "metadata": {},
   "outputs": [
    {
     "data": {
      "text/plain": [
       "False    0.781585\n",
       "True     0.218415\n",
       "Name: armed, dtype: float64"
      ]
     },
     "execution_count": 9,
     "metadata": {},
     "output_type": "execute_result"
    }
   ],
   "source": [
    "(killings.armed==\"No\").value_counts(normalize=True)\n",
    "#21.8% of killings were unarmed"
   ]
  },
  {
   "cell_type": "markdown",
   "metadata": {
    "collapsed": true
   },
   "source": [
    "### 8. What are the 5 states with the most killings?"
   ]
  },
  {
   "cell_type": "code",
   "execution_count": 10,
   "metadata": {},
   "outputs": [
    {
     "data": {
      "text/plain": [
       "CA    74\n",
       "TX    46\n",
       "FL    29\n",
       "AZ    25\n",
       "OK    22\n",
       "Name: state, dtype: int64"
      ]
     },
     "execution_count": 10,
     "metadata": {},
     "output_type": "execute_result"
    }
   ],
   "source": [
    "killings.state.value_counts(sort=True).head()"
   ]
  },
  {
   "cell_type": "markdown",
   "metadata": {
    "collapsed": true
   },
   "source": [
    "### 9. Show a value counts of deaths for each race"
   ]
  },
  {
   "cell_type": "code",
   "execution_count": 13,
   "metadata": {},
   "outputs": [
    {
     "data": {
      "text/plain": [
       "White                     236\n",
       "Black                     135\n",
       "Hispanic/Latino            67\n",
       "Unknown                    15\n",
       "Asian/Pacific Islander     10\n",
       "Native American             4\n",
       "Name: race, dtype: int64"
      ]
     },
     "execution_count": 13,
     "metadata": {},
     "output_type": "execute_result"
    }
   ],
   "source": [
    "killings.race.value_counts()"
   ]
  },
  {
   "cell_type": "markdown",
   "metadata": {
    "collapsed": true
   },
   "source": [
    "### 10. Display a histogram of ages of all killings"
   ]
  },
  {
   "cell_type": "code",
   "execution_count": 14,
   "metadata": {},
   "outputs": [
    {
     "data": {
      "image/png": "[encoded data removed]",
      "text/plain": [
       "<matplotlib.figure.Figure at 0x7fa8eb4259d0>"
      ]
     },
     "metadata": {},
     "output_type": "display_data"
    }
   ],
   "source": [
    "killings.age.plot(kind=\"hist\")\n",
    "plt.show()"
   ]
  },
  {
   "cell_type": "markdown",
   "metadata": {
    "collapsed": true
   },
   "source": [
    "### 11. Show histogram of ages for each race"
   ]
  },
  {
   "cell_type": "code",
   "execution_count": 15,
   "metadata": {},
   "outputs": [
    {
     "data": {
      "image/png": "[encoded data removed]",
      "text/plain": [
       "<matplotlib.figure.Figure at 0x7fa8eb3c4190>"
      ]
     },
     "metadata": {},
     "output_type": "display_data"
    }
   ],
   "source": [
    "killings.hist(column=\"age\", by=\"race\")\n",
    "plt.tight_layout()\n",
    "plt.show()"
   ]
  },
  {
   "cell_type": "markdown",
   "metadata": {
    "collapsed": true
   },
   "source": [
    "### 12. What is the average age of death by race?"
   ]
  },
  {
   "cell_type": "code",
   "execution_count": 16,
   "metadata": {},
   "outputs": [
    {
     "data": {
      "text/plain": [
       "race\n",
       "Asian/Pacific Islander    40.800000\n",
       "Black                     34.044444\n",
       "Hispanic/Latino           31.716418\n",
       "Native American           27.750000\n",
       "Unknown                   43.533333\n",
       "White                     40.466102\n",
       "Name: age, dtype: float64"
      ]
     },
     "execution_count": 16,
     "metadata": {},
     "output_type": "execute_result"
    }
   ],
   "source": [
    "killings.groupby(\"race\").age.mean()"
   ]
  },
  {
   "cell_type": "markdown",
   "metadata": {
    "collapsed": true
   },
   "source": [
    "### 13. Show a bar chart with counts of deaths every month"
   ]
  },
  {
   "cell_type": "code",
   "execution_count": 17,
   "metadata": {},
   "outputs": [
    {
     "data": {
      "image/png": "[encoded data removed]",
      "text/plain": [
       "<matplotlib.figure.Figure at 0x7fa8e48fff10>"
      ]
     },
     "metadata": {},
     "output_type": "display_data"
    }
   ],
   "source": [
    "killings.groupby(\"month\").count().age.plot(kind=\"barh\")\n",
    "plt.show()"
   ]
  },
  {
   "cell_type": "markdown",
   "metadata": {},
   "source": [
    "## Section 2: College Majors"
   ]
  },
  {
   "cell_type": "code",
   "execution_count": 18,
   "metadata": {},
   "outputs": [
    {
     "data": {
      "text/html": [
       "<div>\n",
       "<style>\n",
       "    .dataframe thead tr:only-child th {\n",
       "        text-align: right;\n",
       "    }\n",
       "\n",
       "    .dataframe thead th {\n",
       "        text-align: left;\n",
       "    }\n",
       "\n",
       "    .dataframe tbody tr th {\n",
       "        vertical-align: top;\n",
       "    }\n",
       "</style>\n",
       "<table border=\"1\" class=\"dataframe\">\n",
       "  <thead>\n",
       "    <tr style=\"text-align: right;\">\n",
       "      <th></th>\n",
       "      <th>Major_code</th>\n",
       "      <th>Major</th>\n",
       "      <th>Major_category</th>\n",
       "      <th>Total</th>\n",
       "      <th>Employed</th>\n",
       "      <th>Employed_full_time_year_round</th>\n",
       "      <th>Unemployed</th>\n",
       "      <th>Unemployment_rate</th>\n",
       "      <th>Median</th>\n",
       "      <th>P25th</th>\n",
       "      <th>P75th</th>\n",
       "    </tr>\n",
       "  </thead>\n",
       "  <tbody>\n",
       "    <tr>\n",
       "      <th>0</th>\n",
       "      <td>1100</td>\n",
       "      <td>GENERAL AGRICULTURE</td>\n",
       "      <td>Agriculture &amp; Natural Resources</td>\n",
       "      <td>128148</td>\n",
       "      <td>90245</td>\n",
       "      <td>74078</td>\n",
       "      <td>2423</td>\n",
       "      <td>0.026147</td>\n",
       "      <td>50000</td>\n",
       "      <td>34000</td>\n",
       "      <td>80000.0</td>\n",
       "    </tr>\n",
       "    <tr>\n",
       "      <th>1</th>\n",
       "      <td>1101</td>\n",
       "      <td>AGRICULTURE PRODUCTION AND MANAGEMENT</td>\n",
       "      <td>Agriculture &amp; Natural Resources</td>\n",
       "      <td>95326</td>\n",
       "      <td>76865</td>\n",
       "      <td>64240</td>\n",
       "      <td>2266</td>\n",
       "      <td>0.028636</td>\n",
       "      <td>54000</td>\n",
       "      <td>36000</td>\n",
       "      <td>80000.0</td>\n",
       "    </tr>\n",
       "    <tr>\n",
       "      <th>2</th>\n",
       "      <td>1102</td>\n",
       "      <td>AGRICULTURAL ECONOMICS</td>\n",
       "      <td>Agriculture &amp; Natural Resources</td>\n",
       "      <td>33955</td>\n",
       "      <td>26321</td>\n",
       "      <td>22810</td>\n",
       "      <td>821</td>\n",
       "      <td>0.030248</td>\n",
       "      <td>63000</td>\n",
       "      <td>40000</td>\n",
       "      <td>98000.0</td>\n",
       "    </tr>\n",
       "    <tr>\n",
       "      <th>3</th>\n",
       "      <td>1103</td>\n",
       "      <td>ANIMAL SCIENCES</td>\n",
       "      <td>Agriculture &amp; Natural Resources</td>\n",
       "      <td>103549</td>\n",
       "      <td>81177</td>\n",
       "      <td>64937</td>\n",
       "      <td>3619</td>\n",
       "      <td>0.042679</td>\n",
       "      <td>46000</td>\n",
       "      <td>30000</td>\n",
       "      <td>72000.0</td>\n",
       "    </tr>\n",
       "    <tr>\n",
       "      <th>4</th>\n",
       "      <td>1104</td>\n",
       "      <td>FOOD SCIENCE</td>\n",
       "      <td>Agriculture &amp; Natural Resources</td>\n",
       "      <td>24280</td>\n",
       "      <td>17281</td>\n",
       "      <td>12722</td>\n",
       "      <td>894</td>\n",
       "      <td>0.049188</td>\n",
       "      <td>62000</td>\n",
       "      <td>38500</td>\n",
       "      <td>90000.0</td>\n",
       "    </tr>\n",
       "  </tbody>\n",
       "</table>\n",
       "</div>"
      ],
      "text/plain": [
       "   Major_code                                  Major  \\\n",
       "0        1100                    GENERAL AGRICULTURE   \n",
       "1        1101  AGRICULTURE PRODUCTION AND MANAGEMENT   \n",
       "2        1102                 AGRICULTURAL ECONOMICS   \n",
       "3        1103                        ANIMAL SCIENCES   \n",
       "4        1104                           FOOD SCIENCE   \n",
       "\n",
       "                    Major_category   Total  Employed  \\\n",
       "0  Agriculture & Natural Resources  128148     90245   \n",
       "1  Agriculture & Natural Resources   95326     76865   \n",
       "2  Agriculture & Natural Resources   33955     26321   \n",
       "3  Agriculture & Natural Resources  103549     81177   \n",
       "4  Agriculture & Natural Resources   24280     17281   \n",
       "\n",
       "   Employed_full_time_year_round  Unemployed  Unemployment_rate  Median  \\\n",
       "0                          74078        2423           0.026147   50000   \n",
       "1                          64240        2266           0.028636   54000   \n",
       "2                          22810         821           0.030248   63000   \n",
       "3                          64937        3619           0.042679   46000   \n",
       "4                          12722         894           0.049188   62000   \n",
       "\n",
       "   P25th    P75th  \n",
       "0  34000  80000.0  \n",
       "1  36000  80000.0  \n",
       "2  40000  98000.0  \n",
       "3  30000  72000.0  \n",
       "4  38500  90000.0  "
      ]
     },
     "execution_count": 18,
     "metadata": {},
     "output_type": "execute_result"
    }
   ],
   "source": [
    "majors = pd.read_csv('../data/college-majors.csv', index_col=[0])\n",
    "majors.head()\n",
    "#majors.set_index(\"Major\")"
   ]
  },
  {
   "cell_type": "markdown",
   "metadata": {},
   "source": [
    "### 1. Delete the columns (employed_full_time_year_round, major_code)\n"
   ]
  },
  {
   "cell_type": "code",
   "execution_count": 19,
   "metadata": {},
   "outputs": [
    {
     "data": {
      "text/plain": [
       "Index([u'Major', u'Major_category', u'Total', u'Employed', u'Unemployed',\n",
       "       u'Unemployment_rate', u'Median', u'P25th', u'P75th'],\n",
       "      dtype='object')"
      ]
     },
     "execution_count": 19,
     "metadata": {},
     "output_type": "execute_result"
    }
   ],
   "source": [
    "lab={\"Employed_full_time_year_round\", \"Major_code\"}\n",
    "majors.drop(labels=lab, axis=1, inplace=True)\n",
    "majors.columns"
   ]
  },
  {
   "cell_type": "markdown",
   "metadata": {
    "collapsed": true
   },
   "source": [
    "### 2. Show the count of missing values in each column"
   ]
  },
  {
   "cell_type": "code",
   "execution_count": 20,
   "metadata": {},
   "outputs": [
    {
     "data": {
      "text/plain": [
       "Major                0\n",
       "Major_category       0\n",
       "Total                0\n",
       "Employed             0\n",
       "Unemployed           0\n",
       "Unemployment_rate    0\n",
       "Median               0\n",
       "P25th                0\n",
       "P75th                0\n",
       "dtype: int64"
      ]
     },
     "execution_count": 20,
     "metadata": {},
     "output_type": "execute_result"
    }
   ],
   "source": [
    "majors.isnull().sum()"
   ]
  },
  {
   "cell_type": "markdown",
   "metadata": {},
   "source": [
    "### 3. What are the top 10 highest paying majors?"
   ]
  },
  {
   "cell_type": "code",
   "execution_count": 21,
   "metadata": {},
   "outputs": [
    {
     "data": {
      "text/plain": [
       "59                                 PETROLEUM ENGINEERING\n",
       "154    PHARMACY PHARMACEUTICAL SCIENCES AND ADMINISTR...\n",
       "57             NAVAL ARCHITECTURE AND MARINE ENGINEERING\n",
       "55                             METALLURGICAL ENGINEERING\n",
       "58                                   NUCLEAR ENGINEERING\n",
       "56                        MINING AND MINERAL ENGINEERING\n",
       "97                      MATHEMATICS AND COMPUTER SCIENCE\n",
       "48                                ELECTRICAL ENGINEERING\n",
       "45                                  CHEMICAL ENGINEERING\n",
       "51                GEOLOGICAL AND GEOPHYSICAL ENGINEERING\n",
       "Name: Major, dtype: object"
      ]
     },
     "execution_count": 21,
     "metadata": {},
     "output_type": "execute_result"
    }
   ],
   "source": [
    "majors.sort_values(by=\"Median\", axis=0, ascending=False, inplace=True)\n",
    "majors.head(10).Major"
   ]
  },
  {
   "cell_type": "markdown",
   "metadata": {},
   "source": [
    "### 4. Plot the data from the last question in a bar chart, include proper title, and labels\n"
   ]
  },
  {
   "cell_type": "code",
   "execution_count": 22,
   "metadata": {
    "scrolled": true
   },
   "outputs": [
    {
     "data": {
      "image/png": "[encoded data removed]",
      "text/plain": [
       "<matplotlib.figure.Figure at 0x7fa8e4701b10>"
      ]
     },
     "metadata": {},
     "output_type": "display_data"
    }
   ],
   "source": [
    "cols = [\"Major\", \"Median\"]\n",
    "Q4 = majors[cols].head(10)\n",
    "Q4.plot(kind=\"bar\", x=\"Major\", y=\"Median\", title=\"10 Highest Paying Majors\")\n",
    "plt.show()"
   ]
  },
  {
   "cell_type": "markdown",
   "metadata": {
    "collapsed": true
   },
   "source": [
    "### 5. What is the average median salary for each major category?"
   ]
  },
  {
   "cell_type": "code",
   "execution_count": 23,
   "metadata": {},
   "outputs": [
    {
     "data": {
      "text/plain": [
       "Major_category\n",
       "Agriculture & Natural Resources        55000.000000\n",
       "Arts                                   43525.000000\n",
       "Biology & Life Science                 50821.428571\n",
       "Business                               60615.384615\n",
       "Communications & Journalism            49500.000000\n",
       "Computers & Mathematics                66272.727273\n",
       "Education                              43831.250000\n",
       "Engineering                            77758.620690\n",
       "Health                                 56458.333333\n",
       "Humanities & Liberal Arts              46080.000000\n",
       "Industrial Arts & Consumer Services    52642.857143\n",
       "Interdisciplinary                      43000.000000\n",
       "Law & Public Policy                    52800.000000\n",
       "Physical Sciences                      62400.000000\n",
       "Psychology & Social Work               44555.555556\n",
       "Social Science                         53222.222222\n",
       "Name: Median, dtype: float64"
      ]
     },
     "execution_count": 23,
     "metadata": {},
     "output_type": "execute_result"
    }
   ],
   "source": [
    "majors.groupby(\"Major_category\").mean().Median"
   ]
  },
  {
   "cell_type": "markdown",
   "metadata": {
    "collapsed": true
   },
   "source": [
    "### 6. Visualize only the top 5 paying major categories"
   ]
  },
  {
   "cell_type": "code",
   "execution_count": 24,
   "metadata": {},
   "outputs": [
    {
     "data": {
      "image/png": "[encoded data removed]",
      "text/plain": [
       "<matplotlib.figure.Figure at 0x7fa8e45a3110>"
      ]
     },
     "metadata": {},
     "output_type": "display_data"
    }
   ],
   "source": [
    "Q6 = majors.groupby(\"Major_category\").mean().Median.sort_values(ascending=False).head(5)\n",
    "Q6.plot(kind=\"barh\", x=\"Major\", y=\"Median\", title=\"5 Highest Paying Major Categoriess\")\n",
    "plt.show()"
   ]
  },
  {
   "cell_type": "markdown",
   "metadata": {
    "collapsed": true
   },
   "source": [
    "### 7. Plot a histogram of the distribution of median salaries"
   ]
  },
  {
   "cell_type": "code",
   "execution_count": 25,
   "metadata": {},
   "outputs": [
    {
     "data": {
      "image/png": "[encoded data removed]",
      "text/plain": [
       "<matplotlib.figure.Figure at 0x7fa8e45ab8d0>"
      ]
     },
     "metadata": {},
     "output_type": "display_data"
    }
   ],
   "source": [
    "majors.hist(\"Median\");"
   ]
  },
  {
   "cell_type": "markdown",
   "metadata": {
    "collapsed": true
   },
   "source": [
    "### 8. Plot a histogram of the distribution of median salaries by major category"
   ]
  },
  {
   "cell_type": "code",
   "execution_count": 26,
   "metadata": {},
   "outputs": [
    {
     "data": {
      "image/png": "[encoded data removed]",
      "text/plain": [
       "<matplotlib.figure.Figure at 0x7fa8e45fbed0>"
      ]
     },
     "metadata": {},
     "output_type": "display_data"
    }
   ],
   "source": [
    "majors.hist(\"Median\", by=\"Major_category\");\n"
   ]
  },
  {
   "cell_type": "markdown",
   "metadata": {},
   "source": [
    "### 9. What are the top 10 most UNemployed majors?"
   ]
  },
  {
   "cell_type": "code",
   "execution_count": 27,
   "metadata": {},
   "outputs": [
    {
     "data": {
      "text/plain": [
       "161    BUSINESS MANAGEMENT AND ADMINISTRATION\n",
       "158                          GENERAL BUSINESS\n",
       "114                                PSYCHOLOGY\n",
       "159                                ACCOUNTING\n",
       "13                             COMMUNICATIONS\n",
       "73            ENGLISH LANGUAGE AND LITERATURE\n",
       "164          MARKETING AND MARKETING RESEARCH\n",
       "132          POLITICAL SCIENCE AND GOVERNMENT\n",
       "25                          GENERAL EDUCATION\n",
       "78                                    BIOLOGY\n",
       "Name: Major, dtype: object"
      ]
     },
     "execution_count": 27,
     "metadata": {},
     "output_type": "execute_result"
    }
   ],
   "source": [
    "majors.sort_values(by=\"Unemployed\", ascending=False, inplace=True)\n",
    "majors.head(10).Major"
   ]
  },
  {
   "cell_type": "markdown",
   "metadata": {
    "collapsed": true
   },
   "source": [
    "### 10. What are the top 10 most UNemployed majors CATEGORIES? Use the mean for each category"
   ]
  },
  {
   "cell_type": "code",
   "execution_count": 28,
   "metadata": {},
   "outputs": [
    {
     "data": {
      "text/plain": [
       "Index([u'Business', u'Communications & Journalism', u'Social Science', u'Arts',\n",
       "       u'Humanities & Liberal Arts', u'Psychology & Social Work',\n",
       "       u'Law & Public Policy', u'Education', u'Computers & Mathematics',\n",
       "       u'Health'],\n",
       "      dtype='object', name=u'Major_category')"
      ]
     },
     "execution_count": 28,
     "metadata": {},
     "output_type": "execute_result"
    }
   ],
   "source": [
    "#majors.groupby(\"Major_category\").mean().sort_values(by=\"Unemployment_rate\", ascending=False).head(10)\n",
    "majors.groupby(\"Major_category\").mean().sort_values(by=\"Unemployed\", ascending=False).head(10).index"
   ]
  },
  {
   "cell_type": "markdown",
   "metadata": {},
   "source": [
    "## Section 3: FIFA Soccer Game data"
   ]
  },
  {
   "cell_type": "code",
   "execution_count": 29,
   "metadata": {},
   "outputs": [
    {
     "data": {
      "text/html": [
       "<div>\n",
       "<style>\n",
       "    .dataframe thead tr:only-child th {\n",
       "        text-align: right;\n",
       "    }\n",
       "\n",
       "    .dataframe thead th {\n",
       "        text-align: left;\n",
       "    }\n",
       "\n",
       "    .dataframe tbody tr th {\n",
       "        vertical-align: top;\n",
       "    }\n",
       "</style>\n",
       "<table border=\"1\" class=\"dataframe\">\n",
       "  <thead>\n",
       "    <tr style=\"text-align: right;\">\n",
       "      <th></th>\n",
       "      <th>Name</th>\n",
       "      <th>Nationality</th>\n",
       "      <th>National_Position</th>\n",
       "      <th>National_Kit</th>\n",
       "      <th>Club</th>\n",
       "      <th>Club_Position</th>\n",
       "      <th>Club_Kit</th>\n",
       "      <th>Club_Joining</th>\n",
       "      <th>Contract_Expiry</th>\n",
       "      <th>Rating</th>\n",
       "      <th>...</th>\n",
       "      <th>Long_Shots</th>\n",
       "      <th>Curve</th>\n",
       "      <th>Freekick_Accuracy</th>\n",
       "      <th>Penalties</th>\n",
       "      <th>Volleys</th>\n",
       "      <th>GK_Positioning</th>\n",
       "      <th>GK_Diving</th>\n",
       "      <th>GK_Kicking</th>\n",
       "      <th>GK_Handling</th>\n",
       "      <th>GK_Reflexes</th>\n",
       "    </tr>\n",
       "  </thead>\n",
       "  <tbody>\n",
       "    <tr>\n",
       "      <th>0</th>\n",
       "      <td>Cristiano Ronaldo</td>\n",
       "      <td>Portugal</td>\n",
       "      <td>LS</td>\n",
       "      <td>7.0</td>\n",
       "      <td>Real Madrid</td>\n",
       "      <td>LW</td>\n",
       "      <td>7.0</td>\n",
       "      <td>07/01/2009</td>\n",
       "      <td>2021.0</td>\n",
       "      <td>94</td>\n",
       "      <td>...</td>\n",
       "      <td>90</td>\n",
       "      <td>81</td>\n",
       "      <td>76</td>\n",
       "      <td>85</td>\n",
       "      <td>88</td>\n",
       "      <td>14</td>\n",
       "      <td>7</td>\n",
       "      <td>15</td>\n",
       "      <td>11</td>\n",
       "      <td>11</td>\n",
       "    </tr>\n",
       "    <tr>\n",
       "      <th>1</th>\n",
       "      <td>Lionel Messi</td>\n",
       "      <td>Argentina</td>\n",
       "      <td>RW</td>\n",
       "      <td>10.0</td>\n",
       "      <td>FC Barcelona</td>\n",
       "      <td>RW</td>\n",
       "      <td>10.0</td>\n",
       "      <td>07/01/2004</td>\n",
       "      <td>2018.0</td>\n",
       "      <td>93</td>\n",
       "      <td>...</td>\n",
       "      <td>88</td>\n",
       "      <td>89</td>\n",
       "      <td>90</td>\n",
       "      <td>74</td>\n",
       "      <td>85</td>\n",
       "      <td>14</td>\n",
       "      <td>6</td>\n",
       "      <td>15</td>\n",
       "      <td>11</td>\n",
       "      <td>8</td>\n",
       "    </tr>\n",
       "    <tr>\n",
       "      <th>2</th>\n",
       "      <td>Neymar</td>\n",
       "      <td>Brazil</td>\n",
       "      <td>LW</td>\n",
       "      <td>10.0</td>\n",
       "      <td>FC Barcelona</td>\n",
       "      <td>LW</td>\n",
       "      <td>11.0</td>\n",
       "      <td>07/01/2013</td>\n",
       "      <td>2021.0</td>\n",
       "      <td>92</td>\n",
       "      <td>...</td>\n",
       "      <td>77</td>\n",
       "      <td>79</td>\n",
       "      <td>84</td>\n",
       "      <td>81</td>\n",
       "      <td>83</td>\n",
       "      <td>15</td>\n",
       "      <td>9</td>\n",
       "      <td>15</td>\n",
       "      <td>9</td>\n",
       "      <td>11</td>\n",
       "    </tr>\n",
       "    <tr>\n",
       "      <th>3</th>\n",
       "      <td>Luis Suárez</td>\n",
       "      <td>Uruguay</td>\n",
       "      <td>LS</td>\n",
       "      <td>9.0</td>\n",
       "      <td>FC Barcelona</td>\n",
       "      <td>ST</td>\n",
       "      <td>9.0</td>\n",
       "      <td>07/11/2014</td>\n",
       "      <td>2021.0</td>\n",
       "      <td>92</td>\n",
       "      <td>...</td>\n",
       "      <td>86</td>\n",
       "      <td>86</td>\n",
       "      <td>84</td>\n",
       "      <td>85</td>\n",
       "      <td>88</td>\n",
       "      <td>33</td>\n",
       "      <td>27</td>\n",
       "      <td>31</td>\n",
       "      <td>25</td>\n",
       "      <td>37</td>\n",
       "    </tr>\n",
       "    <tr>\n",
       "      <th>4</th>\n",
       "      <td>Manuel Neuer</td>\n",
       "      <td>Germany</td>\n",
       "      <td>GK</td>\n",
       "      <td>1.0</td>\n",
       "      <td>FC Bayern</td>\n",
       "      <td>GK</td>\n",
       "      <td>1.0</td>\n",
       "      <td>07/01/2011</td>\n",
       "      <td>2021.0</td>\n",
       "      <td>92</td>\n",
       "      <td>...</td>\n",
       "      <td>16</td>\n",
       "      <td>14</td>\n",
       "      <td>11</td>\n",
       "      <td>47</td>\n",
       "      <td>11</td>\n",
       "      <td>91</td>\n",
       "      <td>89</td>\n",
       "      <td>95</td>\n",
       "      <td>90</td>\n",
       "      <td>89</td>\n",
       "    </tr>\n",
       "  </tbody>\n",
       "</table>\n",
       "<p>5 rows × 53 columns</p>\n",
       "</div>"
      ],
      "text/plain": [
       "                Name Nationality National_Position  National_Kit  \\\n",
       "0  Cristiano Ronaldo    Portugal                LS           7.0   \n",
       "1       Lionel Messi   Argentina                RW          10.0   \n",
       "2             Neymar      Brazil                LW          10.0   \n",
       "3        Luis Suárez     Uruguay                LS           9.0   \n",
       "4       Manuel Neuer     Germany                GK           1.0   \n",
       "\n",
       "           Club Club_Position  Club_Kit Club_Joining  Contract_Expiry  Rating  \\\n",
       "0   Real Madrid            LW       7.0   07/01/2009           2021.0      94   \n",
       "1  FC Barcelona            RW      10.0   07/01/2004           2018.0      93   \n",
       "2  FC Barcelona            LW      11.0   07/01/2013           2021.0      92   \n",
       "3  FC Barcelona            ST       9.0   07/11/2014           2021.0      92   \n",
       "4     FC Bayern            GK       1.0   07/01/2011           2021.0      92   \n",
       "\n",
       "      ...      Long_Shots Curve Freekick_Accuracy Penalties  Volleys  \\\n",
       "0     ...              90    81                76        85       88   \n",
       "1     ...              88    89                90        74       85   \n",
       "2     ...              77    79                84        81       83   \n",
       "3     ...              86    86                84        85       88   \n",
       "4     ...              16    14                11        47       11   \n",
       "\n",
       "  GK_Positioning GK_Diving  GK_Kicking  GK_Handling  GK_Reflexes  \n",
       "0             14         7          15           11           11  \n",
       "1             14         6          15           11            8  \n",
       "2             15         9          15            9           11  \n",
       "3             33        27          31           25           37  \n",
       "4             91        89          95           90           89  \n",
       "\n",
       "[5 rows x 53 columns]"
      ]
     },
     "execution_count": 29,
     "metadata": {},
     "output_type": "execute_result"
    }
   ],
   "source": [
    "fifa = pd.read_csv('../data/fifa_data.csv')\n",
    "fifa.head()"
   ]
  },
  {
   "cell_type": "markdown",
   "metadata": {},
   "source": [
    "### 1. Clean up the dataset.\n",
    "\n",
    "    - Lowercase the column names\n",
    "    - Set the \"name\" column as the index\n",
    "    - Drop the following columns \"national_position\", \"national_kit\", \"club_kit\", \"club_joining\", and \"contract_expiry\"\n",
    "    - Get rid of all players who are goalkeepers and drop every column that starts with GK\n",
    "    - Drop every player whose rating is less than 70\n",
    "    - Convert the \"height\" and \"weight\" columns to float types\n",
    "    - Check to see if there any nulls, if so drop them from the dataset"
   ]
  },
  {
   "cell_type": "code",
   "execution_count": 30,
   "metadata": {
    "collapsed": true
   },
   "outputs": [],
   "source": [
    "fifa.columns = fifa.columns.str.lower()\n",
    "fifa.set_index(\"name\")\n",
    "dropcols={\"national_position\", \"national_kit\", \"club_kit\", \"club_joining\", \"contract_expiry\"}\n",
    "fifa.drop(dropcols, axis=1, inplace=True)\n",
    "fifa = fifa[(fifa.club_position != \"GK\")]\n",
    "fifa.drop(fifa.columns[fifa.columns.str.startswith(\"gk\")], axis=1, inplace=True)\n",
    "fifa = fifa[(fifa.rating>69)]\n",
    "fifa.height = fifa.height.str.replace(\" cm\", \"\")\n",
    "fifa.weight = fifa.weight.str.replace(\" cm\", \"\")\n",
    "fifa[\"height\"] = fifa.height.astype(float)\n",
    "fifa[\"weight\"] = fifa.height.astype(float)\n",
    "fifa.isnull().sum().sum()\n",
    "fifa.dropna(inplace=True)"
   ]
  },
  {
   "cell_type": "markdown",
   "metadata": {},
   "source": [
    "### 2.  Who are the top five players of the following attributes: speed, marking, and finishing"
   ]
  },
  {
   "cell_type": "code",
   "execution_count": 31,
   "metadata": {},
   "outputs": [
    {
     "data": {
      "text/plain": [
       "35      Pierre-Emerick Aubameyang\n",
       "1461            Jonathan Biabiany\n",
       "1748                Víctor Ibarbo\n",
       "393                      Williams\n",
       "5091                Ernest Asante\n",
       "Name: name, dtype: object"
      ]
     },
     "execution_count": 31,
     "metadata": {},
     "output_type": "execute_result"
    }
   ],
   "source": [
    "fifa.sort_values(by=\"speed\", ascending=False).head(5).name"
   ]
  },
  {
   "cell_type": "code",
   "execution_count": 32,
   "metadata": {},
   "outputs": [
    {
     "data": {
      "text/plain": [
       "27    Giorgio Chiellini\n",
       "10       Jérôme Boateng\n",
       "64      Andrea Barzagli\n",
       "15         Thiago Silva\n",
       "59              Miranda\n",
       "Name: name, dtype: object"
      ]
     },
     "execution_count": 32,
     "metadata": {},
     "output_type": "execute_result"
    }
   ],
   "source": [
    "fifa.sort_values(by=\"marking\", ascending=False).head(5).name"
   ]
  },
  {
   "cell_type": "code",
   "execution_count": 33,
   "metadata": {},
   "outputs": [
    {
     "data": {
      "text/plain": [
       "1           Lionel Messi\n",
       "3            Luis Suárez\n",
       "0      Cristiano Ronaldo\n",
       "14       Gonzalo Higuaín\n",
       "6     Robert Lewandowski\n",
       "Name: name, dtype: object"
      ]
     },
     "execution_count": 33,
     "metadata": {},
     "output_type": "execute_result"
    }
   ],
   "source": [
    "fifa.sort_values(by=\"finishing\", ascending=False).head(5).name"
   ]
  },
  {
   "cell_type": "markdown",
   "metadata": {},
   "source": [
    "### 3. Who is the tallest French lefted foot player?"
   ]
  },
  {
   "cell_type": "code",
   "execution_count": 34,
   "metadata": {},
   "outputs": [
    {
     "data": {
      "text/plain": [
       "819    Romain Thomas\n",
       "Name: name, dtype: object"
      ]
     },
     "execution_count": 34,
     "metadata": {},
     "output_type": "execute_result"
    }
   ],
   "source": [
    "fifa[(fifa.preffered_foot==\"Left\") & (fifa.nationality==\"France\")].sort_values(by=\"height\", ascending=False).head(1).name\n",
    "#Romain Thomas"
   ]
  },
  {
   "cell_type": "markdown",
   "metadata": {},
   "source": [
    "### 4. Show a pandas series of every attribute's correlation with the rating attribute"
   ]
  },
  {
   "cell_type": "code",
   "execution_count": 35,
   "metadata": {},
   "outputs": [
    {
     "data": {
      "text/plain": [
       "rating                1.000000\n",
       "height                0.031355\n",
       "weight                0.031355\n",
       "age                   0.043735\n",
       "weak_foot             0.128486\n",
       "skill_moves           0.197929\n",
       "ball_control          0.324058\n",
       "dribbling             0.247239\n",
       "marking               0.067274\n",
       "sliding_tackle        0.091544\n",
       "standing_tackle       0.107487\n",
       "aggression            0.156163\n",
       "reactions             0.690226\n",
       "attacking_position    0.220396\n",
       "interceptions         0.126365\n",
       "vision                0.306819\n",
       "composure             0.436876\n",
       "crossing              0.209043\n",
       "short_pass            0.367006\n",
       "long_pass             0.307635\n",
       "acceleration          0.128840\n",
       "speed                 0.130594\n",
       "stamina               0.175219\n",
       "strength              0.105597\n",
       "balance               0.081555\n",
       "agility               0.145819\n",
       "jumping               0.107216\n",
       "heading               0.173646\n",
       "shot_power            0.248798\n",
       "finishing             0.213504\n",
       "long_shots            0.228673\n",
       "curve                 0.241254\n",
       "freekick_accuracy     0.202170\n",
       "penalties             0.218285\n",
       "volleys               0.243744\n",
       "Name: rating, dtype: float64"
      ]
     },
     "execution_count": 35,
     "metadata": {},
     "output_type": "execute_result"
    }
   ],
   "source": [
    "fifa.corr()[\"rating\"]"
   ]
  },
  {
   "cell_type": "markdown",
   "metadata": {},
   "source": [
    "### 5. Make a heatmap of the dataset's correlation table"
   ]
  },
  {
   "cell_type": "code",
   "execution_count": 36,
   "metadata": {},
   "outputs": [
    {
     "data": {
      "text/plain": [
       "<matplotlib.axes._subplots.AxesSubplot at 0x7fa8e3e42990>"
      ]
     },
     "execution_count": 36,
     "metadata": {},
     "output_type": "execute_result"
    },
    {
     "data": {
      "image/png": "[encoded data removed]",
      "text/plain": [
       "<matplotlib.figure.Figure at 0x7fa8e2f68a10>"
      ]
     },
     "metadata": {},
     "output_type": "display_data"
    }
   ],
   "source": [
    "sns.heatmap(fifa.corr())"
   ]
  },
  {
   "cell_type": "markdown",
   "metadata": {},
   "source": [
    "### 6. Return a dataframe with only players from the following clubs. Call the dataframe fifa2. From now on we'll be using fifa2"
   ]
  },
  {
   "cell_type": "code",
   "execution_count": 37,
   "metadata": {
    "collapsed": true
   },
   "outputs": [],
   "source": [
    "clubs_list = ['Real Madrid', 'FC Barcelona', 'FC Bayern', 'Manchester Utd',\n",
    "       'Chelsea', 'Arsenal', 'Juventus', 'PSG', 'Manchester City',\n",
    "              'Bor. Dortmund', 'Liverpool', 'Roma']"
   ]
  },
  {
   "cell_type": "code",
   "execution_count": 38,
   "metadata": {},
   "outputs": [
    {
     "data": {
      "text/html": [
       "<div>\n",
       "<style>\n",
       "    .dataframe thead tr:only-child th {\n",
       "        text-align: right;\n",
       "    }\n",
       "\n",
       "    .dataframe thead th {\n",
       "        text-align: left;\n",
       "    }\n",
       "\n",
       "    .dataframe tbody tr th {\n",
       "        vertical-align: top;\n",
       "    }\n",
       "</style>\n",
       "<table border=\"1\" class=\"dataframe\">\n",
       "  <thead>\n",
       "    <tr style=\"text-align: right;\">\n",
       "      <th></th>\n",
       "      <th>name</th>\n",
       "      <th>nationality</th>\n",
       "      <th>club</th>\n",
       "      <th>club_position</th>\n",
       "      <th>rating</th>\n",
       "      <th>height</th>\n",
       "      <th>weight</th>\n",
       "      <th>preffered_foot</th>\n",
       "      <th>birth_date</th>\n",
       "      <th>age</th>\n",
       "      <th>...</th>\n",
       "      <th>agility</th>\n",
       "      <th>jumping</th>\n",
       "      <th>heading</th>\n",
       "      <th>shot_power</th>\n",
       "      <th>finishing</th>\n",
       "      <th>long_shots</th>\n",
       "      <th>curve</th>\n",
       "      <th>freekick_accuracy</th>\n",
       "      <th>penalties</th>\n",
       "      <th>volleys</th>\n",
       "    </tr>\n",
       "  </thead>\n",
       "  <tbody>\n",
       "    <tr>\n",
       "      <th>0</th>\n",
       "      <td>Cristiano Ronaldo</td>\n",
       "      <td>Portugal</td>\n",
       "      <td>Real Madrid</td>\n",
       "      <td>LW</td>\n",
       "      <td>94</td>\n",
       "      <td>185.0</td>\n",
       "      <td>185.0</td>\n",
       "      <td>Right</td>\n",
       "      <td>02/05/1985</td>\n",
       "      <td>32</td>\n",
       "      <td>...</td>\n",
       "      <td>90</td>\n",
       "      <td>95</td>\n",
       "      <td>85</td>\n",
       "      <td>92</td>\n",
       "      <td>93</td>\n",
       "      <td>90</td>\n",
       "      <td>81</td>\n",
       "      <td>76</td>\n",
       "      <td>85</td>\n",
       "      <td>88</td>\n",
       "    </tr>\n",
       "    <tr>\n",
       "      <th>1</th>\n",
       "      <td>Lionel Messi</td>\n",
       "      <td>Argentina</td>\n",
       "      <td>FC Barcelona</td>\n",
       "      <td>RW</td>\n",
       "      <td>93</td>\n",
       "      <td>170.0</td>\n",
       "      <td>170.0</td>\n",
       "      <td>Left</td>\n",
       "      <td>06/24/1987</td>\n",
       "      <td>29</td>\n",
       "      <td>...</td>\n",
       "      <td>90</td>\n",
       "      <td>68</td>\n",
       "      <td>71</td>\n",
       "      <td>85</td>\n",
       "      <td>95</td>\n",
       "      <td>88</td>\n",
       "      <td>89</td>\n",
       "      <td>90</td>\n",
       "      <td>74</td>\n",
       "      <td>85</td>\n",
       "    </tr>\n",
       "    <tr>\n",
       "      <th>2</th>\n",
       "      <td>Neymar</td>\n",
       "      <td>Brazil</td>\n",
       "      <td>FC Barcelona</td>\n",
       "      <td>LW</td>\n",
       "      <td>92</td>\n",
       "      <td>174.0</td>\n",
       "      <td>174.0</td>\n",
       "      <td>Right</td>\n",
       "      <td>02/05/1992</td>\n",
       "      <td>25</td>\n",
       "      <td>...</td>\n",
       "      <td>96</td>\n",
       "      <td>61</td>\n",
       "      <td>62</td>\n",
       "      <td>78</td>\n",
       "      <td>89</td>\n",
       "      <td>77</td>\n",
       "      <td>79</td>\n",
       "      <td>84</td>\n",
       "      <td>81</td>\n",
       "      <td>83</td>\n",
       "    </tr>\n",
       "    <tr>\n",
       "      <th>3</th>\n",
       "      <td>Luis Suárez</td>\n",
       "      <td>Uruguay</td>\n",
       "      <td>FC Barcelona</td>\n",
       "      <td>ST</td>\n",
       "      <td>92</td>\n",
       "      <td>182.0</td>\n",
       "      <td>182.0</td>\n",
       "      <td>Right</td>\n",
       "      <td>01/24/1987</td>\n",
       "      <td>30</td>\n",
       "      <td>...</td>\n",
       "      <td>86</td>\n",
       "      <td>69</td>\n",
       "      <td>77</td>\n",
       "      <td>87</td>\n",
       "      <td>94</td>\n",
       "      <td>86</td>\n",
       "      <td>86</td>\n",
       "      <td>84</td>\n",
       "      <td>85</td>\n",
       "      <td>88</td>\n",
       "    </tr>\n",
       "    <tr>\n",
       "      <th>6</th>\n",
       "      <td>Robert Lewandowski</td>\n",
       "      <td>Poland</td>\n",
       "      <td>FC Bayern</td>\n",
       "      <td>ST</td>\n",
       "      <td>90</td>\n",
       "      <td>185.0</td>\n",
       "      <td>185.0</td>\n",
       "      <td>Right</td>\n",
       "      <td>08/21/1988</td>\n",
       "      <td>28</td>\n",
       "      <td>...</td>\n",
       "      <td>78</td>\n",
       "      <td>84</td>\n",
       "      <td>85</td>\n",
       "      <td>86</td>\n",
       "      <td>91</td>\n",
       "      <td>82</td>\n",
       "      <td>77</td>\n",
       "      <td>76</td>\n",
       "      <td>81</td>\n",
       "      <td>86</td>\n",
       "    </tr>\n",
       "    <tr>\n",
       "      <th>7</th>\n",
       "      <td>Gareth Bale</td>\n",
       "      <td>Wales</td>\n",
       "      <td>Real Madrid</td>\n",
       "      <td>RW</td>\n",
       "      <td>90</td>\n",
       "      <td>183.0</td>\n",
       "      <td>183.0</td>\n",
       "      <td>Left</td>\n",
       "      <td>07/16/1989</td>\n",
       "      <td>27</td>\n",
       "      <td>...</td>\n",
       "      <td>77</td>\n",
       "      <td>85</td>\n",
       "      <td>86</td>\n",
       "      <td>91</td>\n",
       "      <td>87</td>\n",
       "      <td>90</td>\n",
       "      <td>86</td>\n",
       "      <td>85</td>\n",
       "      <td>76</td>\n",
       "      <td>76</td>\n",
       "    </tr>\n",
       "    <tr>\n",
       "      <th>8</th>\n",
       "      <td>Zlatan Ibrahimović</td>\n",
       "      <td>Sweden</td>\n",
       "      <td>Manchester Utd</td>\n",
       "      <td>ST</td>\n",
       "      <td>90</td>\n",
       "      <td>195.0</td>\n",
       "      <td>195.0</td>\n",
       "      <td>Right</td>\n",
       "      <td>10/03/1981</td>\n",
       "      <td>35</td>\n",
       "      <td>...</td>\n",
       "      <td>86</td>\n",
       "      <td>72</td>\n",
       "      <td>80</td>\n",
       "      <td>93</td>\n",
       "      <td>90</td>\n",
       "      <td>88</td>\n",
       "      <td>82</td>\n",
       "      <td>82</td>\n",
       "      <td>91</td>\n",
       "      <td>93</td>\n",
       "    </tr>\n",
       "    <tr>\n",
       "      <th>10</th>\n",
       "      <td>Jérôme Boateng</td>\n",
       "      <td>Germany</td>\n",
       "      <td>FC Bayern</td>\n",
       "      <td>Sub</td>\n",
       "      <td>89</td>\n",
       "      <td>192.0</td>\n",
       "      <td>192.0</td>\n",
       "      <td>Right</td>\n",
       "      <td>09/03/1988</td>\n",
       "      <td>28</td>\n",
       "      <td>...</td>\n",
       "      <td>58</td>\n",
       "      <td>75</td>\n",
       "      <td>86</td>\n",
       "      <td>79</td>\n",
       "      <td>34</td>\n",
       "      <td>58</td>\n",
       "      <td>56</td>\n",
       "      <td>31</td>\n",
       "      <td>46</td>\n",
       "      <td>53</td>\n",
       "    </tr>\n",
       "    <tr>\n",
       "      <th>11</th>\n",
       "      <td>Eden Hazard</td>\n",
       "      <td>Belgium</td>\n",
       "      <td>Chelsea</td>\n",
       "      <td>LW</td>\n",
       "      <td>89</td>\n",
       "      <td>173.0</td>\n",
       "      <td>173.0</td>\n",
       "      <td>Right</td>\n",
       "      <td>01/07/1991</td>\n",
       "      <td>26</td>\n",
       "      <td>...</td>\n",
       "      <td>92</td>\n",
       "      <td>59</td>\n",
       "      <td>57</td>\n",
       "      <td>79</td>\n",
       "      <td>81</td>\n",
       "      <td>82</td>\n",
       "      <td>82</td>\n",
       "      <td>79</td>\n",
       "      <td>86</td>\n",
       "      <td>79</td>\n",
       "    </tr>\n",
       "    <tr>\n",
       "      <th>12</th>\n",
       "      <td>Luka Modrić</td>\n",
       "      <td>Croatia</td>\n",
       "      <td>Real Madrid</td>\n",
       "      <td>RCM</td>\n",
       "      <td>89</td>\n",
       "      <td>174.0</td>\n",
       "      <td>174.0</td>\n",
       "      <td>Right</td>\n",
       "      <td>09/09/1985</td>\n",
       "      <td>31</td>\n",
       "      <td>...</td>\n",
       "      <td>93</td>\n",
       "      <td>67</td>\n",
       "      <td>55</td>\n",
       "      <td>73</td>\n",
       "      <td>71</td>\n",
       "      <td>82</td>\n",
       "      <td>79</td>\n",
       "      <td>77</td>\n",
       "      <td>80</td>\n",
       "      <td>74</td>\n",
       "    </tr>\n",
       "    <tr>\n",
       "      <th>13</th>\n",
       "      <td>Mesut Özil</td>\n",
       "      <td>Germany</td>\n",
       "      <td>Arsenal</td>\n",
       "      <td>CAM</td>\n",
       "      <td>89</td>\n",
       "      <td>180.0</td>\n",
       "      <td>180.0</td>\n",
       "      <td>Left</td>\n",
       "      <td>10/15/1988</td>\n",
       "      <td>28</td>\n",
       "      <td>...</td>\n",
       "      <td>84</td>\n",
       "      <td>52</td>\n",
       "      <td>54</td>\n",
       "      <td>70</td>\n",
       "      <td>75</td>\n",
       "      <td>76</td>\n",
       "      <td>84</td>\n",
       "      <td>79</td>\n",
       "      <td>67</td>\n",
       "      <td>77</td>\n",
       "    </tr>\n",
       "    <tr>\n",
       "      <th>14</th>\n",
       "      <td>Gonzalo Higuaín</td>\n",
       "      <td>Argentina</td>\n",
       "      <td>Juventus</td>\n",
       "      <td>ST</td>\n",
       "      <td>89</td>\n",
       "      <td>184.0</td>\n",
       "      <td>184.0</td>\n",
       "      <td>Right</td>\n",
       "      <td>12/10/1987</td>\n",
       "      <td>29</td>\n",
       "      <td>...</td>\n",
       "      <td>75</td>\n",
       "      <td>77</td>\n",
       "      <td>80</td>\n",
       "      <td>86</td>\n",
       "      <td>92</td>\n",
       "      <td>80</td>\n",
       "      <td>74</td>\n",
       "      <td>62</td>\n",
       "      <td>70</td>\n",
       "      <td>88</td>\n",
       "    </tr>\n",
       "    <tr>\n",
       "      <th>15</th>\n",
       "      <td>Thiago Silva</td>\n",
       "      <td>Brazil</td>\n",
       "      <td>PSG</td>\n",
       "      <td>LCB</td>\n",
       "      <td>89</td>\n",
       "      <td>183.0</td>\n",
       "      <td>183.0</td>\n",
       "      <td>Right</td>\n",
       "      <td>09/22/1984</td>\n",
       "      <td>32</td>\n",
       "      <td>...</td>\n",
       "      <td>75</td>\n",
       "      <td>93</td>\n",
       "      <td>82</td>\n",
       "      <td>78</td>\n",
       "      <td>38</td>\n",
       "      <td>71</td>\n",
       "      <td>61</td>\n",
       "      <td>73</td>\n",
       "      <td>71</td>\n",
       "      <td>63</td>\n",
       "    </tr>\n",
       "    <tr>\n",
       "      <th>16</th>\n",
       "      <td>Sergio Ramos</td>\n",
       "      <td>Spain</td>\n",
       "      <td>Real Madrid</td>\n",
       "      <td>LCB</td>\n",
       "      <td>89</td>\n",
       "      <td>183.0</td>\n",
       "      <td>183.0</td>\n",
       "      <td>Right</td>\n",
       "      <td>03/30/1986</td>\n",
       "      <td>31</td>\n",
       "      <td>...</td>\n",
       "      <td>80</td>\n",
       "      <td>92</td>\n",
       "      <td>90</td>\n",
       "      <td>79</td>\n",
       "      <td>60</td>\n",
       "      <td>55</td>\n",
       "      <td>73</td>\n",
       "      <td>67</td>\n",
       "      <td>68</td>\n",
       "      <td>66</td>\n",
       "    </tr>\n",
       "    <tr>\n",
       "      <th>17</th>\n",
       "      <td>Sergio Agüero</td>\n",
       "      <td>Argentina</td>\n",
       "      <td>Manchester City</td>\n",
       "      <td>ST</td>\n",
       "      <td>89</td>\n",
       "      <td>173.0</td>\n",
       "      <td>173.0</td>\n",
       "      <td>Right</td>\n",
       "      <td>06/02/1988</td>\n",
       "      <td>28</td>\n",
       "      <td>...</td>\n",
       "      <td>86</td>\n",
       "      <td>80</td>\n",
       "      <td>68</td>\n",
       "      <td>87</td>\n",
       "      <td>90</td>\n",
       "      <td>84</td>\n",
       "      <td>82</td>\n",
       "      <td>72</td>\n",
       "      <td>80</td>\n",
       "      <td>85</td>\n",
       "    </tr>\n",
       "    <tr>\n",
       "      <th>18</th>\n",
       "      <td>Paul Pogba</td>\n",
       "      <td>France</td>\n",
       "      <td>Manchester Utd</td>\n",
       "      <td>LCM</td>\n",
       "      <td>88</td>\n",
       "      <td>191.0</td>\n",
       "      <td>191.0</td>\n",
       "      <td>Right</td>\n",
       "      <td>03/15/1993</td>\n",
       "      <td>24</td>\n",
       "      <td>...</td>\n",
       "      <td>79</td>\n",
       "      <td>85</td>\n",
       "      <td>73</td>\n",
       "      <td>90</td>\n",
       "      <td>71</td>\n",
       "      <td>88</td>\n",
       "      <td>82</td>\n",
       "      <td>82</td>\n",
       "      <td>76</td>\n",
       "      <td>84</td>\n",
       "    </tr>\n",
       "    <tr>\n",
       "      <th>20</th>\n",
       "      <td>Kevin De Bruyne</td>\n",
       "      <td>Belgium</td>\n",
       "      <td>Manchester City</td>\n",
       "      <td>RCM</td>\n",
       "      <td>88</td>\n",
       "      <td>181.0</td>\n",
       "      <td>181.0</td>\n",
       "      <td>Right</td>\n",
       "      <td>06/28/1991</td>\n",
       "      <td>25</td>\n",
       "      <td>...</td>\n",
       "      <td>78</td>\n",
       "      <td>65</td>\n",
       "      <td>53</td>\n",
       "      <td>85</td>\n",
       "      <td>83</td>\n",
       "      <td>86</td>\n",
       "      <td>81</td>\n",
       "      <td>84</td>\n",
       "      <td>77</td>\n",
       "      <td>82</td>\n",
       "    </tr>\n",
       "    <tr>\n",
       "      <th>21</th>\n",
       "      <td>Marco Reus</td>\n",
       "      <td>Germany</td>\n",
       "      <td>Bor. Dortmund</td>\n",
       "      <td>LW</td>\n",
       "      <td>88</td>\n",
       "      <td>182.0</td>\n",
       "      <td>182.0</td>\n",
       "      <td>Right</td>\n",
       "      <td>05/31/1989</td>\n",
       "      <td>27</td>\n",
       "      <td>...</td>\n",
       "      <td>87</td>\n",
       "      <td>72</td>\n",
       "      <td>51</td>\n",
       "      <td>87</td>\n",
       "      <td>84</td>\n",
       "      <td>85</td>\n",
       "      <td>90</td>\n",
       "      <td>84</td>\n",
       "      <td>84</td>\n",
       "      <td>88</td>\n",
       "    </tr>\n",
       "    <tr>\n",
       "      <th>22</th>\n",
       "      <td>Alexis Sánchez</td>\n",
       "      <td>Chile</td>\n",
       "      <td>Arsenal</td>\n",
       "      <td>ST</td>\n",
       "      <td>88</td>\n",
       "      <td>169.0</td>\n",
       "      <td>169.0</td>\n",
       "      <td>Right</td>\n",
       "      <td>12/19/1988</td>\n",
       "      <td>28</td>\n",
       "      <td>...</td>\n",
       "      <td>90</td>\n",
       "      <td>85</td>\n",
       "      <td>70</td>\n",
       "      <td>84</td>\n",
       "      <td>85</td>\n",
       "      <td>81</td>\n",
       "      <td>78</td>\n",
       "      <td>78</td>\n",
       "      <td>77</td>\n",
       "      <td>83</td>\n",
       "    </tr>\n",
       "    <tr>\n",
       "      <th>23</th>\n",
       "      <td>Toni Kroos</td>\n",
       "      <td>Germany</td>\n",
       "      <td>Real Madrid</td>\n",
       "      <td>LCM</td>\n",
       "      <td>88</td>\n",
       "      <td>182.0</td>\n",
       "      <td>182.0</td>\n",
       "      <td>Right</td>\n",
       "      <td>01/04/1990</td>\n",
       "      <td>27</td>\n",
       "      <td>...</td>\n",
       "      <td>70</td>\n",
       "      <td>34</td>\n",
       "      <td>54</td>\n",
       "      <td>87</td>\n",
       "      <td>75</td>\n",
       "      <td>88</td>\n",
       "      <td>85</td>\n",
       "      <td>84</td>\n",
       "      <td>73</td>\n",
       "      <td>82</td>\n",
       "    </tr>\n",
       "    <tr>\n",
       "      <th>25</th>\n",
       "      <td>Mats Hummels</td>\n",
       "      <td>Germany</td>\n",
       "      <td>FC Bayern</td>\n",
       "      <td>LCB</td>\n",
       "      <td>88</td>\n",
       "      <td>191.0</td>\n",
       "      <td>191.0</td>\n",
       "      <td>Right</td>\n",
       "      <td>12/16/1988</td>\n",
       "      <td>28</td>\n",
       "      <td>...</td>\n",
       "      <td>64</td>\n",
       "      <td>68</td>\n",
       "      <td>90</td>\n",
       "      <td>71</td>\n",
       "      <td>55</td>\n",
       "      <td>51</td>\n",
       "      <td>65</td>\n",
       "      <td>53</td>\n",
       "      <td>68</td>\n",
       "      <td>60</td>\n",
       "    </tr>\n",
       "    <tr>\n",
       "      <th>27</th>\n",
       "      <td>Giorgio Chiellini</td>\n",
       "      <td>Italy</td>\n",
       "      <td>Juventus</td>\n",
       "      <td>LCB</td>\n",
       "      <td>88</td>\n",
       "      <td>187.0</td>\n",
       "      <td>187.0</td>\n",
       "      <td>Left</td>\n",
       "      <td>08/14/1984</td>\n",
       "      <td>32</td>\n",
       "      <td>...</td>\n",
       "      <td>59</td>\n",
       "      <td>89</td>\n",
       "      <td>80</td>\n",
       "      <td>78</td>\n",
       "      <td>33</td>\n",
       "      <td>49</td>\n",
       "      <td>60</td>\n",
       "      <td>31</td>\n",
       "      <td>50</td>\n",
       "      <td>45</td>\n",
       "    </tr>\n",
       "    <tr>\n",
       "      <th>28</th>\n",
       "      <td>Philipp Lahm</td>\n",
       "      <td>Germany</td>\n",
       "      <td>FC Bayern</td>\n",
       "      <td>RB</td>\n",
       "      <td>88</td>\n",
       "      <td>170.0</td>\n",
       "      <td>170.0</td>\n",
       "      <td>Right</td>\n",
       "      <td>11/11/1983</td>\n",
       "      <td>33</td>\n",
       "      <td>...</td>\n",
       "      <td>82</td>\n",
       "      <td>72</td>\n",
       "      <td>63</td>\n",
       "      <td>57</td>\n",
       "      <td>47</td>\n",
       "      <td>65</td>\n",
       "      <td>77</td>\n",
       "      <td>59</td>\n",
       "      <td>69</td>\n",
       "      <td>66</td>\n",
       "    </tr>\n",
       "    <tr>\n",
       "      <th>29</th>\n",
       "      <td>Pepe</td>\n",
       "      <td>Portugal</td>\n",
       "      <td>Real Madrid</td>\n",
       "      <td>RCB</td>\n",
       "      <td>88</td>\n",
       "      <td>188.0</td>\n",
       "      <td>188.0</td>\n",
       "      <td>Right</td>\n",
       "      <td>02/26/1983</td>\n",
       "      <td>34</td>\n",
       "      <td>...</td>\n",
       "      <td>63</td>\n",
       "      <td>76</td>\n",
       "      <td>82</td>\n",
       "      <td>63</td>\n",
       "      <td>46</td>\n",
       "      <td>56</td>\n",
       "      <td>44</td>\n",
       "      <td>47</td>\n",
       "      <td>57</td>\n",
       "      <td>23</td>\n",
       "    </tr>\n",
       "    <tr>\n",
       "      <th>32</th>\n",
       "      <td>Iniesta</td>\n",
       "      <td>Spain</td>\n",
       "      <td>FC Barcelona</td>\n",
       "      <td>LM</td>\n",
       "      <td>88</td>\n",
       "      <td>171.0</td>\n",
       "      <td>171.0</td>\n",
       "      <td>Right</td>\n",
       "      <td>05/11/1984</td>\n",
       "      <td>32</td>\n",
       "      <td>...</td>\n",
       "      <td>82</td>\n",
       "      <td>54</td>\n",
       "      <td>54</td>\n",
       "      <td>65</td>\n",
       "      <td>73</td>\n",
       "      <td>74</td>\n",
       "      <td>80</td>\n",
       "      <td>70</td>\n",
       "      <td>71</td>\n",
       "      <td>74</td>\n",
       "    </tr>\n",
       "    <tr>\n",
       "      <th>34</th>\n",
       "      <td>James Rodríguez</td>\n",
       "      <td>Colombia</td>\n",
       "      <td>Real Madrid</td>\n",
       "      <td>CAM</td>\n",
       "      <td>87</td>\n",
       "      <td>180.0</td>\n",
       "      <td>180.0</td>\n",
       "      <td>Left</td>\n",
       "      <td>07/12/1991</td>\n",
       "      <td>25</td>\n",
       "      <td>...</td>\n",
       "      <td>82</td>\n",
       "      <td>54</td>\n",
       "      <td>62</td>\n",
       "      <td>86</td>\n",
       "      <td>82</td>\n",
       "      <td>91</td>\n",
       "      <td>87</td>\n",
       "      <td>86</td>\n",
       "      <td>81</td>\n",
       "      <td>91</td>\n",
       "    </tr>\n",
       "    <tr>\n",
       "      <th>35</th>\n",
       "      <td>Pierre-Emerick Aubameyang</td>\n",
       "      <td>Gabon</td>\n",
       "      <td>Bor. Dortmund</td>\n",
       "      <td>ST</td>\n",
       "      <td>87</td>\n",
       "      <td>187.0</td>\n",
       "      <td>187.0</td>\n",
       "      <td>Right</td>\n",
       "      <td>06/18/1989</td>\n",
       "      <td>27</td>\n",
       "      <td>...</td>\n",
       "      <td>80</td>\n",
       "      <td>77</td>\n",
       "      <td>79</td>\n",
       "      <td>81</td>\n",
       "      <td>88</td>\n",
       "      <td>79</td>\n",
       "      <td>78</td>\n",
       "      <td>74</td>\n",
       "      <td>82</td>\n",
       "      <td>86</td>\n",
       "    </tr>\n",
       "    <tr>\n",
       "      <th>36</th>\n",
       "      <td>Leonardo Bonucci</td>\n",
       "      <td>Italy</td>\n",
       "      <td>Juventus</td>\n",
       "      <td>RCB</td>\n",
       "      <td>87</td>\n",
       "      <td>190.0</td>\n",
       "      <td>190.0</td>\n",
       "      <td>Right</td>\n",
       "      <td>05/01/1987</td>\n",
       "      <td>29</td>\n",
       "      <td>...</td>\n",
       "      <td>61</td>\n",
       "      <td>85</td>\n",
       "      <td>84</td>\n",
       "      <td>74</td>\n",
       "      <td>37</td>\n",
       "      <td>65</td>\n",
       "      <td>56</td>\n",
       "      <td>61</td>\n",
       "      <td>70</td>\n",
       "      <td>55</td>\n",
       "    </tr>\n",
       "    <tr>\n",
       "      <th>37</th>\n",
       "      <td>Arturo Vidal</td>\n",
       "      <td>Chile</td>\n",
       "      <td>FC Bayern</td>\n",
       "      <td>LDM</td>\n",
       "      <td>87</td>\n",
       "      <td>180.0</td>\n",
       "      <td>180.0</td>\n",
       "      <td>Right</td>\n",
       "      <td>05/22/1987</td>\n",
       "      <td>29</td>\n",
       "      <td>...</td>\n",
       "      <td>75</td>\n",
       "      <td>82</td>\n",
       "      <td>81</td>\n",
       "      <td>84</td>\n",
       "      <td>77</td>\n",
       "      <td>85</td>\n",
       "      <td>76</td>\n",
       "      <td>68</td>\n",
       "      <td>84</td>\n",
       "      <td>78</td>\n",
       "    </tr>\n",
       "    <tr>\n",
       "      <th>38</th>\n",
       "      <td>Ivan Rakitić</td>\n",
       "      <td>Croatia</td>\n",
       "      <td>FC Barcelona</td>\n",
       "      <td>CAM</td>\n",
       "      <td>87</td>\n",
       "      <td>184.0</td>\n",
       "      <td>184.0</td>\n",
       "      <td>Right</td>\n",
       "      <td>03/10/1988</td>\n",
       "      <td>29</td>\n",
       "      <td>...</td>\n",
       "      <td>71</td>\n",
       "      <td>51</td>\n",
       "      <td>58</td>\n",
       "      <td>84</td>\n",
       "      <td>83</td>\n",
       "      <td>88</td>\n",
       "      <td>88</td>\n",
       "      <td>84</td>\n",
       "      <td>78</td>\n",
       "      <td>80</td>\n",
       "    </tr>\n",
       "    <tr>\n",
       "      <th>...</th>\n",
       "      <td>...</td>\n",
       "      <td>...</td>\n",
       "      <td>...</td>\n",
       "      <td>...</td>\n",
       "      <td>...</td>\n",
       "      <td>...</td>\n",
       "      <td>...</td>\n",
       "      <td>...</td>\n",
       "      <td>...</td>\n",
       "      <td>...</td>\n",
       "      <td>...</td>\n",
       "      <td>...</td>\n",
       "      <td>...</td>\n",
       "      <td>...</td>\n",
       "      <td>...</td>\n",
       "      <td>...</td>\n",
       "      <td>...</td>\n",
       "      <td>...</td>\n",
       "      <td>...</td>\n",
       "      <td>...</td>\n",
       "      <td>...</td>\n",
       "    </tr>\n",
       "    <tr>\n",
       "      <th>1640</th>\n",
       "      <td>Presnel Kimpembe</td>\n",
       "      <td>France</td>\n",
       "      <td>PSG</td>\n",
       "      <td>Sub</td>\n",
       "      <td>75</td>\n",
       "      <td>183.0</td>\n",
       "      <td>183.0</td>\n",
       "      <td>Left</td>\n",
       "      <td>08/13/1995</td>\n",
       "      <td>21</td>\n",
       "      <td>...</td>\n",
       "      <td>66</td>\n",
       "      <td>75</td>\n",
       "      <td>69</td>\n",
       "      <td>47</td>\n",
       "      <td>25</td>\n",
       "      <td>27</td>\n",
       "      <td>28</td>\n",
       "      <td>32</td>\n",
       "      <td>43</td>\n",
       "      <td>28</td>\n",
       "    </tr>\n",
       "    <tr>\n",
       "      <th>1643</th>\n",
       "      <td>Mikel Merino</td>\n",
       "      <td>Spain</td>\n",
       "      <td>Bor. Dortmund</td>\n",
       "      <td>Sub</td>\n",
       "      <td>75</td>\n",
       "      <td>187.0</td>\n",
       "      <td>187.0</td>\n",
       "      <td>Left</td>\n",
       "      <td>06/22/1996</td>\n",
       "      <td>20</td>\n",
       "      <td>...</td>\n",
       "      <td>64</td>\n",
       "      <td>68</td>\n",
       "      <td>79</td>\n",
       "      <td>63</td>\n",
       "      <td>62</td>\n",
       "      <td>67</td>\n",
       "      <td>68</td>\n",
       "      <td>69</td>\n",
       "      <td>58</td>\n",
       "      <td>58</td>\n",
       "    </tr>\n",
       "    <tr>\n",
       "      <th>1721</th>\n",
       "      <td>Nathan Aké</td>\n",
       "      <td>Netherlands</td>\n",
       "      <td>Chelsea</td>\n",
       "      <td>Sub</td>\n",
       "      <td>75</td>\n",
       "      <td>180.0</td>\n",
       "      <td>180.0</td>\n",
       "      <td>Left</td>\n",
       "      <td>02/18/1995</td>\n",
       "      <td>22</td>\n",
       "      <td>...</td>\n",
       "      <td>66</td>\n",
       "      <td>77</td>\n",
       "      <td>69</td>\n",
       "      <td>63</td>\n",
       "      <td>41</td>\n",
       "      <td>56</td>\n",
       "      <td>63</td>\n",
       "      <td>59</td>\n",
       "      <td>48</td>\n",
       "      <td>52</td>\n",
       "    </tr>\n",
       "    <tr>\n",
       "      <th>1776</th>\n",
       "      <td>Juan Jesus</td>\n",
       "      <td>Brazil</td>\n",
       "      <td>Roma</td>\n",
       "      <td>Sub</td>\n",
       "      <td>75</td>\n",
       "      <td>185.0</td>\n",
       "      <td>185.0</td>\n",
       "      <td>Left</td>\n",
       "      <td>06/10/1991</td>\n",
       "      <td>25</td>\n",
       "      <td>...</td>\n",
       "      <td>69</td>\n",
       "      <td>88</td>\n",
       "      <td>74</td>\n",
       "      <td>62</td>\n",
       "      <td>20</td>\n",
       "      <td>35</td>\n",
       "      <td>48</td>\n",
       "      <td>36</td>\n",
       "      <td>37</td>\n",
       "      <td>17</td>\n",
       "    </tr>\n",
       "    <tr>\n",
       "      <th>1830</th>\n",
       "      <td>Park Joo Ho</td>\n",
       "      <td>Korea Republic</td>\n",
       "      <td>Bor. Dortmund</td>\n",
       "      <td>Res</td>\n",
       "      <td>75</td>\n",
       "      <td>176.0</td>\n",
       "      <td>176.0</td>\n",
       "      <td>Left</td>\n",
       "      <td>01/16/1987</td>\n",
       "      <td>30</td>\n",
       "      <td>...</td>\n",
       "      <td>78</td>\n",
       "      <td>73</td>\n",
       "      <td>57</td>\n",
       "      <td>67</td>\n",
       "      <td>31</td>\n",
       "      <td>52</td>\n",
       "      <td>71</td>\n",
       "      <td>59</td>\n",
       "      <td>62</td>\n",
       "      <td>42</td>\n",
       "    </tr>\n",
       "    <tr>\n",
       "      <th>1872</th>\n",
       "      <td>Clément Grenier</td>\n",
       "      <td>France</td>\n",
       "      <td>Roma</td>\n",
       "      <td>Sub</td>\n",
       "      <td>75</td>\n",
       "      <td>186.0</td>\n",
       "      <td>186.0</td>\n",
       "      <td>Right</td>\n",
       "      <td>01/07/1991</td>\n",
       "      <td>26</td>\n",
       "      <td>...</td>\n",
       "      <td>76</td>\n",
       "      <td>65</td>\n",
       "      <td>71</td>\n",
       "      <td>82</td>\n",
       "      <td>62</td>\n",
       "      <td>79</td>\n",
       "      <td>76</td>\n",
       "      <td>80</td>\n",
       "      <td>73</td>\n",
       "      <td>72</td>\n",
       "    </tr>\n",
       "    <tr>\n",
       "      <th>2078</th>\n",
       "      <td>Giovani Lo Celso</td>\n",
       "      <td>Argentina</td>\n",
       "      <td>PSG</td>\n",
       "      <td>Sub</td>\n",
       "      <td>74</td>\n",
       "      <td>177.0</td>\n",
       "      <td>177.0</td>\n",
       "      <td>Left</td>\n",
       "      <td>04/09/1996</td>\n",
       "      <td>20</td>\n",
       "      <td>...</td>\n",
       "      <td>78</td>\n",
       "      <td>57</td>\n",
       "      <td>36</td>\n",
       "      <td>58</td>\n",
       "      <td>55</td>\n",
       "      <td>59</td>\n",
       "      <td>67</td>\n",
       "      <td>72</td>\n",
       "      <td>55</td>\n",
       "      <td>69</td>\n",
       "    </tr>\n",
       "    <tr>\n",
       "      <th>2102</th>\n",
       "      <td>Mariano</td>\n",
       "      <td>Dominican Republic</td>\n",
       "      <td>Real Madrid</td>\n",
       "      <td>Sub</td>\n",
       "      <td>74</td>\n",
       "      <td>179.0</td>\n",
       "      <td>179.0</td>\n",
       "      <td>Right</td>\n",
       "      <td>08/01/1993</td>\n",
       "      <td>23</td>\n",
       "      <td>...</td>\n",
       "      <td>80</td>\n",
       "      <td>91</td>\n",
       "      <td>69</td>\n",
       "      <td>85</td>\n",
       "      <td>80</td>\n",
       "      <td>76</td>\n",
       "      <td>77</td>\n",
       "      <td>72</td>\n",
       "      <td>68</td>\n",
       "      <td>66</td>\n",
       "    </tr>\n",
       "    <tr>\n",
       "      <th>2156</th>\n",
       "      <td>Alex Iwobi</td>\n",
       "      <td>Nigeria</td>\n",
       "      <td>Arsenal</td>\n",
       "      <td>Sub</td>\n",
       "      <td>74</td>\n",
       "      <td>180.0</td>\n",
       "      <td>180.0</td>\n",
       "      <td>Right</td>\n",
       "      <td>05/03/1996</td>\n",
       "      <td>20</td>\n",
       "      <td>...</td>\n",
       "      <td>77</td>\n",
       "      <td>50</td>\n",
       "      <td>42</td>\n",
       "      <td>67</td>\n",
       "      <td>63</td>\n",
       "      <td>54</td>\n",
       "      <td>50</td>\n",
       "      <td>40</td>\n",
       "      <td>56</td>\n",
       "      <td>48</td>\n",
       "    </tr>\n",
       "    <tr>\n",
       "      <th>2692</th>\n",
       "      <td>Marlon Santos</td>\n",
       "      <td>Brazil</td>\n",
       "      <td>FC Barcelona</td>\n",
       "      <td>Sub</td>\n",
       "      <td>73</td>\n",
       "      <td>185.0</td>\n",
       "      <td>185.0</td>\n",
       "      <td>Right</td>\n",
       "      <td>09/07/1995</td>\n",
       "      <td>21</td>\n",
       "      <td>...</td>\n",
       "      <td>54</td>\n",
       "      <td>64</td>\n",
       "      <td>70</td>\n",
       "      <td>61</td>\n",
       "      <td>40</td>\n",
       "      <td>36</td>\n",
       "      <td>57</td>\n",
       "      <td>46</td>\n",
       "      <td>58</td>\n",
       "      <td>33</td>\n",
       "    </tr>\n",
       "    <tr>\n",
       "      <th>2694</th>\n",
       "      <td>Kenedy</td>\n",
       "      <td>Brazil</td>\n",
       "      <td>Chelsea</td>\n",
       "      <td>Sub</td>\n",
       "      <td>73</td>\n",
       "      <td>182.0</td>\n",
       "      <td>182.0</td>\n",
       "      <td>Left</td>\n",
       "      <td>02/08/1996</td>\n",
       "      <td>21</td>\n",
       "      <td>...</td>\n",
       "      <td>85</td>\n",
       "      <td>69</td>\n",
       "      <td>66</td>\n",
       "      <td>75</td>\n",
       "      <td>64</td>\n",
       "      <td>66</td>\n",
       "      <td>60</td>\n",
       "      <td>54</td>\n",
       "      <td>67</td>\n",
       "      <td>55</td>\n",
       "    </tr>\n",
       "    <tr>\n",
       "      <th>2842</th>\n",
       "      <td>Carl Jenkinson</td>\n",
       "      <td>England</td>\n",
       "      <td>Arsenal</td>\n",
       "      <td>Res</td>\n",
       "      <td>73</td>\n",
       "      <td>185.0</td>\n",
       "      <td>185.0</td>\n",
       "      <td>Right</td>\n",
       "      <td>02/08/1992</td>\n",
       "      <td>25</td>\n",
       "      <td>...</td>\n",
       "      <td>62</td>\n",
       "      <td>64</td>\n",
       "      <td>60</td>\n",
       "      <td>72</td>\n",
       "      <td>41</td>\n",
       "      <td>41</td>\n",
       "      <td>60</td>\n",
       "      <td>52</td>\n",
       "      <td>49</td>\n",
       "      <td>60</td>\n",
       "    </tr>\n",
       "    <tr>\n",
       "      <th>3155</th>\n",
       "      <td>Tom Starke</td>\n",
       "      <td>Germany</td>\n",
       "      <td>FC Bayern</td>\n",
       "      <td>Sub</td>\n",
       "      <td>73</td>\n",
       "      <td>194.0</td>\n",
       "      <td>194.0</td>\n",
       "      <td>Right</td>\n",
       "      <td>03/18/1981</td>\n",
       "      <td>36</td>\n",
       "      <td>...</td>\n",
       "      <td>33</td>\n",
       "      <td>71</td>\n",
       "      <td>13</td>\n",
       "      <td>23</td>\n",
       "      <td>13</td>\n",
       "      <td>9</td>\n",
       "      <td>11</td>\n",
       "      <td>15</td>\n",
       "      <td>21</td>\n",
       "      <td>14</td>\n",
       "    </tr>\n",
       "    <tr>\n",
       "      <th>3176</th>\n",
       "      <td>Alexander Manninger</td>\n",
       "      <td>Austria</td>\n",
       "      <td>Liverpool</td>\n",
       "      <td>Res</td>\n",
       "      <td>73</td>\n",
       "      <td>189.0</td>\n",
       "      <td>189.0</td>\n",
       "      <td>Right</td>\n",
       "      <td>06/04/1977</td>\n",
       "      <td>39</td>\n",
       "      <td>...</td>\n",
       "      <td>48</td>\n",
       "      <td>70</td>\n",
       "      <td>13</td>\n",
       "      <td>22</td>\n",
       "      <td>12</td>\n",
       "      <td>11</td>\n",
       "      <td>15</td>\n",
       "      <td>15</td>\n",
       "      <td>17</td>\n",
       "      <td>14</td>\n",
       "    </tr>\n",
       "    <tr>\n",
       "      <th>3193</th>\n",
       "      <td>Timothy Fosu-Mensah</td>\n",
       "      <td>Netherlands</td>\n",
       "      <td>Manchester Utd</td>\n",
       "      <td>Sub</td>\n",
       "      <td>72</td>\n",
       "      <td>190.0</td>\n",
       "      <td>190.0</td>\n",
       "      <td>Right</td>\n",
       "      <td>01/02/1998</td>\n",
       "      <td>19</td>\n",
       "      <td>...</td>\n",
       "      <td>70</td>\n",
       "      <td>76</td>\n",
       "      <td>70</td>\n",
       "      <td>79</td>\n",
       "      <td>57</td>\n",
       "      <td>56</td>\n",
       "      <td>56</td>\n",
       "      <td>34</td>\n",
       "      <td>48</td>\n",
       "      <td>55</td>\n",
       "    </tr>\n",
       "    <tr>\n",
       "      <th>3265</th>\n",
       "      <td>Jean-Kévin Augustin</td>\n",
       "      <td>France</td>\n",
       "      <td>PSG</td>\n",
       "      <td>Sub</td>\n",
       "      <td>72</td>\n",
       "      <td>177.0</td>\n",
       "      <td>177.0</td>\n",
       "      <td>Right</td>\n",
       "      <td>06/16/1997</td>\n",
       "      <td>19</td>\n",
       "      <td>...</td>\n",
       "      <td>73</td>\n",
       "      <td>67</td>\n",
       "      <td>58</td>\n",
       "      <td>65</td>\n",
       "      <td>78</td>\n",
       "      <td>56</td>\n",
       "      <td>50</td>\n",
       "      <td>38</td>\n",
       "      <td>68</td>\n",
       "      <td>62</td>\n",
       "    </tr>\n",
       "    <tr>\n",
       "      <th>3449</th>\n",
       "      <td>Kevin Stewart</td>\n",
       "      <td>England</td>\n",
       "      <td>Liverpool</td>\n",
       "      <td>Sub</td>\n",
       "      <td>72</td>\n",
       "      <td>182.0</td>\n",
       "      <td>182.0</td>\n",
       "      <td>Right</td>\n",
       "      <td>09/07/1993</td>\n",
       "      <td>23</td>\n",
       "      <td>...</td>\n",
       "      <td>68</td>\n",
       "      <td>70</td>\n",
       "      <td>64</td>\n",
       "      <td>64</td>\n",
       "      <td>51</td>\n",
       "      <td>61</td>\n",
       "      <td>41</td>\n",
       "      <td>29</td>\n",
       "      <td>44</td>\n",
       "      <td>25</td>\n",
       "    </tr>\n",
       "    <tr>\n",
       "      <th>3906</th>\n",
       "      <td>Marko Grujić</td>\n",
       "      <td>Serbia</td>\n",
       "      <td>Liverpool</td>\n",
       "      <td>Sub</td>\n",
       "      <td>71</td>\n",
       "      <td>191.0</td>\n",
       "      <td>191.0</td>\n",
       "      <td>Right</td>\n",
       "      <td>04/13/1996</td>\n",
       "      <td>20</td>\n",
       "      <td>...</td>\n",
       "      <td>56</td>\n",
       "      <td>74</td>\n",
       "      <td>69</td>\n",
       "      <td>75</td>\n",
       "      <td>70</td>\n",
       "      <td>62</td>\n",
       "      <td>60</td>\n",
       "      <td>43</td>\n",
       "      <td>57</td>\n",
       "      <td>61</td>\n",
       "    </tr>\n",
       "    <tr>\n",
       "      <th>4130</th>\n",
       "      <td>Borja López</td>\n",
       "      <td>Spain</td>\n",
       "      <td>FC Barcelona</td>\n",
       "      <td>Res</td>\n",
       "      <td>71</td>\n",
       "      <td>192.0</td>\n",
       "      <td>192.0</td>\n",
       "      <td>Left</td>\n",
       "      <td>02/02/1994</td>\n",
       "      <td>23</td>\n",
       "      <td>...</td>\n",
       "      <td>38</td>\n",
       "      <td>60</td>\n",
       "      <td>66</td>\n",
       "      <td>46</td>\n",
       "      <td>22</td>\n",
       "      <td>31</td>\n",
       "      <td>32</td>\n",
       "      <td>25</td>\n",
       "      <td>45</td>\n",
       "      <td>28</td>\n",
       "    </tr>\n",
       "    <tr>\n",
       "      <th>4651</th>\n",
       "      <td>Achraf Hakimi</td>\n",
       "      <td>Morocco</td>\n",
       "      <td>Real Madrid</td>\n",
       "      <td>Res</td>\n",
       "      <td>70</td>\n",
       "      <td>177.0</td>\n",
       "      <td>177.0</td>\n",
       "      <td>Right</td>\n",
       "      <td>11/04/1998</td>\n",
       "      <td>18</td>\n",
       "      <td>...</td>\n",
       "      <td>75</td>\n",
       "      <td>64</td>\n",
       "      <td>55</td>\n",
       "      <td>71</td>\n",
       "      <td>57</td>\n",
       "      <td>60</td>\n",
       "      <td>46</td>\n",
       "      <td>55</td>\n",
       "      <td>46</td>\n",
       "      <td>37</td>\n",
       "    </tr>\n",
       "    <tr>\n",
       "      <th>4672</th>\n",
       "      <td>Christopher Nkunku</td>\n",
       "      <td>France</td>\n",
       "      <td>PSG</td>\n",
       "      <td>Res</td>\n",
       "      <td>70</td>\n",
       "      <td>175.0</td>\n",
       "      <td>175.0</td>\n",
       "      <td>Right</td>\n",
       "      <td>11/14/1997</td>\n",
       "      <td>19</td>\n",
       "      <td>...</td>\n",
       "      <td>73</td>\n",
       "      <td>59</td>\n",
       "      <td>47</td>\n",
       "      <td>61</td>\n",
       "      <td>56</td>\n",
       "      <td>55</td>\n",
       "      <td>71</td>\n",
       "      <td>65</td>\n",
       "      <td>54</td>\n",
       "      <td>44</td>\n",
       "    </tr>\n",
       "    <tr>\n",
       "      <th>4683</th>\n",
       "      <td>Emre Mor</td>\n",
       "      <td>Turkey</td>\n",
       "      <td>Bor. Dortmund</td>\n",
       "      <td>Sub</td>\n",
       "      <td>70</td>\n",
       "      <td>169.0</td>\n",
       "      <td>169.0</td>\n",
       "      <td>Left</td>\n",
       "      <td>07/24/1997</td>\n",
       "      <td>19</td>\n",
       "      <td>...</td>\n",
       "      <td>95</td>\n",
       "      <td>65</td>\n",
       "      <td>41</td>\n",
       "      <td>69</td>\n",
       "      <td>65</td>\n",
       "      <td>60</td>\n",
       "      <td>53</td>\n",
       "      <td>38</td>\n",
       "      <td>49</td>\n",
       "      <td>62</td>\n",
       "    </tr>\n",
       "    <tr>\n",
       "      <th>4724</th>\n",
       "      <td>Matheus Pereira</td>\n",
       "      <td>Brazil</td>\n",
       "      <td>Juventus</td>\n",
       "      <td>Res</td>\n",
       "      <td>70</td>\n",
       "      <td>181.0</td>\n",
       "      <td>181.0</td>\n",
       "      <td>Left</td>\n",
       "      <td>02/25/1998</td>\n",
       "      <td>19</td>\n",
       "      <td>...</td>\n",
       "      <td>69</td>\n",
       "      <td>53</td>\n",
       "      <td>52</td>\n",
       "      <td>58</td>\n",
       "      <td>60</td>\n",
       "      <td>52</td>\n",
       "      <td>73</td>\n",
       "      <td>64</td>\n",
       "      <td>62</td>\n",
       "      <td>66</td>\n",
       "    </tr>\n",
       "    <tr>\n",
       "      <th>4769</th>\n",
       "      <td>Joe Gomez</td>\n",
       "      <td>England</td>\n",
       "      <td>Liverpool</td>\n",
       "      <td>Sub</td>\n",
       "      <td>70</td>\n",
       "      <td>188.0</td>\n",
       "      <td>188.0</td>\n",
       "      <td>Right</td>\n",
       "      <td>05/23/1997</td>\n",
       "      <td>19</td>\n",
       "      <td>...</td>\n",
       "      <td>64</td>\n",
       "      <td>64</td>\n",
       "      <td>69</td>\n",
       "      <td>41</td>\n",
       "      <td>26</td>\n",
       "      <td>26</td>\n",
       "      <td>41</td>\n",
       "      <td>29</td>\n",
       "      <td>26</td>\n",
       "      <td>24</td>\n",
       "    </tr>\n",
       "    <tr>\n",
       "      <th>4822</th>\n",
       "      <td>Federico Mattiello</td>\n",
       "      <td>Italy</td>\n",
       "      <td>Juventus</td>\n",
       "      <td>Res</td>\n",
       "      <td>70</td>\n",
       "      <td>182.0</td>\n",
       "      <td>182.0</td>\n",
       "      <td>Left</td>\n",
       "      <td>07/14/1995</td>\n",
       "      <td>21</td>\n",
       "      <td>...</td>\n",
       "      <td>75</td>\n",
       "      <td>55</td>\n",
       "      <td>68</td>\n",
       "      <td>76</td>\n",
       "      <td>42</td>\n",
       "      <td>76</td>\n",
       "      <td>76</td>\n",
       "      <td>59</td>\n",
       "      <td>59</td>\n",
       "      <td>69</td>\n",
       "    </tr>\n",
       "    <tr>\n",
       "      <th>4886</th>\n",
       "      <td>Gerard</td>\n",
       "      <td>Spain</td>\n",
       "      <td>FC Barcelona</td>\n",
       "      <td>Res</td>\n",
       "      <td>70</td>\n",
       "      <td>188.0</td>\n",
       "      <td>188.0</td>\n",
       "      <td>Left</td>\n",
       "      <td>12/01/1994</td>\n",
       "      <td>22</td>\n",
       "      <td>...</td>\n",
       "      <td>58</td>\n",
       "      <td>52</td>\n",
       "      <td>68</td>\n",
       "      <td>70</td>\n",
       "      <td>48</td>\n",
       "      <td>72</td>\n",
       "      <td>64</td>\n",
       "      <td>62</td>\n",
       "      <td>50</td>\n",
       "      <td>46</td>\n",
       "    </tr>\n",
       "    <tr>\n",
       "      <th>5016</th>\n",
       "      <td>Nathaniel Chalobah</td>\n",
       "      <td>England</td>\n",
       "      <td>Chelsea</td>\n",
       "      <td>Sub</td>\n",
       "      <td>71</td>\n",
       "      <td>185.0</td>\n",
       "      <td>185.0</td>\n",
       "      <td>Right</td>\n",
       "      <td>12/12/1994</td>\n",
       "      <td>22</td>\n",
       "      <td>...</td>\n",
       "      <td>76</td>\n",
       "      <td>71</td>\n",
       "      <td>68</td>\n",
       "      <td>71</td>\n",
       "      <td>41</td>\n",
       "      <td>67</td>\n",
       "      <td>51</td>\n",
       "      <td>38</td>\n",
       "      <td>49</td>\n",
       "      <td>29</td>\n",
       "    </tr>\n",
       "    <tr>\n",
       "      <th>5039</th>\n",
       "      <td>Todd Kane</td>\n",
       "      <td>England</td>\n",
       "      <td>Chelsea</td>\n",
       "      <td>Res</td>\n",
       "      <td>70</td>\n",
       "      <td>180.0</td>\n",
       "      <td>180.0</td>\n",
       "      <td>Right</td>\n",
       "      <td>09/17/1993</td>\n",
       "      <td>23</td>\n",
       "      <td>...</td>\n",
       "      <td>65</td>\n",
       "      <td>65</td>\n",
       "      <td>51</td>\n",
       "      <td>68</td>\n",
       "      <td>32</td>\n",
       "      <td>51</td>\n",
       "      <td>41</td>\n",
       "      <td>35</td>\n",
       "      <td>50</td>\n",
       "      <td>34</td>\n",
       "    </tr>\n",
       "    <tr>\n",
       "      <th>5134</th>\n",
       "      <td>Jordi Masip</td>\n",
       "      <td>Spain</td>\n",
       "      <td>FC Barcelona</td>\n",
       "      <td>Sub</td>\n",
       "      <td>70</td>\n",
       "      <td>179.0</td>\n",
       "      <td>179.0</td>\n",
       "      <td>Right</td>\n",
       "      <td>01/03/1989</td>\n",
       "      <td>28</td>\n",
       "      <td>...</td>\n",
       "      <td>70</td>\n",
       "      <td>79</td>\n",
       "      <td>13</td>\n",
       "      <td>25</td>\n",
       "      <td>12</td>\n",
       "      <td>13</td>\n",
       "      <td>13</td>\n",
       "      <td>10</td>\n",
       "      <td>12</td>\n",
       "      <td>19</td>\n",
       "    </tr>\n",
       "    <tr>\n",
       "      <th>5505</th>\n",
       "      <td>Bogdan Lobonţ</td>\n",
       "      <td>Romania</td>\n",
       "      <td>Roma</td>\n",
       "      <td>Sub</td>\n",
       "      <td>70</td>\n",
       "      <td>185.0</td>\n",
       "      <td>185.0</td>\n",
       "      <td>Right</td>\n",
       "      <td>01/18/1978</td>\n",
       "      <td>39</td>\n",
       "      <td>...</td>\n",
       "      <td>40</td>\n",
       "      <td>69</td>\n",
       "      <td>11</td>\n",
       "      <td>23</td>\n",
       "      <td>10</td>\n",
       "      <td>12</td>\n",
       "      <td>14</td>\n",
       "      <td>13</td>\n",
       "      <td>20</td>\n",
       "      <td>10</td>\n",
       "    </tr>\n",
       "  </tbody>\n",
       "</table>\n",
       "<p>268 rows × 43 columns</p>\n",
       "</div>"
      ],
      "text/plain": [
       "                           name         nationality             club  \\\n",
       "0             Cristiano Ronaldo            Portugal      Real Madrid   \n",
       "1                  Lionel Messi           Argentina     FC Barcelona   \n",
       "2                        Neymar              Brazil     FC Barcelona   \n",
       "3                   Luis Suárez             Uruguay     FC Barcelona   \n",
       "6            Robert Lewandowski              Poland        FC Bayern   \n",
       "7                   Gareth Bale               Wales      Real Madrid   \n",
       "8            Zlatan Ibrahimović              Sweden   Manchester Utd   \n",
       "10               Jérôme Boateng             Germany        FC Bayern   \n",
       "11                  Eden Hazard             Belgium          Chelsea   \n",
       "12                  Luka Modrić             Croatia      Real Madrid   \n",
       "13                   Mesut Özil             Germany          Arsenal   \n",
       "14              Gonzalo Higuaín           Argentina         Juventus   \n",
       "15                 Thiago Silva              Brazil              PSG   \n",
       "16                 Sergio Ramos               Spain      Real Madrid   \n",
       "17                Sergio Agüero           Argentina  Manchester City   \n",
       "18                   Paul Pogba              France   Manchester Utd   \n",
       "20              Kevin De Bruyne             Belgium  Manchester City   \n",
       "21                   Marco Reus             Germany    Bor. Dortmund   \n",
       "22               Alexis Sánchez               Chile          Arsenal   \n",
       "23                   Toni Kroos             Germany      Real Madrid   \n",
       "25                 Mats Hummels             Germany        FC Bayern   \n",
       "27            Giorgio Chiellini               Italy         Juventus   \n",
       "28                 Philipp Lahm             Germany        FC Bayern   \n",
       "29                         Pepe            Portugal      Real Madrid   \n",
       "32                      Iniesta               Spain     FC Barcelona   \n",
       "34              James Rodríguez            Colombia      Real Madrid   \n",
       "35    Pierre-Emerick Aubameyang               Gabon    Bor. Dortmund   \n",
       "36             Leonardo Bonucci               Italy         Juventus   \n",
       "37                 Arturo Vidal               Chile        FC Bayern   \n",
       "38                 Ivan Rakitić             Croatia     FC Barcelona   \n",
       "...                         ...                 ...              ...   \n",
       "1640           Presnel Kimpembe              France              PSG   \n",
       "1643               Mikel Merino               Spain    Bor. Dortmund   \n",
       "1721                 Nathan Aké         Netherlands          Chelsea   \n",
       "1776                 Juan Jesus              Brazil             Roma   \n",
       "1830                Park Joo Ho      Korea Republic    Bor. Dortmund   \n",
       "1872            Clément Grenier              France             Roma   \n",
       "2078           Giovani Lo Celso           Argentina              PSG   \n",
       "2102                    Mariano  Dominican Republic      Real Madrid   \n",
       "2156                 Alex Iwobi             Nigeria          Arsenal   \n",
       "2692              Marlon Santos              Brazil     FC Barcelona   \n",
       "2694                     Kenedy              Brazil          Chelsea   \n",
       "2842             Carl Jenkinson             England          Arsenal   \n",
       "3155                 Tom Starke             Germany        FC Bayern   \n",
       "3176        Alexander Manninger             Austria        Liverpool   \n",
       "3193        Timothy Fosu-Mensah         Netherlands   Manchester Utd   \n",
       "3265        Jean-Kévin Augustin              France              PSG   \n",
       "3449              Kevin Stewart             England        Liverpool   \n",
       "3906               Marko Grujić              Serbia        Liverpool   \n",
       "4130                Borja López               Spain     FC Barcelona   \n",
       "4651              Achraf Hakimi             Morocco      Real Madrid   \n",
       "4672         Christopher Nkunku              France              PSG   \n",
       "4683                   Emre Mor              Turkey    Bor. Dortmund   \n",
       "4724            Matheus Pereira              Brazil         Juventus   \n",
       "4769                  Joe Gomez             England        Liverpool   \n",
       "4822         Federico Mattiello               Italy         Juventus   \n",
       "4886                     Gerard               Spain     FC Barcelona   \n",
       "5016         Nathaniel Chalobah             England          Chelsea   \n",
       "5039                  Todd Kane             England          Chelsea   \n",
       "5134                Jordi Masip               Spain     FC Barcelona   \n",
       "5505              Bogdan Lobonţ             Romania             Roma   \n",
       "\n",
       "     club_position  rating  height  weight preffered_foot  birth_date  age  \\\n",
       "0               LW      94   185.0   185.0          Right  02/05/1985   32   \n",
       "1               RW      93   170.0   170.0           Left  06/24/1987   29   \n",
       "2               LW      92   174.0   174.0          Right  02/05/1992   25   \n",
       "3               ST      92   182.0   182.0          Right  01/24/1987   30   \n",
       "6               ST      90   185.0   185.0          Right  08/21/1988   28   \n",
       "7               RW      90   183.0   183.0           Left  07/16/1989   27   \n",
       "8               ST      90   195.0   195.0          Right  10/03/1981   35   \n",
       "10             Sub      89   192.0   192.0          Right  09/03/1988   28   \n",
       "11              LW      89   173.0   173.0          Right  01/07/1991   26   \n",
       "12             RCM      89   174.0   174.0          Right  09/09/1985   31   \n",
       "13             CAM      89   180.0   180.0           Left  10/15/1988   28   \n",
       "14              ST      89   184.0   184.0          Right  12/10/1987   29   \n",
       "15             LCB      89   183.0   183.0          Right  09/22/1984   32   \n",
       "16             LCB      89   183.0   183.0          Right  03/30/1986   31   \n",
       "17              ST      89   173.0   173.0          Right  06/02/1988   28   \n",
       "18             LCM      88   191.0   191.0          Right  03/15/1993   24   \n",
       "20             RCM      88   181.0   181.0          Right  06/28/1991   25   \n",
       "21              LW      88   182.0   182.0          Right  05/31/1989   27   \n",
       "22              ST      88   169.0   169.0          Right  12/19/1988   28   \n",
       "23             LCM      88   182.0   182.0          Right  01/04/1990   27   \n",
       "25             LCB      88   191.0   191.0          Right  12/16/1988   28   \n",
       "27             LCB      88   187.0   187.0           Left  08/14/1984   32   \n",
       "28              RB      88   170.0   170.0          Right  11/11/1983   33   \n",
       "29             RCB      88   188.0   188.0          Right  02/26/1983   34   \n",
       "32              LM      88   171.0   171.0          Right  05/11/1984   32   \n",
       "34             CAM      87   180.0   180.0           Left  07/12/1991   25   \n",
       "35              ST      87   187.0   187.0          Right  06/18/1989   27   \n",
       "36             RCB      87   190.0   190.0          Right  05/01/1987   29   \n",
       "37             LDM      87   180.0   180.0          Right  05/22/1987   29   \n",
       "38             CAM      87   184.0   184.0          Right  03/10/1988   29   \n",
       "...            ...     ...     ...     ...            ...         ...  ...   \n",
       "1640           Sub      75   183.0   183.0           Left  08/13/1995   21   \n",
       "1643           Sub      75   187.0   187.0           Left  06/22/1996   20   \n",
       "1721           Sub      75   180.0   180.0           Left  02/18/1995   22   \n",
       "1776           Sub      75   185.0   185.0           Left  06/10/1991   25   \n",
       "1830           Res      75   176.0   176.0           Left  01/16/1987   30   \n",
       "1872           Sub      75   186.0   186.0          Right  01/07/1991   26   \n",
       "2078           Sub      74   177.0   177.0           Left  04/09/1996   20   \n",
       "2102           Sub      74   179.0   179.0          Right  08/01/1993   23   \n",
       "2156           Sub      74   180.0   180.0          Right  05/03/1996   20   \n",
       "2692           Sub      73   185.0   185.0          Right  09/07/1995   21   \n",
       "2694           Sub      73   182.0   182.0           Left  02/08/1996   21   \n",
       "2842           Res      73   185.0   185.0          Right  02/08/1992   25   \n",
       "3155           Sub      73   194.0   194.0          Right  03/18/1981   36   \n",
       "3176           Res      73   189.0   189.0          Right  06/04/1977   39   \n",
       "3193           Sub      72   190.0   190.0          Right  01/02/1998   19   \n",
       "3265           Sub      72   177.0   177.0          Right  06/16/1997   19   \n",
       "3449           Sub      72   182.0   182.0          Right  09/07/1993   23   \n",
       "3906           Sub      71   191.0   191.0          Right  04/13/1996   20   \n",
       "4130           Res      71   192.0   192.0           Left  02/02/1994   23   \n",
       "4651           Res      70   177.0   177.0          Right  11/04/1998   18   \n",
       "4672           Res      70   175.0   175.0          Right  11/14/1997   19   \n",
       "4683           Sub      70   169.0   169.0           Left  07/24/1997   19   \n",
       "4724           Res      70   181.0   181.0           Left  02/25/1998   19   \n",
       "4769           Sub      70   188.0   188.0          Right  05/23/1997   19   \n",
       "4822           Res      70   182.0   182.0           Left  07/14/1995   21   \n",
       "4886           Res      70   188.0   188.0           Left  12/01/1994   22   \n",
       "5016           Sub      71   185.0   185.0          Right  12/12/1994   22   \n",
       "5039           Res      70   180.0   180.0          Right  09/17/1993   23   \n",
       "5134           Sub      70   179.0   179.0          Right  01/03/1989   28   \n",
       "5505           Sub      70   185.0   185.0          Right  01/18/1978   39   \n",
       "\n",
       "       ...    agility jumping  heading  shot_power  finishing  long_shots  \\\n",
       "0      ...         90      95       85          92         93          90   \n",
       "1      ...         90      68       71          85         95          88   \n",
       "2      ...         96      61       62          78         89          77   \n",
       "3      ...         86      69       77          87         94          86   \n",
       "6      ...         78      84       85          86         91          82   \n",
       "7      ...         77      85       86          91         87          90   \n",
       "8      ...         86      72       80          93         90          88   \n",
       "10     ...         58      75       86          79         34          58   \n",
       "11     ...         92      59       57          79         81          82   \n",
       "12     ...         93      67       55          73         71          82   \n",
       "13     ...         84      52       54          70         75          76   \n",
       "14     ...         75      77       80          86         92          80   \n",
       "15     ...         75      93       82          78         38          71   \n",
       "16     ...         80      92       90          79         60          55   \n",
       "17     ...         86      80       68          87         90          84   \n",
       "18     ...         79      85       73          90         71          88   \n",
       "20     ...         78      65       53          85         83          86   \n",
       "21     ...         87      72       51          87         84          85   \n",
       "22     ...         90      85       70          84         85          81   \n",
       "23     ...         70      34       54          87         75          88   \n",
       "25     ...         64      68       90          71         55          51   \n",
       "27     ...         59      89       80          78         33          49   \n",
       "28     ...         82      72       63          57         47          65   \n",
       "29     ...         63      76       82          63         46          56   \n",
       "32     ...         82      54       54          65         73          74   \n",
       "34     ...         82      54       62          86         82          91   \n",
       "35     ...         80      77       79          81         88          79   \n",
       "36     ...         61      85       84          74         37          65   \n",
       "37     ...         75      82       81          84         77          85   \n",
       "38     ...         71      51       58          84         83          88   \n",
       "...    ...        ...     ...      ...         ...        ...         ...   \n",
       "1640   ...         66      75       69          47         25          27   \n",
       "1643   ...         64      68       79          63         62          67   \n",
       "1721   ...         66      77       69          63         41          56   \n",
       "1776   ...         69      88       74          62         20          35   \n",
       "1830   ...         78      73       57          67         31          52   \n",
       "1872   ...         76      65       71          82         62          79   \n",
       "2078   ...         78      57       36          58         55          59   \n",
       "2102   ...         80      91       69          85         80          76   \n",
       "2156   ...         77      50       42          67         63          54   \n",
       "2692   ...         54      64       70          61         40          36   \n",
       "2694   ...         85      69       66          75         64          66   \n",
       "2842   ...         62      64       60          72         41          41   \n",
       "3155   ...         33      71       13          23         13           9   \n",
       "3176   ...         48      70       13          22         12          11   \n",
       "3193   ...         70      76       70          79         57          56   \n",
       "3265   ...         73      67       58          65         78          56   \n",
       "3449   ...         68      70       64          64         51          61   \n",
       "3906   ...         56      74       69          75         70          62   \n",
       "4130   ...         38      60       66          46         22          31   \n",
       "4651   ...         75      64       55          71         57          60   \n",
       "4672   ...         73      59       47          61         56          55   \n",
       "4683   ...         95      65       41          69         65          60   \n",
       "4724   ...         69      53       52          58         60          52   \n",
       "4769   ...         64      64       69          41         26          26   \n",
       "4822   ...         75      55       68          76         42          76   \n",
       "4886   ...         58      52       68          70         48          72   \n",
       "5016   ...         76      71       68          71         41          67   \n",
       "5039   ...         65      65       51          68         32          51   \n",
       "5134   ...         70      79       13          25         12          13   \n",
       "5505   ...         40      69       11          23         10          12   \n",
       "\n",
       "      curve  freekick_accuracy  penalties  volleys  \n",
       "0        81                 76         85       88  \n",
       "1        89                 90         74       85  \n",
       "2        79                 84         81       83  \n",
       "3        86                 84         85       88  \n",
       "6        77                 76         81       86  \n",
       "7        86                 85         76       76  \n",
       "8        82                 82         91       93  \n",
       "10       56                 31         46       53  \n",
       "11       82                 79         86       79  \n",
       "12       79                 77         80       74  \n",
       "13       84                 79         67       77  \n",
       "14       74                 62         70       88  \n",
       "15       61                 73         71       63  \n",
       "16       73                 67         68       66  \n",
       "17       82                 72         80       85  \n",
       "18       82                 82         76       84  \n",
       "20       81                 84         77       82  \n",
       "21       90                 84         84       88  \n",
       "22       78                 78         77       83  \n",
       "23       85                 84         73       82  \n",
       "25       65                 53         68       60  \n",
       "27       60                 31         50       45  \n",
       "28       77                 59         69       66  \n",
       "29       44                 47         57       23  \n",
       "32       80                 70         71       74  \n",
       "34       87                 86         81       91  \n",
       "35       78                 74         82       86  \n",
       "36       56                 61         70       55  \n",
       "37       76                 68         84       78  \n",
       "38       88                 84         78       80  \n",
       "...     ...                ...        ...      ...  \n",
       "1640     28                 32         43       28  \n",
       "1643     68                 69         58       58  \n",
       "1721     63                 59         48       52  \n",
       "1776     48                 36         37       17  \n",
       "1830     71                 59         62       42  \n",
       "1872     76                 80         73       72  \n",
       "2078     67                 72         55       69  \n",
       "2102     77                 72         68       66  \n",
       "2156     50                 40         56       48  \n",
       "2692     57                 46         58       33  \n",
       "2694     60                 54         67       55  \n",
       "2842     60                 52         49       60  \n",
       "3155     11                 15         21       14  \n",
       "3176     15                 15         17       14  \n",
       "3193     56                 34         48       55  \n",
       "3265     50                 38         68       62  \n",
       "3449     41                 29         44       25  \n",
       "3906     60                 43         57       61  \n",
       "4130     32                 25         45       28  \n",
       "4651     46                 55         46       37  \n",
       "4672     71                 65         54       44  \n",
       "4683     53                 38         49       62  \n",
       "4724     73                 64         62       66  \n",
       "4769     41                 29         26       24  \n",
       "4822     76                 59         59       69  \n",
       "4886     64                 62         50       46  \n",
       "5016     51                 38         49       29  \n",
       "5039     41                 35         50       34  \n",
       "5134     13                 10         12       19  \n",
       "5505     14                 13         20       10  \n",
       "\n",
       "[268 rows x 43 columns]"
      ]
     },
     "execution_count": 38,
     "metadata": {},
     "output_type": "execute_result"
    }
   ],
   "source": [
    "fifa2=fifa[fifa.club.isin(clubs_list)]\n",
    "fifa2"
   ]
  },
  {
   "cell_type": "markdown",
   "metadata": {},
   "source": [
    "### 7. Make a bar plot of the average long_shots, curve, and dribbling attributes of the clubs in the data"
   ]
  },
  {
   "cell_type": "code",
   "execution_count": 67,
   "metadata": {},
   "outputs": [
    {
     "ename": "ValueError",
     "evalue": "could not convert string to float: curve",
     "output_type": "error",
     "traceback": [
      "\u001b[0;31m---------------------------------------------------------------------------\u001b[0m",
      "\u001b[0;31mValueError\u001b[0m                                Traceback (most recent call last)",
      "\u001b[0;32m<ipython-input-67-fa01aacef8bf>\u001b[0m in \u001b[0;36m<module>\u001b[0;34m()\u001b[0m\n\u001b[1;32m     10\u001b[0m \u001b[0;31m#Bar plot number 2\u001b[0m\u001b[0;34m\u001b[0m\u001b[0;34m\u001b[0m\u001b[0m\n\u001b[1;32m     11\u001b[0m \u001b[0;31m#Keep pos the same\u001b[0m\u001b[0;34m\u001b[0m\u001b[0;34m\u001b[0m\u001b[0m\n\u001b[0;32m---> 12\u001b[0;31m \u001b[0mplt\u001b[0m\u001b[0;34m.\u001b[0m\u001b[0mbar\u001b[0m\u001b[0;34m(\u001b[0m\u001b[0mpos\u001b[0m\u001b[0;34m,\u001b[0m \u001b[0mwidth\u001b[0m\u001b[0;34m=\u001b[0m\u001b[0mw\u001b[0m\u001b[0;34m,\u001b[0m \u001b[0mheight\u001b[0m\u001b[0;34m=\u001b[0m\u001b[0;34m\"curve\"\u001b[0m\u001b[0;34m,\u001b[0m \u001b[0mcolor\u001b[0m\u001b[0;34m=\u001b[0m\u001b[0;34m\"r\"\u001b[0m\u001b[0;34m,\u001b[0m \u001b[0malign\u001b[0m \u001b[0;34m=\u001b[0m \u001b[0;34m\"center\"\u001b[0m\u001b[0;34m)\u001b[0m\u001b[0;34m\u001b[0m\u001b[0m\n\u001b[0m\u001b[1;32m     13\u001b[0m \u001b[0;34m\u001b[0m\u001b[0m\n\u001b[1;32m     14\u001b[0m \u001b[0;31m#Bar plot number 3:\u001b[0m\u001b[0;34m\u001b[0m\u001b[0;34m\u001b[0m\u001b[0m\n",
      "\u001b[0;32m/home/villager/Programs/anaconda2/lib/python2.7/site-packages/matplotlib/pyplot.pyc\u001b[0m in \u001b[0;36mbar\u001b[0;34m(*args, **kwargs)\u001b[0m\n\u001b[1;32m   2625\u001b[0m                       mplDeprecation)\n\u001b[1;32m   2626\u001b[0m     \u001b[0;32mtry\u001b[0m\u001b[0;34m:\u001b[0m\u001b[0;34m\u001b[0m\u001b[0m\n\u001b[0;32m-> 2627\u001b[0;31m         \u001b[0mret\u001b[0m \u001b[0;34m=\u001b[0m \u001b[0max\u001b[0m\u001b[0;34m.\u001b[0m\u001b[0mbar\u001b[0m\u001b[0;34m(\u001b[0m\u001b[0;34m*\u001b[0m\u001b[0margs\u001b[0m\u001b[0;34m,\u001b[0m \u001b[0;34m**\u001b[0m\u001b[0mkwargs\u001b[0m\u001b[0;34m)\u001b[0m\u001b[0;34m\u001b[0m\u001b[0m\n\u001b[0m\u001b[1;32m   2628\u001b[0m     \u001b[0;32mfinally\u001b[0m\u001b[0;34m:\u001b[0m\u001b[0;34m\u001b[0m\u001b[0m\n\u001b[1;32m   2629\u001b[0m         \u001b[0max\u001b[0m\u001b[0;34m.\u001b[0m\u001b[0m_hold\u001b[0m \u001b[0;34m=\u001b[0m \u001b[0mwashold\u001b[0m\u001b[0;34m\u001b[0m\u001b[0m\n",
      "\u001b[0;32m/home/villager/Programs/anaconda2/lib/python2.7/site-packages/matplotlib/__init__.pyc\u001b[0m in \u001b[0;36minner\u001b[0;34m(ax, *args, **kwargs)\u001b[0m\n\u001b[1;32m   1708\u001b[0m                     warnings.warn(msg % (label_namer, func.__name__),\n\u001b[1;32m   1709\u001b[0m                                   RuntimeWarning, stacklevel=2)\n\u001b[0;32m-> 1710\u001b[0;31m             \u001b[0;32mreturn\u001b[0m \u001b[0mfunc\u001b[0m\u001b[0;34m(\u001b[0m\u001b[0max\u001b[0m\u001b[0;34m,\u001b[0m \u001b[0;34m*\u001b[0m\u001b[0margs\u001b[0m\u001b[0;34m,\u001b[0m \u001b[0;34m**\u001b[0m\u001b[0mkwargs\u001b[0m\u001b[0;34m)\u001b[0m\u001b[0;34m\u001b[0m\u001b[0m\n\u001b[0m\u001b[1;32m   1711\u001b[0m         \u001b[0mpre_doc\u001b[0m \u001b[0;34m=\u001b[0m \u001b[0minner\u001b[0m\u001b[0;34m.\u001b[0m\u001b[0m__doc__\u001b[0m\u001b[0;34m\u001b[0m\u001b[0m\n\u001b[1;32m   1712\u001b[0m         \u001b[0;32mif\u001b[0m \u001b[0mpre_doc\u001b[0m \u001b[0;32mis\u001b[0m \u001b[0mNone\u001b[0m\u001b[0;34m:\u001b[0m\u001b[0;34m\u001b[0m\u001b[0m\n",
      "\u001b[0;32m/home/villager/Programs/anaconda2/lib/python2.7/site-packages/matplotlib/axes/_axes.pyc\u001b[0m in \u001b[0;36mbar\u001b[0;34m(self, *args, **kwargs)\u001b[0m\n\u001b[1;32m   2119\u001b[0m         \u001b[0;32mif\u001b[0m \u001b[0mself\u001b[0m\u001b[0;34m.\u001b[0m\u001b[0myaxis\u001b[0m \u001b[0;32mis\u001b[0m \u001b[0;32mnot\u001b[0m \u001b[0mNone\u001b[0m\u001b[0;34m:\u001b[0m\u001b[0;34m\u001b[0m\u001b[0m\n\u001b[1;32m   2120\u001b[0m             \u001b[0my\u001b[0m \u001b[0;34m=\u001b[0m \u001b[0mself\u001b[0m\u001b[0;34m.\u001b[0m\u001b[0mconvert_yunits\u001b[0m\u001b[0;34m(\u001b[0m\u001b[0my\u001b[0m\u001b[0;34m)\u001b[0m\u001b[0;34m\u001b[0m\u001b[0m\n\u001b[0;32m-> 2121\u001b[0;31m             \u001b[0mheight\u001b[0m \u001b[0;34m=\u001b[0m \u001b[0mself\u001b[0m\u001b[0;34m.\u001b[0m\u001b[0mconvert_yunits\u001b[0m\u001b[0;34m(\u001b[0m\u001b[0mheight\u001b[0m\u001b[0;34m)\u001b[0m\u001b[0;34m\u001b[0m\u001b[0m\n\u001b[0m\u001b[1;32m   2122\u001b[0m             \u001b[0;32mif\u001b[0m \u001b[0myerr\u001b[0m \u001b[0;32mis\u001b[0m \u001b[0;32mnot\u001b[0m \u001b[0mNone\u001b[0m\u001b[0;34m:\u001b[0m\u001b[0;34m\u001b[0m\u001b[0m\n\u001b[1;32m   2123\u001b[0m                 \u001b[0myerr\u001b[0m \u001b[0;34m=\u001b[0m \u001b[0mself\u001b[0m\u001b[0;34m.\u001b[0m\u001b[0mconvert_yunits\u001b[0m\u001b[0;34m(\u001b[0m\u001b[0myerr\u001b[0m\u001b[0;34m)\u001b[0m\u001b[0;34m\u001b[0m\u001b[0m\n",
      "\u001b[0;32m/home/villager/Programs/anaconda2/lib/python2.7/site-packages/matplotlib/artist.pyc\u001b[0m in \u001b[0;36mconvert_yunits\u001b[0;34m(self, y)\u001b[0m\n\u001b[1;32m    198\u001b[0m         \u001b[0;32mif\u001b[0m \u001b[0max\u001b[0m \u001b[0;32mis\u001b[0m \u001b[0mNone\u001b[0m \u001b[0;32mor\u001b[0m \u001b[0max\u001b[0m\u001b[0;34m.\u001b[0m\u001b[0myaxis\u001b[0m \u001b[0;32mis\u001b[0m \u001b[0mNone\u001b[0m\u001b[0;34m:\u001b[0m\u001b[0;34m\u001b[0m\u001b[0m\n\u001b[1;32m    199\u001b[0m             \u001b[0;32mreturn\u001b[0m \u001b[0my\u001b[0m\u001b[0;34m\u001b[0m\u001b[0m\n\u001b[0;32m--> 200\u001b[0;31m         \u001b[0;32mreturn\u001b[0m \u001b[0max\u001b[0m\u001b[0;34m.\u001b[0m\u001b[0myaxis\u001b[0m\u001b[0;34m.\u001b[0m\u001b[0mconvert_units\u001b[0m\u001b[0;34m(\u001b[0m\u001b[0my\u001b[0m\u001b[0;34m)\u001b[0m\u001b[0;34m\u001b[0m\u001b[0m\n\u001b[0m\u001b[1;32m    201\u001b[0m \u001b[0;34m\u001b[0m\u001b[0m\n\u001b[1;32m    202\u001b[0m     \u001b[0;34m@\u001b[0m\u001b[0mproperty\u001b[0m\u001b[0;34m\u001b[0m\u001b[0m\n",
      "\u001b[0;32m/home/villager/Programs/anaconda2/lib/python2.7/site-packages/matplotlib/axis.pyc\u001b[0m in \u001b[0;36mconvert_units\u001b[0;34m(self, x)\u001b[0m\n\u001b[1;32m   1489\u001b[0m             \u001b[0;32mreturn\u001b[0m \u001b[0mx\u001b[0m\u001b[0;34m\u001b[0m\u001b[0m\n\u001b[1;32m   1490\u001b[0m \u001b[0;34m\u001b[0m\u001b[0m\n\u001b[0;32m-> 1491\u001b[0;31m         \u001b[0mret\u001b[0m \u001b[0;34m=\u001b[0m \u001b[0mself\u001b[0m\u001b[0;34m.\u001b[0m\u001b[0mconverter\u001b[0m\u001b[0;34m.\u001b[0m\u001b[0mconvert\u001b[0m\u001b[0;34m(\u001b[0m\u001b[0mx\u001b[0m\u001b[0;34m,\u001b[0m \u001b[0mself\u001b[0m\u001b[0;34m.\u001b[0m\u001b[0munits\u001b[0m\u001b[0;34m,\u001b[0m \u001b[0mself\u001b[0m\u001b[0;34m)\u001b[0m\u001b[0;34m\u001b[0m\u001b[0m\n\u001b[0m\u001b[1;32m   1492\u001b[0m         \u001b[0;32mreturn\u001b[0m \u001b[0mret\u001b[0m\u001b[0;34m\u001b[0m\u001b[0m\n\u001b[1;32m   1493\u001b[0m \u001b[0;34m\u001b[0m\u001b[0m\n",
      "\u001b[0;32m/home/villager/Programs/anaconda2/lib/python2.7/site-packages/matplotlib/category.pyc\u001b[0m in \u001b[0;36mconvert\u001b[0;34m(value, unit, axis)\u001b[0m\n\u001b[1;32m     51\u001b[0m             \u001b[0mvals\u001b[0m\u001b[0;34m[\u001b[0m\u001b[0mvals\u001b[0m \u001b[0;34m==\u001b[0m \u001b[0mlab\u001b[0m\u001b[0;34m]\u001b[0m \u001b[0;34m=\u001b[0m \u001b[0mloc\u001b[0m\u001b[0;34m\u001b[0m\u001b[0m\n\u001b[1;32m     52\u001b[0m \u001b[0;34m\u001b[0m\u001b[0m\n\u001b[0;32m---> 53\u001b[0;31m         \u001b[0;32mreturn\u001b[0m \u001b[0mvals\u001b[0m\u001b[0;34m.\u001b[0m\u001b[0mastype\u001b[0m\u001b[0;34m(\u001b[0m\u001b[0;34m'float'\u001b[0m\u001b[0;34m)\u001b[0m\u001b[0;34m\u001b[0m\u001b[0m\n\u001b[0m\u001b[1;32m     54\u001b[0m \u001b[0;34m\u001b[0m\u001b[0m\n\u001b[1;32m     55\u001b[0m     \u001b[0;34m@\u001b[0m\u001b[0mstaticmethod\u001b[0m\u001b[0;34m\u001b[0m\u001b[0m\n",
      "\u001b[0;31mValueError\u001b[0m: could not convert string to float: curve"
     ]
    },
    {
     "data": {
      "image/png": "[encoded data removed]",
      "text/plain": [
       "<matplotlib.figure.Figure at 0x7fa8e3e36dd0>"
      ]
     },
     "metadata": {},
     "output_type": "display_data"
    }
   ],
   "source": []
  },
  {
   "cell_type": "code",
   "execution_count": 76,
   "metadata": {},
   "outputs": [
    {
     "data": {
      "image/png": "[encoded data removed]",
      "text/plain": [
       "<matplotlib.figure.Figure at 0x7fa8e3db8710>"
      ]
     },
     "metadata": {},
     "output_type": "display_data"
    }
   ],
   "source": [
    "cols = [\"long_shots\", \"curve\", \"dribbling\"]\n",
    "fifa2.groupby(\"club\")[cols].mean().plot(kind=\"bar\", figsize=(10,8), \n",
    "                                           title = \"Average Skill Ratings by Club\")\n",
    "plt.show()"
   ]
  },
  {
   "cell_type": "markdown",
   "metadata": {},
   "source": [
    "### 8. Make a scatter plot of short_pass vs marking and use the preffered_foot column to color-encode the dots."
   ]
  },
  {
   "cell_type": "code",
   "execution_count": 72,
   "metadata": {},
   "outputs": [
    {
     "data": {
      "image/png": "[encoded data removed]",
      "text/plain": [
       "<matplotlib.figure.Figure at 0x7fa8e42be250>"
      ]
     },
     "metadata": {},
     "output_type": "display_data"
    }
   ],
   "source": [
    "color_dict = {\"Right\":\"y\", \"Left\":\"g\"}\n",
    "\n",
    "#Create new pandas series object which is the legendary column but with color-encoding\n",
    "colors = fifa2.preffered_foot.map(color_dict)\n",
    "\n",
    "\n",
    "#plt.scatter(\"short_pass\", \"marking\", c=colors, data=fifa2);\n",
    "\n",
    "fifa2.plot(x=\"short_pass\", y = \"marking\", kind=\"scatter\", c=colors, figsize=(10, 7), )\n",
    "plt.show()"
   ]
  },
  {
   "cell_type": "markdown",
   "metadata": {},
   "source": [
    "### 9. Make a grouped boxplots using club_position as the x axis for the following attributes: dribbling, balance, and sliding_tackle"
   ]
  },
  {
   "cell_type": "code",
   "execution_count": 87,
   "metadata": {},
   "outputs": [
    {
     "data": {
      "text/plain": [
       "<matplotlib.figure.Figure at 0x7fa8e3a17dd0>"
      ]
     },
     "metadata": {},
     "output_type": "display_data"
    },
    {
     "data": {
      "image/png": "[encoded data removed]",
      "text/plain": [
       "<matplotlib.figure.Figure at 0x7fa8e39d4e50>"
      ]
     },
     "metadata": {},
     "output_type": "display_data"
    }
   ],
   "source": [
    "#Dribbling boxplot\n",
    "#fifa2.groupby(\"club_position\")[\"d\"].mean().plot(kind=\"box\", figsize=(10,8), \n",
    "#                                           title = \"Average Skill Ratings by Club Position\")\n",
    "#plt.show()\n",
    "\n",
    "plt.figure(figsize=(10, 8))\n",
    "fifa2.boxplot(column=\"dribbling\", by=\"club_position\")\n",
    "plt.tight_layout()\n",
    "plt.show()"
   ]
  },
  {
   "cell_type": "markdown",
   "metadata": {},
   "source": [
    "Which position is better at dribbling? ST or RCM? Why?"
   ]
  },
  {
   "cell_type": "code",
   "execution_count": 80,
   "metadata": {},
   "outputs": [
    {
     "data": {
      "text/plain": [
       "club_position\n",
       "CAM    84.000000\n",
       "CB     60.250000\n",
       "CDM    75.400000\n",
       "LB     76.750000\n",
       "LCB    62.166667\n",
       "LCM    79.750000\n",
       "LDM    75.333333\n",
       "LF     80.000000\n",
       "LM     81.666667\n",
       "LW     89.500000\n",
       "LWB    78.000000\n",
       "RB     77.750000\n",
       "RCB    63.333333\n",
       "RCM    79.625000\n",
       "RDM    87.000000\n",
       "RF     87.000000\n",
       "RM     84.166667\n",
       "RW     87.875000\n",
       "RWB    84.000000\n",
       "Res    63.928571\n",
       "ST     83.750000\n",
       "Sub    67.044776\n",
       "Name: dribbling, dtype: float64"
      ]
     },
     "execution_count": 80,
     "metadata": {},
     "output_type": "execute_result"
    }
   ],
   "source": [
    "fifa2.groupby(\"club_position\")[\"dribbling\"].mean()\n",
    "#ST > RCM Higher Average"
   ]
  },
  {
   "cell_type": "code",
   "execution_count": 106,
   "metadata": {},
   "outputs": [
    {
     "data": {
      "text/plain": [
       "<matplotlib.figure.Figure at 0x7fa8e3707310>"
      ]
     },
     "metadata": {},
     "output_type": "display_data"
    },
    {
     "data": {
      "image/png": "[encoded data removed]",
      "text/plain": [
       "<matplotlib.figure.Figure at 0x7fa8e369d310>"
      ]
     },
     "metadata": {},
     "output_type": "display_data"
    }
   ],
   "source": [
    "#Balance boxplot\n",
    "plt.figure(figsize=(10, 8))\n",
    "fifa2.boxplot(column=\"balance\", by=\"club_position\")\n",
    "plt.tight_layout()\n",
    "plt.show()"
   ]
  },
  {
   "cell_type": "markdown",
   "metadata": {},
   "source": [
    "Which position is better at balance? LM or LDM? Why?"
   ]
  },
  {
   "cell_type": "code",
   "execution_count": 1,
   "metadata": {},
   "outputs": [
    {
     "ename": "NameError",
     "evalue": "name 'fifa2' is not defined",
     "output_type": "error",
     "traceback": [
      "\u001b[0;31m---------------------------------------------------------------------------\u001b[0m",
      "\u001b[0;31mNameError\u001b[0m                                 Traceback (most recent call last)",
      "\u001b[0;32m<ipython-input-1-3d51706267f7>\u001b[0m in \u001b[0;36m<module>\u001b[0;34m()\u001b[0m\n\u001b[0;32m----> 1\u001b[0;31m \u001b[0mfifa2\u001b[0m\u001b[0;34m.\u001b[0m\u001b[0mgroupby\u001b[0m\u001b[0;34m(\u001b[0m\u001b[0;34m\"club_position\"\u001b[0m\u001b[0;34m)\u001b[0m\u001b[0;34m[\u001b[0m\u001b[0;34m\"balance\"\u001b[0m\u001b[0;34m]\u001b[0m\u001b[0;34m.\u001b[0m\u001b[0mmean\u001b[0m\u001b[0;34m(\u001b[0m\u001b[0;34m)\u001b[0m\u001b[0;34m.\u001b[0m\u001b[0mloc\u001b[0m\u001b[0;34m[\u001b[0m\u001b[0;34m\"CB\"\u001b[0m\u001b[0;34m]\u001b[0m\u001b[0;34m\u001b[0m\u001b[0m\n\u001b[0m\u001b[1;32m      2\u001b[0m \u001b[0;31m#LM > LDM Higher Average\u001b[0m\u001b[0;34m\u001b[0m\u001b[0;34m\u001b[0m\u001b[0m\n",
      "\u001b[0;31mNameError\u001b[0m: name 'fifa2' is not defined"
     ]
    }
   ],
   "source": [
    "fifa2.groupby(\"club_position\")[\"balance\"].mean()\n",
    "#LM > LDM Higher Average"
   ]
  },
  {
   "cell_type": "code",
   "execution_count": 89,
   "metadata": {},
   "outputs": [
    {
     "data": {
      "text/plain": [
       "<matplotlib.figure.Figure at 0x7fa8e3a43cd0>"
      ]
     },
     "metadata": {},
     "output_type": "display_data"
    },
    {
     "data": {
      "image/png": "[encoded data removed]",
      "text/plain": [
       "<matplotlib.figure.Figure at 0x7fa8e3a328d0>"
      ]
     },
     "metadata": {},
     "output_type": "display_data"
    }
   ],
   "source": [
    "#sliding_tackle boxplot\n",
    "plt.figure(figsize=(10, 8))\n",
    "fifa2.boxplot(column=\"sliding_tackle\", by=\"club_position\")\n",
    "plt.tight_layout()\n",
    "plt.show()"
   ]
  },
  {
   "cell_type": "markdown",
   "metadata": {},
   "source": [
    "What is the IQR for positions ST, RB, and RM?"
   ]
  },
  {
   "cell_type": "code",
   "execution_count": 105,
   "metadata": {},
   "outputs": [
    {
     "data": {
      "text/plain": [
       "<matplotlib.figure.Figure at 0x7fa8e3a642d0>"
      ]
     },
     "metadata": {},
     "output_type": "display_data"
    },
    {
     "data": {
      "image/png": "[encoded data removed]",
      "text/plain": [
       "<matplotlib.figure.Figure at 0x7fa8e3a64a10>"
      ]
     },
     "metadata": {},
     "output_type": "display_data"
    }
   ],
   "source": [
    "rows = {\"ST\",\"RB\",\"RM\"}\n",
    "fifa3=fifa[fifa.club_position.isin(rows)]\n",
    "\n",
    "plt.figure(figsize=(10, 8))\n",
    "fifa3.boxplot(column=\"sliding_tackle\", by=\"club_position\")\n",
    "plt.tight_layout()\n",
    "plt.show()\n",
    "\n",
    "\n",
    "#fifa2.groupby(\"club_position\")[\"sliding_tackle\"].median() + fifa2.groupby(\"club_position\")[\"sliding_tackle\"].std()"
   ]
  },
  {
   "cell_type": "code",
   "execution_count": 107,
   "metadata": {},
   "outputs": [
    {
     "data": {
      "text/plain": [
       "club_position\n",
       "CAM    30.0\n",
       "CB     83.5\n",
       "CDM    75.0\n",
       "LB     81.0\n",
       "LCB    85.0\n",
       "LCM    75.5\n",
       "LDM    80.0\n",
       "LF     88.0\n",
       "LM     52.0\n",
       "LW     34.0\n",
       "LWB    76.0\n",
       "RB     83.0\n",
       "RCB    86.0\n",
       "RCM    73.5\n",
       "RDM    62.0\n",
       "RF     41.0\n",
       "RM     64.0\n",
       "RW     45.0\n",
       "RWB    64.0\n",
       "Res    71.5\n",
       "ST     27.0\n",
       "Sub    65.5\n",
       "Name: sliding_tackle, dtype: float64"
      ]
     },
     "execution_count": 107,
     "metadata": {},
     "output_type": "execute_result"
    }
   ],
   "source": [
    "#RB: 77 - 72\n",
    "#RM: 50 - 26\n",
    "#ST: 30-19"
   ]
  },
  {
   "cell_type": "code",
   "execution_count": 1,
   "metadata": {},
   "outputs": [
    {
     "ename": "NameError",
     "evalue": "name 'fifa3' is not defined",
     "output_type": "error",
     "traceback": [
      "\u001b[0;31m---------------------------------------------------------------------------\u001b[0m",
      "\u001b[0;31mNameError\u001b[0m                                 Traceback (most recent call last)",
      "\u001b[0;32m<ipython-input-1-03100b0fb77b>\u001b[0m in \u001b[0;36m<module>\u001b[0;34m()\u001b[0m\n\u001b[0;32m----> 1\u001b[0;31m \u001b[0mfifa3\u001b[0m\u001b[0;34m\u001b[0m\u001b[0m\n\u001b[0m",
      "\u001b[0;31mNameError\u001b[0m: name 'fifa3' is not defined"
     ]
    }
   ],
   "source": [
    "#possible alternative to eyeballing boxplot\n",
    "fifa3[\"sliding tackle\"].quantile(.75) - fifa3[\"sliding tackle\"].quantile(.25) - "
   ]
  },
  {
   "cell_type": "code",
   "execution_count": null,
   "metadata": {
    "collapsed": true
   },
   "outputs": [],
   "source": []
  }
 ],
 "metadata": {
  "anaconda-cloud": {},
  "kernelspec": {
   "display_name": "Python 2",
   "language": "python",
   "name": "python2"
  },
  "language_info": {
   "codemirror_mode": {
    "name": "ipython",
    "version": 2
   },
   "file_extension": ".py",
   "mimetype": "text/x-python",
   "name": "python",
   "nbconvert_exporter": "python",
   "pygments_lexer": "ipython2",
   "version": "2.7.14"
  }
 },
 "nbformat": 4,
 "nbformat_minor": 1
}
