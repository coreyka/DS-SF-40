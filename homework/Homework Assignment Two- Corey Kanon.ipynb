{
 "cells": [
  {
   "cell_type": "markdown",
   "metadata": {},
   "source": [
    "# Homework Assignment 2"
   ]
  },
  {
   "cell_type": "markdown",
   "metadata": {},
   "source": [
    "## Section 1: Admissions Dataset"
   ]
  },
  {
   "cell_type": "code",
   "execution_count": 1,
   "metadata": {
    "collapsed": true
   },
   "outputs": [],
   "source": [
    "#First round of imports\n",
    "\n",
    "import pandas as pd\n",
    "import numpy as np\n",
    "import matplotlib.pyplot as plt\n",
    "%matplotlib inline"
   ]
  },
  {
   "cell_type": "code",
   "execution_count": 2,
   "metadata": {},
   "outputs": [
    {
     "data": {
      "text/html": [
       "<div>\n",
       "<style>\n",
       "    .dataframe thead tr:only-child th {\n",
       "        text-align: right;\n",
       "    }\n",
       "\n",
       "    .dataframe thead th {\n",
       "        text-align: left;\n",
       "    }\n",
       "\n",
       "    .dataframe tbody tr th {\n",
       "        vertical-align: top;\n",
       "    }\n",
       "</style>\n",
       "<table border=\"1\" class=\"dataframe\">\n",
       "  <thead>\n",
       "    <tr style=\"text-align: right;\">\n",
       "      <th></th>\n",
       "      <th>admit</th>\n",
       "      <th>gre</th>\n",
       "      <th>gpa</th>\n",
       "      <th>prestige</th>\n",
       "    </tr>\n",
       "  </thead>\n",
       "  <tbody>\n",
       "    <tr>\n",
       "      <th>0</th>\n",
       "      <td>0</td>\n",
       "      <td>380.0</td>\n",
       "      <td>3.61</td>\n",
       "      <td>3.0</td>\n",
       "    </tr>\n",
       "    <tr>\n",
       "      <th>1</th>\n",
       "      <td>1</td>\n",
       "      <td>660.0</td>\n",
       "      <td>3.67</td>\n",
       "      <td>3.0</td>\n",
       "    </tr>\n",
       "    <tr>\n",
       "      <th>2</th>\n",
       "      <td>1</td>\n",
       "      <td>800.0</td>\n",
       "      <td>4.00</td>\n",
       "      <td>1.0</td>\n",
       "    </tr>\n",
       "    <tr>\n",
       "      <th>3</th>\n",
       "      <td>1</td>\n",
       "      <td>640.0</td>\n",
       "      <td>3.19</td>\n",
       "      <td>4.0</td>\n",
       "    </tr>\n",
       "    <tr>\n",
       "      <th>4</th>\n",
       "      <td>0</td>\n",
       "      <td>520.0</td>\n",
       "      <td>2.93</td>\n",
       "      <td>4.0</td>\n",
       "    </tr>\n",
       "  </tbody>\n",
       "</table>\n",
       "</div>"
      ],
      "text/plain": [
       "   admit    gre   gpa  prestige\n",
       "0      0  380.0  3.61       3.0\n",
       "1      1  660.0  3.67       3.0\n",
       "2      1  800.0  4.00       1.0\n",
       "3      1  640.0  3.19       4.0\n",
       "4      0  520.0  2.93       4.0"
      ]
     },
     "execution_count": 2,
     "metadata": {},
     "output_type": "execute_result"
    }
   ],
   "source": [
    "#data\n",
    "admissions = pd.read_csv(\"../data/dataset-ucla-admissions.csv\")\n",
    "\n",
    "admissions.head()"
   ]
  },
  {
   "cell_type": "markdown",
   "metadata": {},
   "source": [
    "**Question 1:**\n",
    "\n",
    "What is the target/outcome variable? What are the features? Which features are continous or categorical? What is the null accuracy? If there are categorical variables, turn them into dummy variables and concatenate them with the data."
   ]
  },
  {
   "cell_type": "code",
   "execution_count": 3,
   "metadata": {},
   "outputs": [
    {
     "data": {
      "text/plain": [
       "0    0.6825\n",
       "1    0.3175\n",
       "Name: admit, dtype: float64"
      ]
     },
     "execution_count": 3,
     "metadata": {},
     "output_type": "execute_result"
    }
   ],
   "source": [
    "#Target Variable is admit\n",
    "#Features are gre, gpa, prestige\n",
    "#gre and gpa are continuous. prestige is categorical (you may be able to convince me otherwise, but let's go with this assessment)\n",
    "\n",
    "admissions.admit.value_counts(normalize=True)\n",
    "#68.25% is the null accuracy\n"
   ]
  },
  {
   "cell_type": "code",
   "execution_count": 4,
   "metadata": {},
   "outputs": [
    {
     "data": {
      "text/html": [
       "<div>\n",
       "<style>\n",
       "    .dataframe thead tr:only-child th {\n",
       "        text-align: right;\n",
       "    }\n",
       "\n",
       "    .dataframe thead th {\n",
       "        text-align: left;\n",
       "    }\n",
       "\n",
       "    .dataframe tbody tr th {\n",
       "        vertical-align: top;\n",
       "    }\n",
       "</style>\n",
       "<table border=\"1\" class=\"dataframe\">\n",
       "  <thead>\n",
       "    <tr style=\"text-align: right;\">\n",
       "      <th></th>\n",
       "      <th>admit</th>\n",
       "      <th>gre</th>\n",
       "      <th>gpa</th>\n",
       "      <th>pres_2.0</th>\n",
       "      <th>pres_3.0</th>\n",
       "      <th>pres_4.0</th>\n",
       "    </tr>\n",
       "  </thead>\n",
       "  <tbody>\n",
       "    <tr>\n",
       "      <th>0</th>\n",
       "      <td>0</td>\n",
       "      <td>380.0</td>\n",
       "      <td>3.61</td>\n",
       "      <td>0</td>\n",
       "      <td>1</td>\n",
       "      <td>0</td>\n",
       "    </tr>\n",
       "    <tr>\n",
       "      <th>1</th>\n",
       "      <td>1</td>\n",
       "      <td>660.0</td>\n",
       "      <td>3.67</td>\n",
       "      <td>0</td>\n",
       "      <td>1</td>\n",
       "      <td>0</td>\n",
       "    </tr>\n",
       "    <tr>\n",
       "      <th>2</th>\n",
       "      <td>1</td>\n",
       "      <td>800.0</td>\n",
       "      <td>4.00</td>\n",
       "      <td>0</td>\n",
       "      <td>0</td>\n",
       "      <td>0</td>\n",
       "    </tr>\n",
       "    <tr>\n",
       "      <th>3</th>\n",
       "      <td>1</td>\n",
       "      <td>640.0</td>\n",
       "      <td>3.19</td>\n",
       "      <td>0</td>\n",
       "      <td>0</td>\n",
       "      <td>1</td>\n",
       "    </tr>\n",
       "    <tr>\n",
       "      <th>4</th>\n",
       "      <td>0</td>\n",
       "      <td>520.0</td>\n",
       "      <td>2.93</td>\n",
       "      <td>0</td>\n",
       "      <td>0</td>\n",
       "      <td>1</td>\n",
       "    </tr>\n",
       "  </tbody>\n",
       "</table>\n",
       "</div>"
      ],
      "text/plain": [
       "   admit    gre   gpa  pres_2.0  pres_3.0  pres_4.0\n",
       "0      0  380.0  3.61         0         1         0\n",
       "1      1  660.0  3.67         0         1         0\n",
       "2      1  800.0  4.00         0         0         0\n",
       "3      1  640.0  3.19         0         0         1\n",
       "4      0  520.0  2.93         0         0         1"
      ]
     },
     "execution_count": 4,
     "metadata": {},
     "output_type": "execute_result"
    }
   ],
   "source": [
    "pres_dums = pd.get_dummies(admissions.prestige, prefix = \"pres\", drop_first=True)\n",
    "pres_dums.head()\n",
    "admissions.drop(\"prestige\", axis= 1, inplace=True)\n",
    "admissions = pd.concat([admissions, pres_dums], axis=1)\n",
    "admissions.head()"
   ]
  },
  {
   "cell_type": "markdown",
   "metadata": {},
   "source": [
    "**Question 2:**\n",
    "\n",
    "What do you think is the goal of using machine learning with this dataset."
   ]
  },
  {
   "cell_type": "code",
   "execution_count": 5,
   "metadata": {
    "collapsed": true
   },
   "outputs": [],
   "source": [
    "#predict if a student will be admitted to the school"
   ]
  },
  {
   "cell_type": "markdown",
   "metadata": {},
   "source": [
    "**Question 3:** Make a scatter plot of gpa vs gre color-encoded using the admit feature. What does this graph tell you?"
   ]
  },
  {
   "cell_type": "code",
   "execution_count": 6,
   "metadata": {},
   "outputs": [
    {
     "data": {
      "image/png": "[encoded data removed]",
      "text/plain": [
       "<matplotlib.figure.Figure at 0x7f2f9609bfd0>"
      ]
     },
     "metadata": {},
     "output_type": "display_data"
    }
   ],
   "source": [
    "plt.figure(figsize=(8, 5))\n",
    "\n",
    "colors = admissions.admit.map({0: \"y\", 1:\"g\"})\n",
    "plt.scatter(admissions.gpa, admissions.gre, c=colors)\n",
    "\n",
    "#Label x and y axes\n",
    "plt.xlabel(\"gpa\")\n",
    "plt.ylabel(\"gre\")\n",
    "plt.show()\n",
    "\n",
    "#combination of gre and gpa scores that were admitted or not"
   ]
  },
  {
   "cell_type": "markdown",
   "metadata": {},
   "source": [
    "**Question 4:** \n",
    "\n",
    "    - 1. Make a train test split using a quarter of the data for testing.\n",
    "    - 2. Fit a Logistic Regression model on the training data.\n",
    "    - 3. Evaluate the model on both the training and testing datasets using accuracy score.\n",
    "    - 4. Whats difference in the accuracy score of training and testing datasets? Is this evidence of overfitting?"
   ]
  },
  {
   "cell_type": "code",
   "execution_count": 7,
   "metadata": {},
   "outputs": [
    {
     "name": "stderr",
     "output_type": "stream",
     "text": [
      "/home/villager/Programs/anaconda2/lib/python2.7/site-packages/sklearn/cross_validation.py:41: DeprecationWarning: This module was deprecated in version 0.18 in favor of the model_selection module into which all the refactored classes and functions are moved. Also note that the interface of the new CV iterators are different from that of this module. This module will be removed in 0.20.\n",
      "  \"This module will be removed in 0.20.\", DeprecationWarning)\n",
      "/home/villager/Programs/anaconda2/lib/python2.7/site-packages/sklearn/grid_search.py:42: DeprecationWarning: This module was deprecated in version 0.18 in favor of the model_selection module into which all the refactored classes and functions are moved. This module will be removed in 0.20.\n",
      "  DeprecationWarning)\n"
     ]
    }
   ],
   "source": [
    "from sklearn.linear_model import LogisticRegression\n",
    "from sklearn.metrics import accuracy_score, confusion_matrix, recall_score, precision_score\n",
    "from sklearn.cluster import KMeans\n",
    "from sklearn.preprocessing import StandardScaler\n",
    "from sklearn.cross_validation import train_test_split, cross_val_score\n",
    "from sklearn.datasets import load_digits\n",
    "from sklearn.neighbors import KNeighborsClassifier\n",
    "from sklearn.tree import DecisionTreeClassifier\n",
    "import seaborn as sb\n",
    "from sklearn.grid_search import GridSearchCV\n",
    "from sklearn.pipeline import Pipeline, make_pipeline"
   ]
  },
  {
   "cell_type": "code",
   "execution_count": 8,
   "metadata": {},
   "outputs": [
    {
     "name": "stdout",
     "output_type": "stream",
     "text": [
      "<class 'pandas.core.frame.DataFrame'>\n",
      "RangeIndex: 400 entries, 0 to 399\n",
      "Data columns (total 6 columns):\n",
      "admit       400 non-null int64\n",
      "gre         398 non-null float64\n",
      "gpa         398 non-null float64\n",
      "pres_2.0    400 non-null uint8\n",
      "pres_3.0    400 non-null uint8\n",
      "pres_4.0    400 non-null uint8\n",
      "dtypes: float64(2), int64(1), uint8(3)\n",
      "memory usage: 10.6 KB\n"
     ]
    }
   ],
   "source": [
    "admissions.info()\n",
    "admissions.dropna(inplace=True)"
   ]
  },
  {
   "cell_type": "code",
   "execution_count": null,
   "metadata": {
    "collapsed": true
   },
   "outputs": [],
   "source": []
  },
  {
   "cell_type": "code",
   "execution_count": 19,
   "metadata": {},
   "outputs": [
    {
     "name": "stdout",
     "output_type": "stream",
     "text": [
      "The test model produces an accuracy score of 75.00 percent\n",
      "The train model produces an accuracy score of 68.35 percent\n"
     ]
    }
   ],
   "source": [
    "X = admissions.drop(\"admit\", axis=1)\n",
    "y = admissions.admit\n",
    "\n",
    "X_train, X_test, y_train, y_test = train_test_split(X, y, test_size=0.25)\n",
    "\n",
    "\n",
    "lr = LogisticRegression()\n",
    "lr.fit(X_train, y_train)\n",
    "\n",
    "score = lr.score(X_test,y_test)\n",
    "print (\"The test model produces an accuracy score of {:.2f} percent\".format(score*100))\n",
    "#78% is somewhat better than the null accuracy\n",
    "\n",
    "score = lr.score(X_train,y_train)\n",
    "print (\"The train model produces an accuracy score of {:.2f} percent\".format(score*100))\n",
    "#68.69% is less than the test data - so not overfitting"
   ]
  },
  {
   "cell_type": "code",
   "execution_count": null,
   "metadata": {
    "collapsed": true
   },
   "outputs": [],
   "source": []
  },
  {
   "cell_type": "markdown",
   "metadata": {},
   "source": [
    "**Question 5:** Use grid search to determine the K-Neigbors values in a KNN model trained on this dataset and to determine the best max_depth value in a Decision Tree model as well. Which model is better? Use roc_auc as your evaluation metric."
   ]
  },
  {
   "cell_type": "code",
   "execution_count": 10,
   "metadata": {},
   "outputs": [
    {
     "data": {
      "image/png": "[encoded data removed]",
      "text/plain": [
       "<matplotlib.figure.Figure at 0x7f2f8f5467d0>"
      ]
     },
     "metadata": {},
     "output_type": "display_data"
    }
   ],
   "source": [
    "#Initialize neighbors list\n",
    "neighbors = range(3, 41, 2)\n",
    "#Intialize list with cross validated scores\n",
    "cv_scores = []\n",
    "\n",
    "for i in neighbors:\n",
    "    #Fit model with i\n",
    "    model = KNeighborsClassifier(n_neighbors=i)\n",
    "    cv_score = cross_val_score(model, X, y, cv =5 , scoring=\"roc_auc\").mean()\n",
    "    #Append cv_score to cv_scores\n",
    "    cv_scores.append(cv_score)\n",
    "    \n",
    "#Plot line plot of neighbors vs cv_scores\n",
    "plt.figure(figsize=(6, 6))\n",
    "plt.plot(neighbors, cv_scores, linewidth = 5)\n",
    "plt.xlabel(\"N Neighbors\")\n",
    "plt.ylabel(\"roc_auc Score\")\n",
    "plt.show()\n",
    "\n",
    "#n=15 gives a score of ~.642"
   ]
  },
  {
   "cell_type": "code",
   "execution_count": 11,
   "metadata": {},
   "outputs": [
    {
     "data": {
      "text/plain": [
       "{'n_neighbors': 15}"
      ]
     },
     "execution_count": 11,
     "metadata": {},
     "output_type": "execute_result"
    }
   ],
   "source": [
    "#instructions said to use grid search so let's do that\n",
    "\n",
    "#Range of neighbors to test\n",
    "neighbors_range = range(1, 41, 2)\n",
    "\n",
    "#Dictionary of parameter values \n",
    "param_grid_knn = {}\n",
    "param_grid_knn[\"n_neighbors\"] = neighbors_range\n",
    "\n",
    "grid_knn = GridSearchCV(estimator = KNeighborsClassifier(), \n",
    "                        param_grid = param_grid_knn, cv = 5, scoring = \"roc_auc\")\n",
    "grid_knn.fit(X, y)\n",
    "#grid_knn.best_score_\n",
    "grid_knn.best_params_\n"
   ]
  },
  {
   "cell_type": "code",
   "execution_count": 12,
   "metadata": {},
   "outputs": [
    {
     "data": {
      "text/plain": [
       "0.6425406555381367"
      ]
     },
     "execution_count": 12,
     "metadata": {},
     "output_type": "execute_result"
    }
   ],
   "source": [
    "grid_knn.best_score_"
   ]
  },
  {
   "cell_type": "markdown",
   "metadata": {},
   "source": []
  },
  {
   "cell_type": "code",
   "execution_count": null,
   "metadata": {
    "collapsed": true
   },
   "outputs": [],
   "source": []
  },
  {
   "cell_type": "code",
   "execution_count": 13,
   "metadata": {},
   "outputs": [
    {
     "data": {
      "image/png": "[encoded data removed]",
      "text/plain": [
       "<matplotlib.figure.Figure at 0x7f2f8f5a74d0>"
      ]
     },
     "metadata": {},
     "output_type": "display_data"
    }
   ],
   "source": [
    "#Let's find the best max_depth for a Decision Tree\n",
    "depths = range(1, 21)\n",
    "\n",
    "cv_scores = []\n",
    "\n",
    "for i in depths:\n",
    "    cv = cross_val_score(DecisionTreeClassifier(max_depth=i), X, y, cv =5, scoring=\"roc_auc\")\n",
    "    cv_mean = cv.mean()\n",
    "    cv_scores.append(cv_mean)\n",
    "\n",
    "plt.figure(figsize=(6, 6))\n",
    "plt.plot(depths, cv_scores, linewidth = 5)\n",
    "plt.xlabel(\"Max Depth Values\")\n",
    "plt.ylabel(\"Average Cross Validated roc\");\n",
    "\n",
    "#max depth of 1 gives roc_auc of ~.61"
   ]
  },
  {
   "cell_type": "code",
   "execution_count": 14,
   "metadata": {},
   "outputs": [
    {
     "data": {
      "text/plain": [
       "{'max_depth': 1}"
      ]
     },
     "execution_count": 14,
     "metadata": {},
     "output_type": "execute_result"
    }
   ],
   "source": [
    "#instructions said to use grid search so let's do that\n",
    "\n",
    "depth_range = range(1, 21, 2)\n",
    "\n",
    "#Dictionary of parameter values \n",
    "param_grid_dt = {}\n",
    "param_grid_dt[\"max_depth\"] = depth_range\n",
    "\n",
    "grid_dt = GridSearchCV(estimator = DecisionTreeClassifier(), \n",
    "                        param_grid = param_grid_dt, cv = 5, scoring = \"roc_auc\")\n",
    "grid_dt.fit(X, y)\n",
    "#grid_dt.best_score_\n",
    "grid_dt.best_params_\n"
   ]
  },
  {
   "cell_type": "code",
   "execution_count": 15,
   "metadata": {},
   "outputs": [
    {
     "data": {
      "text/plain": [
       "0.6104154442441596"
      ]
     },
     "execution_count": 15,
     "metadata": {},
     "output_type": "execute_result"
    }
   ],
   "source": [
    "grid_dt.best_score_"
   ]
  },
  {
   "cell_type": "markdown",
   "metadata": {},
   "source": [
    "K-Nearest Neighbors seems better"
   ]
  },
  {
   "cell_type": "markdown",
   "metadata": {},
   "source": [
    "**Question 6:** If you work in an admissions department, would you rather have a model that minimizes false negatives or minimizes false positives? Why?"
   ]
  },
  {
   "cell_type": "markdown",
   "metadata": {
    "collapsed": true
   },
   "source": [
    "Probably better to minimize false negatives because, while there is a cost, the penalty of admitting a student does not seem as bad as rejecting a student who deserves admission."
   ]
  },
  {
   "cell_type": "markdown",
   "metadata": {},
   "source": [
    "**Question 7:** Using the Logistic Regression from Question 4, what is the probability of admission of the following prospective students:\n",
    "\n",
    "    - Student 1: GRE = 560, GPA = 3.6, Prestige = 2.\n",
    "    - Student 2: GRE = 750, GPA = 3.8, Prestige = 4.\n",
    "    - Student 3: GRE = 660, GPA = 3.1, Prestige = 1."
   ]
  },
  {
   "cell_type": "code",
   "execution_count": 16,
   "metadata": {
    "collapsed": true
   },
   "outputs": [],
   "source": [
    "X_new = pd.DataFrame({'gre': [560, 750, 660], 'gpa': [3.6, 3.8, 3.1], 'pres_2.0': [1,0,0], 'pres_3.0': [0,0,0], 'pres_4.0':[0,1,0]})"
   ]
  },
  {
   "cell_type": "code",
   "execution_count": 17,
   "metadata": {},
   "outputs": [
    {
     "data": {
      "text/html": [
       "<div>\n",
       "<style>\n",
       "    .dataframe thead tr:only-child th {\n",
       "        text-align: right;\n",
       "    }\n",
       "\n",
       "    .dataframe thead th {\n",
       "        text-align: left;\n",
       "    }\n",
       "\n",
       "    .dataframe tbody tr th {\n",
       "        vertical-align: top;\n",
       "    }\n",
       "</style>\n",
       "<table border=\"1\" class=\"dataframe\">\n",
       "  <thead>\n",
       "    <tr style=\"text-align: right;\">\n",
       "      <th></th>\n",
       "      <th>gpa</th>\n",
       "      <th>gre</th>\n",
       "      <th>pres_2.0</th>\n",
       "      <th>pres_3.0</th>\n",
       "      <th>pres_4.0</th>\n",
       "    </tr>\n",
       "  </thead>\n",
       "  <tbody>\n",
       "    <tr>\n",
       "      <th>0</th>\n",
       "      <td>3.6</td>\n",
       "      <td>560</td>\n",
       "      <td>1</td>\n",
       "      <td>0</td>\n",
       "      <td>0</td>\n",
       "    </tr>\n",
       "    <tr>\n",
       "      <th>1</th>\n",
       "      <td>3.8</td>\n",
       "      <td>750</td>\n",
       "      <td>0</td>\n",
       "      <td>0</td>\n",
       "      <td>1</td>\n",
       "    </tr>\n",
       "    <tr>\n",
       "      <th>2</th>\n",
       "      <td>3.1</td>\n",
       "      <td>660</td>\n",
       "      <td>0</td>\n",
       "      <td>0</td>\n",
       "      <td>0</td>\n",
       "    </tr>\n",
       "  </tbody>\n",
       "</table>\n",
       "</div>"
      ],
      "text/plain": [
       "   gpa  gre  pres_2.0  pres_3.0  pres_4.0\n",
       "0  3.6  560         1         0         0\n",
       "1  3.8  750         0         0         1\n",
       "2  3.1  660         0         0         0"
      ]
     },
     "execution_count": 17,
     "metadata": {},
     "output_type": "execute_result"
    }
   ],
   "source": [
    "X_new"
   ]
  },
  {
   "cell_type": "code",
   "execution_count": 27,
   "metadata": {},
   "outputs": [
    {
     "data": {
      "text/plain": [
       "array([ 1.,  1.,  1.])"
      ]
     },
     "execution_count": 27,
     "metadata": {},
     "output_type": "execute_result"
    }
   ],
   "source": [
    "X = admissions.drop(\"admit\", axis=1)\n",
    "\n",
    "\n",
    "lr.predict_proba(X_new)[:, 1]"
   ]
  },
  {
   "cell_type": "markdown",
   "metadata": {},
   "source": [
    "1 seems too certain *Ask George"
   ]
  },
  {
   "cell_type": "markdown",
   "metadata": {},
   "source": [
    "## Section 2: Mystery Dataset\n",
    "\n",
    "In this section you will work with a \"mystery\" supervised classification dataset, in that you have no context to work with — the names of the features come from San Francisco neighborhoods but aren't related to anything to San Francisco.\n",
    "\n",
    "<br>\n",
    "\n",
    "In this section I want to devise the best possible model with the fewest number of features. Some of the features are informative, while others are junk, your task is to find the good ones while dropping the bad ones.\n",
    "\n",
    "<br>\n",
    "\n",
    "I want you to thoroughly test at least three algorithms in order to find the best one with the best parameters."
   ]
  },
  {
   "cell_type": "code",
   "execution_count": 28,
   "metadata": {},
   "outputs": [
    {
     "data": {
      "text/html": [
       "<div>\n",
       "<style>\n",
       "    .dataframe thead tr:only-child th {\n",
       "        text-align: right;\n",
       "    }\n",
       "\n",
       "    .dataframe thead th {\n",
       "        text-align: left;\n",
       "    }\n",
       "\n",
       "    .dataframe tbody tr th {\n",
       "        vertical-align: top;\n",
       "    }\n",
       "</style>\n",
       "<table border=\"1\" class=\"dataframe\">\n",
       "  <thead>\n",
       "    <tr style=\"text-align: right;\">\n",
       "      <th></th>\n",
       "      <th>haight</th>\n",
       "      <th>mission</th>\n",
       "      <th>soma</th>\n",
       "      <th>sunset</th>\n",
       "      <th>richmond</th>\n",
       "      <th>glen_park</th>\n",
       "      <th>castro</th>\n",
       "      <th>potrero</th>\n",
       "      <th>hayes_valley</th>\n",
       "      <th>fillmore</th>\n",
       "      <th>bernal</th>\n",
       "      <th>marina</th>\n",
       "      <th>north_beach</th>\n",
       "      <th>excelsior</th>\n",
       "      <th>target</th>\n",
       "    </tr>\n",
       "  </thead>\n",
       "  <tbody>\n",
       "    <tr>\n",
       "      <th>0</th>\n",
       "      <td>-3.126509</td>\n",
       "      <td>7.807749</td>\n",
       "      <td>0.959736</td>\n",
       "      <td>-2.248569</td>\n",
       "      <td>4.557675</td>\n",
       "      <td>1.110156</td>\n",
       "      <td>0.617296</td>\n",
       "      <td>0.356864</td>\n",
       "      <td>0.860267</td>\n",
       "      <td>-0.395962</td>\n",
       "      <td>-1.144975</td>\n",
       "      <td>-1.805742</td>\n",
       "      <td>1.498388</td>\n",
       "      <td>2.157730</td>\n",
       "      <td>1</td>\n",
       "    </tr>\n",
       "    <tr>\n",
       "      <th>1</th>\n",
       "      <td>0.941629</td>\n",
       "      <td>2.935495</td>\n",
       "      <td>-0.584966</td>\n",
       "      <td>-0.880963</td>\n",
       "      <td>-1.262072</td>\n",
       "      <td>0.120989</td>\n",
       "      <td>3.970787</td>\n",
       "      <td>2.509629</td>\n",
       "      <td>1.400017</td>\n",
       "      <td>0.574335</td>\n",
       "      <td>-3.389879</td>\n",
       "      <td>-0.898020</td>\n",
       "      <td>0.512079</td>\n",
       "      <td>4.340694</td>\n",
       "      <td>1</td>\n",
       "    </tr>\n",
       "    <tr>\n",
       "      <th>2</th>\n",
       "      <td>-0.724688</td>\n",
       "      <td>4.192606</td>\n",
       "      <td>-1.139602</td>\n",
       "      <td>0.856972</td>\n",
       "      <td>0.906893</td>\n",
       "      <td>-2.799484</td>\n",
       "      <td>0.584498</td>\n",
       "      <td>3.468955</td>\n",
       "      <td>1.011336</td>\n",
       "      <td>0.839612</td>\n",
       "      <td>-1.384781</td>\n",
       "      <td>-0.241726</td>\n",
       "      <td>1.502255</td>\n",
       "      <td>-1.539356</td>\n",
       "      <td>1</td>\n",
       "    </tr>\n",
       "    <tr>\n",
       "      <th>3</th>\n",
       "      <td>-2.641034</td>\n",
       "      <td>6.963189</td>\n",
       "      <td>0.962412</td>\n",
       "      <td>-0.838858</td>\n",
       "      <td>1.549620</td>\n",
       "      <td>-2.335671</td>\n",
       "      <td>-0.838585</td>\n",
       "      <td>1.924333</td>\n",
       "      <td>2.794306</td>\n",
       "      <td>-0.421610</td>\n",
       "      <td>-1.273275</td>\n",
       "      <td>0.833424</td>\n",
       "      <td>2.268457</td>\n",
       "      <td>-0.004678</td>\n",
       "      <td>0</td>\n",
       "    </tr>\n",
       "    <tr>\n",
       "      <th>4</th>\n",
       "      <td>1.259116</td>\n",
       "      <td>4.741797</td>\n",
       "      <td>1.084332</td>\n",
       "      <td>0.186698</td>\n",
       "      <td>4.794145</td>\n",
       "      <td>-1.093006</td>\n",
       "      <td>2.161358</td>\n",
       "      <td>3.264167</td>\n",
       "      <td>-0.060052</td>\n",
       "      <td>1.154145</td>\n",
       "      <td>-2.030773</td>\n",
       "      <td>-1.442986</td>\n",
       "      <td>0.588193</td>\n",
       "      <td>0.533464</td>\n",
       "      <td>1</td>\n",
       "    </tr>\n",
       "  </tbody>\n",
       "</table>\n",
       "</div>"
      ],
      "text/plain": [
       "     haight   mission      soma    sunset  richmond  glen_park    castro  \\\n",
       "0 -3.126509  7.807749  0.959736 -2.248569  4.557675   1.110156  0.617296   \n",
       "1  0.941629  2.935495 -0.584966 -0.880963 -1.262072   0.120989  3.970787   \n",
       "2 -0.724688  4.192606 -1.139602  0.856972  0.906893  -2.799484  0.584498   \n",
       "3 -2.641034  6.963189  0.962412 -0.838858  1.549620  -2.335671 -0.838585   \n",
       "4  1.259116  4.741797  1.084332  0.186698  4.794145  -1.093006  2.161358   \n",
       "\n",
       "    potrero  hayes_valley  fillmore    bernal    marina  north_beach  \\\n",
       "0  0.356864      0.860267 -0.395962 -1.144975 -1.805742     1.498388   \n",
       "1  2.509629      1.400017  0.574335 -3.389879 -0.898020     0.512079   \n",
       "2  3.468955      1.011336  0.839612 -1.384781 -0.241726     1.502255   \n",
       "3  1.924333      2.794306 -0.421610 -1.273275  0.833424     2.268457   \n",
       "4  3.264167     -0.060052  1.154145 -2.030773 -1.442986     0.588193   \n",
       "\n",
       "   excelsior  target  \n",
       "0   2.157730       1  \n",
       "1   4.340694       1  \n",
       "2  -1.539356       1  \n",
       "3  -0.004678       0  \n",
       "4   0.533464       1  "
      ]
     },
     "execution_count": 28,
     "metadata": {},
     "output_type": "execute_result"
    }
   ],
   "source": [
    "data = pd.read_csv(\"../data/homework_2_data.csv\", index_col=[0])\n",
    "\n",
    "data.head()"
   ]
  },
  {
   "cell_type": "code",
   "execution_count": 29,
   "metadata": {},
   "outputs": [
    {
     "data": {
      "text/plain": [
       "haight          0\n",
       "mission         0\n",
       "soma            0\n",
       "sunset          0\n",
       "richmond        0\n",
       "glen_park       0\n",
       "castro          0\n",
       "potrero         0\n",
       "hayes_valley    0\n",
       "fillmore        0\n",
       "bernal          0\n",
       "marina          0\n",
       "north_beach     0\n",
       "excelsior       0\n",
       "target          0\n",
       "dtype: int64"
      ]
     },
     "execution_count": 29,
     "metadata": {},
     "output_type": "execute_result"
    }
   ],
   "source": [
    "#First let's use basic EDA\n",
    "data.isnull().sum()\n",
    "#ok so we don't need to drop features based on incomplete data"
   ]
  },
  {
   "cell_type": "code",
   "execution_count": 30,
   "metadata": {},
   "outputs": [
    {
     "name": "stdout",
     "output_type": "stream",
     "text": [
      "The accuracy score is 77.25 percent\n"
     ]
    }
   ],
   "source": [
    "#We can start with Logistic Regression just to get a baseline model of the data\n",
    "X = data.drop(\"target\", axis=1)\n",
    "y = data.target\n",
    "\n",
    "X_train, X_test, y_train, y_test = train_test_split(X, y, \n",
    "                                                    test_size=0.33,\n",
    "                                                    random_state=4)\n",
    "lr = LogisticRegression()\n",
    "lr.fit(X_train, y_train)\n",
    "\n",
    "#Evaulate on accuracy for now\n",
    "score = lr.score(X,y)\n",
    "print (\"The accuracy score is {:.2f} percent\".format(score*100))"
   ]
  },
  {
   "cell_type": "code",
   "execution_count": 31,
   "metadata": {},
   "outputs": [
    {
     "data": {
      "text/plain": [
       "0    63.825\n",
       "1    36.175\n",
       "Name: target, dtype: float64"
      ]
     },
     "execution_count": 31,
     "metadata": {},
     "output_type": "execute_result"
    }
   ],
   "source": [
    "#Null accuracy\n",
    "y.value_counts(normalize=True)*100"
   ]
  },
  {
   "cell_type": "markdown",
   "metadata": {},
   "source": [
    "OK not bad - we are better than the null accuracy but there is room for improvement"
   ]
  },
  {
   "cell_type": "code",
   "execution_count": 32,
   "metadata": {},
   "outputs": [
    {
     "data": {
      "text/html": [
       "<div>\n",
       "<style>\n",
       "    .dataframe thead tr:only-child th {\n",
       "        text-align: right;\n",
       "    }\n",
       "\n",
       "    .dataframe thead th {\n",
       "        text-align: left;\n",
       "    }\n",
       "\n",
       "    .dataframe tbody tr th {\n",
       "        vertical-align: top;\n",
       "    }\n",
       "</style>\n",
       "<table border=\"1\" class=\"dataframe\">\n",
       "  <thead>\n",
       "    <tr style=\"text-align: right;\">\n",
       "      <th></th>\n",
       "      <th>haight</th>\n",
       "      <th>mission</th>\n",
       "      <th>soma</th>\n",
       "      <th>sunset</th>\n",
       "      <th>richmond</th>\n",
       "      <th>glen_park</th>\n",
       "      <th>castro</th>\n",
       "      <th>potrero</th>\n",
       "      <th>hayes_valley</th>\n",
       "      <th>fillmore</th>\n",
       "      <th>bernal</th>\n",
       "      <th>marina</th>\n",
       "      <th>north_beach</th>\n",
       "      <th>excelsior</th>\n",
       "      <th>target</th>\n",
       "    </tr>\n",
       "  </thead>\n",
       "  <tbody>\n",
       "    <tr>\n",
       "      <th>haight</th>\n",
       "      <td>1.000000</td>\n",
       "      <td>-0.691099</td>\n",
       "      <td>-0.003451</td>\n",
       "      <td>0.017411</td>\n",
       "      <td>0.023025</td>\n",
       "      <td>-0.055019</td>\n",
       "      <td>-0.106320</td>\n",
       "      <td>-0.034309</td>\n",
       "      <td>-0.299097</td>\n",
       "      <td>0.006428</td>\n",
       "      <td>0.164962</td>\n",
       "      <td>0.028713</td>\n",
       "      <td>0.324309</td>\n",
       "      <td>-0.423019</td>\n",
       "      <td>-0.171926</td>\n",
       "    </tr>\n",
       "    <tr>\n",
       "      <th>mission</th>\n",
       "      <td>-0.691099</td>\n",
       "      <td>1.000000</td>\n",
       "      <td>0.013116</td>\n",
       "      <td>-0.006411</td>\n",
       "      <td>0.448394</td>\n",
       "      <td>0.023159</td>\n",
       "      <td>0.229411</td>\n",
       "      <td>0.248336</td>\n",
       "      <td>0.672682</td>\n",
       "      <td>-0.004066</td>\n",
       "      <td>-0.223609</td>\n",
       "      <td>-0.013775</td>\n",
       "      <td>-0.132077</td>\n",
       "      <td>0.508043</td>\n",
       "      <td>0.136988</td>\n",
       "    </tr>\n",
       "    <tr>\n",
       "      <th>soma</th>\n",
       "      <td>-0.003451</td>\n",
       "      <td>0.013116</td>\n",
       "      <td>1.000000</td>\n",
       "      <td>-0.017127</td>\n",
       "      <td>-0.008683</td>\n",
       "      <td>0.023943</td>\n",
       "      <td>0.033782</td>\n",
       "      <td>0.008518</td>\n",
       "      <td>0.011988</td>\n",
       "      <td>-0.003719</td>\n",
       "      <td>-0.015025</td>\n",
       "      <td>-0.003473</td>\n",
       "      <td>-0.021821</td>\n",
       "      <td>0.030777</td>\n",
       "      <td>0.010718</td>\n",
       "    </tr>\n",
       "    <tr>\n",
       "      <th>sunset</th>\n",
       "      <td>0.017411</td>\n",
       "      <td>-0.006411</td>\n",
       "      <td>-0.017127</td>\n",
       "      <td>1.000000</td>\n",
       "      <td>0.028527</td>\n",
       "      <td>-0.017834</td>\n",
       "      <td>0.011205</td>\n",
       "      <td>0.017100</td>\n",
       "      <td>-0.018217</td>\n",
       "      <td>0.000801</td>\n",
       "      <td>-0.007153</td>\n",
       "      <td>0.004034</td>\n",
       "      <td>-0.024942</td>\n",
       "      <td>-0.000102</td>\n",
       "      <td>-0.026396</td>\n",
       "    </tr>\n",
       "    <tr>\n",
       "      <th>richmond</th>\n",
       "      <td>0.023025</td>\n",
       "      <td>0.448394</td>\n",
       "      <td>-0.008683</td>\n",
       "      <td>0.028527</td>\n",
       "      <td>1.000000</td>\n",
       "      <td>0.011149</td>\n",
       "      <td>-0.038702</td>\n",
       "      <td>0.076728</td>\n",
       "      <td>0.091362</td>\n",
       "      <td>-0.007679</td>\n",
       "      <td>-0.202575</td>\n",
       "      <td>-0.023585</td>\n",
       "      <td>-0.067719</td>\n",
       "      <td>0.170600</td>\n",
       "      <td>-0.196710</td>\n",
       "    </tr>\n",
       "    <tr>\n",
       "      <th>glen_park</th>\n",
       "      <td>-0.055019</td>\n",
       "      <td>0.023159</td>\n",
       "      <td>0.023943</td>\n",
       "      <td>-0.017834</td>\n",
       "      <td>0.011149</td>\n",
       "      <td>1.000000</td>\n",
       "      <td>0.119650</td>\n",
       "      <td>-0.043640</td>\n",
       "      <td>-0.034043</td>\n",
       "      <td>0.010605</td>\n",
       "      <td>-0.019650</td>\n",
       "      <td>0.006034</td>\n",
       "      <td>-0.432634</td>\n",
       "      <td>0.374960</td>\n",
       "      <td>0.005610</td>\n",
       "    </tr>\n",
       "    <tr>\n",
       "      <th>castro</th>\n",
       "      <td>-0.106320</td>\n",
       "      <td>0.229411</td>\n",
       "      <td>0.033782</td>\n",
       "      <td>0.011205</td>\n",
       "      <td>-0.038702</td>\n",
       "      <td>0.119650</td>\n",
       "      <td>1.000000</td>\n",
       "      <td>-0.019393</td>\n",
       "      <td>0.118713</td>\n",
       "      <td>0.016342</td>\n",
       "      <td>0.063033</td>\n",
       "      <td>0.006320</td>\n",
       "      <td>-0.278914</td>\n",
       "      <td>0.441421</td>\n",
       "      <td>0.187220</td>\n",
       "    </tr>\n",
       "    <tr>\n",
       "      <th>potrero</th>\n",
       "      <td>-0.034309</td>\n",
       "      <td>0.248336</td>\n",
       "      <td>0.008518</td>\n",
       "      <td>0.017100</td>\n",
       "      <td>0.076728</td>\n",
       "      <td>-0.043640</td>\n",
       "      <td>-0.019393</td>\n",
       "      <td>1.000000</td>\n",
       "      <td>-0.044419</td>\n",
       "      <td>-0.035553</td>\n",
       "      <td>0.093639</td>\n",
       "      <td>0.033770</td>\n",
       "      <td>0.060056</td>\n",
       "      <td>-0.368261</td>\n",
       "      <td>-0.199197</td>\n",
       "    </tr>\n",
       "    <tr>\n",
       "      <th>hayes_valley</th>\n",
       "      <td>-0.299097</td>\n",
       "      <td>0.672682</td>\n",
       "      <td>0.011988</td>\n",
       "      <td>-0.018217</td>\n",
       "      <td>0.091362</td>\n",
       "      <td>-0.034043</td>\n",
       "      <td>0.118713</td>\n",
       "      <td>-0.044419</td>\n",
       "      <td>1.000000</td>\n",
       "      <td>0.015605</td>\n",
       "      <td>0.105327</td>\n",
       "      <td>0.001810</td>\n",
       "      <td>-0.011746</td>\n",
       "      <td>0.453605</td>\n",
       "      <td>0.176853</td>\n",
       "    </tr>\n",
       "    <tr>\n",
       "      <th>fillmore</th>\n",
       "      <td>0.006428</td>\n",
       "      <td>-0.004066</td>\n",
       "      <td>-0.003719</td>\n",
       "      <td>0.000801</td>\n",
       "      <td>-0.007679</td>\n",
       "      <td>0.010605</td>\n",
       "      <td>0.016342</td>\n",
       "      <td>-0.035553</td>\n",
       "      <td>0.015605</td>\n",
       "      <td>1.000000</td>\n",
       "      <td>-0.003304</td>\n",
       "      <td>-0.019405</td>\n",
       "      <td>-0.006632</td>\n",
       "      <td>0.026074</td>\n",
       "      <td>0.028804</td>\n",
       "    </tr>\n",
       "    <tr>\n",
       "      <th>bernal</th>\n",
       "      <td>0.164962</td>\n",
       "      <td>-0.223609</td>\n",
       "      <td>-0.015025</td>\n",
       "      <td>-0.007153</td>\n",
       "      <td>-0.202575</td>\n",
       "      <td>-0.019650</td>\n",
       "      <td>0.063033</td>\n",
       "      <td>0.093639</td>\n",
       "      <td>0.105327</td>\n",
       "      <td>-0.003304</td>\n",
       "      <td>1.000000</td>\n",
       "      <td>0.022885</td>\n",
       "      <td>0.250826</td>\n",
       "      <td>-0.516126</td>\n",
       "      <td>-0.011225</td>\n",
       "    </tr>\n",
       "    <tr>\n",
       "      <th>marina</th>\n",
       "      <td>0.028713</td>\n",
       "      <td>-0.013775</td>\n",
       "      <td>-0.003473</td>\n",
       "      <td>0.004034</td>\n",
       "      <td>-0.023585</td>\n",
       "      <td>0.006034</td>\n",
       "      <td>0.006320</td>\n",
       "      <td>0.033770</td>\n",
       "      <td>0.001810</td>\n",
       "      <td>-0.019405</td>\n",
       "      <td>0.022885</td>\n",
       "      <td>1.000000</td>\n",
       "      <td>0.025445</td>\n",
       "      <td>-0.028492</td>\n",
       "      <td>-0.012432</td>\n",
       "    </tr>\n",
       "    <tr>\n",
       "      <th>north_beach</th>\n",
       "      <td>0.324309</td>\n",
       "      <td>-0.132077</td>\n",
       "      <td>-0.021821</td>\n",
       "      <td>-0.024942</td>\n",
       "      <td>-0.067719</td>\n",
       "      <td>-0.432634</td>\n",
       "      <td>-0.278914</td>\n",
       "      <td>0.060056</td>\n",
       "      <td>-0.011746</td>\n",
       "      <td>-0.006632</td>\n",
       "      <td>0.250826</td>\n",
       "      <td>0.025445</td>\n",
       "      <td>1.000000</td>\n",
       "      <td>-0.678071</td>\n",
       "      <td>0.198166</td>\n",
       "    </tr>\n",
       "    <tr>\n",
       "      <th>excelsior</th>\n",
       "      <td>-0.423019</td>\n",
       "      <td>0.508043</td>\n",
       "      <td>0.030777</td>\n",
       "      <td>-0.000102</td>\n",
       "      <td>0.170600</td>\n",
       "      <td>0.374960</td>\n",
       "      <td>0.441421</td>\n",
       "      <td>-0.368261</td>\n",
       "      <td>0.453605</td>\n",
       "      <td>0.026074</td>\n",
       "      <td>-0.516126</td>\n",
       "      <td>-0.028492</td>\n",
       "      <td>-0.678071</td>\n",
       "      <td>1.000000</td>\n",
       "      <td>0.121039</td>\n",
       "    </tr>\n",
       "    <tr>\n",
       "      <th>target</th>\n",
       "      <td>-0.171926</td>\n",
       "      <td>0.136988</td>\n",
       "      <td>0.010718</td>\n",
       "      <td>-0.026396</td>\n",
       "      <td>-0.196710</td>\n",
       "      <td>0.005610</td>\n",
       "      <td>0.187220</td>\n",
       "      <td>-0.199197</td>\n",
       "      <td>0.176853</td>\n",
       "      <td>0.028804</td>\n",
       "      <td>-0.011225</td>\n",
       "      <td>-0.012432</td>\n",
       "      <td>0.198166</td>\n",
       "      <td>0.121039</td>\n",
       "      <td>1.000000</td>\n",
       "    </tr>\n",
       "  </tbody>\n",
       "</table>\n",
       "</div>"
      ],
      "text/plain": [
       "                haight   mission      soma    sunset  richmond  glen_park  \\\n",
       "haight        1.000000 -0.691099 -0.003451  0.017411  0.023025  -0.055019   \n",
       "mission      -0.691099  1.000000  0.013116 -0.006411  0.448394   0.023159   \n",
       "soma         -0.003451  0.013116  1.000000 -0.017127 -0.008683   0.023943   \n",
       "sunset        0.017411 -0.006411 -0.017127  1.000000  0.028527  -0.017834   \n",
       "richmond      0.023025  0.448394 -0.008683  0.028527  1.000000   0.011149   \n",
       "glen_park    -0.055019  0.023159  0.023943 -0.017834  0.011149   1.000000   \n",
       "castro       -0.106320  0.229411  0.033782  0.011205 -0.038702   0.119650   \n",
       "potrero      -0.034309  0.248336  0.008518  0.017100  0.076728  -0.043640   \n",
       "hayes_valley -0.299097  0.672682  0.011988 -0.018217  0.091362  -0.034043   \n",
       "fillmore      0.006428 -0.004066 -0.003719  0.000801 -0.007679   0.010605   \n",
       "bernal        0.164962 -0.223609 -0.015025 -0.007153 -0.202575  -0.019650   \n",
       "marina        0.028713 -0.013775 -0.003473  0.004034 -0.023585   0.006034   \n",
       "north_beach   0.324309 -0.132077 -0.021821 -0.024942 -0.067719  -0.432634   \n",
       "excelsior    -0.423019  0.508043  0.030777 -0.000102  0.170600   0.374960   \n",
       "target       -0.171926  0.136988  0.010718 -0.026396 -0.196710   0.005610   \n",
       "\n",
       "                castro   potrero  hayes_valley  fillmore    bernal    marina  \\\n",
       "haight       -0.106320 -0.034309     -0.299097  0.006428  0.164962  0.028713   \n",
       "mission       0.229411  0.248336      0.672682 -0.004066 -0.223609 -0.013775   \n",
       "soma          0.033782  0.008518      0.011988 -0.003719 -0.015025 -0.003473   \n",
       "sunset        0.011205  0.017100     -0.018217  0.000801 -0.007153  0.004034   \n",
       "richmond     -0.038702  0.076728      0.091362 -0.007679 -0.202575 -0.023585   \n",
       "glen_park     0.119650 -0.043640     -0.034043  0.010605 -0.019650  0.006034   \n",
       "castro        1.000000 -0.019393      0.118713  0.016342  0.063033  0.006320   \n",
       "potrero      -0.019393  1.000000     -0.044419 -0.035553  0.093639  0.033770   \n",
       "hayes_valley  0.118713 -0.044419      1.000000  0.015605  0.105327  0.001810   \n",
       "fillmore      0.016342 -0.035553      0.015605  1.000000 -0.003304 -0.019405   \n",
       "bernal        0.063033  0.093639      0.105327 -0.003304  1.000000  0.022885   \n",
       "marina        0.006320  0.033770      0.001810 -0.019405  0.022885  1.000000   \n",
       "north_beach  -0.278914  0.060056     -0.011746 -0.006632  0.250826  0.025445   \n",
       "excelsior     0.441421 -0.368261      0.453605  0.026074 -0.516126 -0.028492   \n",
       "target        0.187220 -0.199197      0.176853  0.028804 -0.011225 -0.012432   \n",
       "\n",
       "              north_beach  excelsior    target  \n",
       "haight           0.324309  -0.423019 -0.171926  \n",
       "mission         -0.132077   0.508043  0.136988  \n",
       "soma            -0.021821   0.030777  0.010718  \n",
       "sunset          -0.024942  -0.000102 -0.026396  \n",
       "richmond        -0.067719   0.170600 -0.196710  \n",
       "glen_park       -0.432634   0.374960  0.005610  \n",
       "castro          -0.278914   0.441421  0.187220  \n",
       "potrero          0.060056  -0.368261 -0.199197  \n",
       "hayes_valley    -0.011746   0.453605  0.176853  \n",
       "fillmore        -0.006632   0.026074  0.028804  \n",
       "bernal           0.250826  -0.516126 -0.011225  \n",
       "marina           0.025445  -0.028492 -0.012432  \n",
       "north_beach      1.000000  -0.678071  0.198166  \n",
       "excelsior       -0.678071   1.000000  0.121039  \n",
       "target           0.198166   0.121039  1.000000  "
      ]
     },
     "execution_count": 32,
     "metadata": {},
     "output_type": "execute_result"
    }
   ],
   "source": [
    "#Next let's look at feature correlation\n",
    "\n",
    "data.corr()"
   ]
  },
  {
   "cell_type": "code",
   "execution_count": 33,
   "metadata": {},
   "outputs": [
    {
     "data": {
      "text/plain": [
       "<matplotlib.axes._subplots.AxesSubplot at 0x7f2f96044cd0>"
      ]
     },
     "execution_count": 33,
     "metadata": {},
     "output_type": "execute_result"
    },
    {
     "data": {
      "image/png": "[encoded data removed]",
      "text/plain": [
       "<matplotlib.figure.Figure at 0x7f2f8f55b9d0>"
      ]
     },
     "metadata": {},
     "output_type": "display_data"
    }
   ],
   "source": [
    "sb.heatmap(data.corr(), annot=True)"
   ]
  },
  {
   "cell_type": "code",
   "execution_count": 42,
   "metadata": {
    "collapsed": true
   },
   "outputs": [],
   "source": [
    "#Excelsior and Mission have high multicolinearity with other dimensions so let's drop them\n",
    "#Keep north_beach - seems valuable\n",
    "df = data.copy()\n",
    "df.drop([\"excelsior\", \"mission\"], axis=1, inplace=True)"
   ]
  },
  {
   "cell_type": "code",
   "execution_count": 43,
   "metadata": {},
   "outputs": [
    {
     "name": "stdout",
     "output_type": "stream",
     "text": [
      "The accuracy score is 77.25 percent\n"
     ]
    },
    {
     "data": {
      "text/plain": [
       "0.76624877070120423"
      ]
     },
     "execution_count": 43,
     "metadata": {},
     "output_type": "execute_result"
    }
   ],
   "source": [
    "#Try again with LR\n",
    "X = df.drop(\"target\", axis=1)\n",
    "y = df.target\n",
    "\n",
    "X_train, X_test, y_train, y_test = train_test_split(X, y, \n",
    "                                                    test_size=0.33,\n",
    "                                                    random_state=4)\n",
    "lr = LogisticRegression()\n",
    "lr.fit(X_train, y_train)\n",
    "\n",
    "#Evaulate on accuracy for now\n",
    "score = lr.score(X,y)\n",
    "print (\"The accuracy score is {:.2f} percent\".format(score*100))\n",
    "\n",
    "#Quick doublecheck with cross validation\n",
    "cross_val_score(lr, X, y, cv =5 , scoring=\"accuracy\").mean()\n",
    "\n",
    "#not overfit"
   ]
  },
  {
   "cell_type": "code",
   "execution_count": 48,
   "metadata": {},
   "outputs": [
    {
     "name": "stdout",
     "output_type": "stream",
     "text": [
      "The accuracy score is 93.53 percent\n"
     ]
    }
   ],
   "source": [
    "#play with dropping features to see if it improves the score\n",
    "#Try again with Decision Tree\n",
    "y = df.target\n",
    "X = df.drop([\"target\", \"haight\", \"marina\",\"fillmore\", \"sunset\"], axis=1)\n",
    "X_train, X_test, y_train, y_test = train_test_split(X, y, \n",
    "                                                    test_size=0.33,\n",
    "                                                    random_state=4)\n",
    "dc = DecisionTreeClassifier()\n",
    "dc.fit(X_train, y_train)\n",
    "\n",
    "#Evaulate on accuracy for now\n",
    "score = dc.score(X,y)\n",
    "print (\"The accuracy score is {:.2f} percent\".format(score*100))\n",
    "\n",
    "#93.65 > 76.62"
   ]
  },
  {
   "cell_type": "code",
   "execution_count": 49,
   "metadata": {},
   "outputs": [
    {
     "data": {
      "text/plain": [
       "Index([u'soma', u'richmond', u'glen_park', u'castro', u'potrero',\n",
       "       u'hayes_valley', u'bernal', u'north_beach'],\n",
       "      dtype='object')"
      ]
     },
     "execution_count": 49,
     "metadata": {},
     "output_type": "execute_result"
    }
   ],
   "source": [
    "X.columns #down to 8 - getting rid of haight helped"
   ]
  },
  {
   "cell_type": "code",
   "execution_count": 50,
   "metadata": {},
   "outputs": [
    {
     "data": {
      "text/plain": [
       "0.8150025808634076"
      ]
     },
     "execution_count": 50,
     "metadata": {},
     "output_type": "execute_result"
    }
   ],
   "source": [
    "#Just for good measure let's cross validate\n",
    "cross_val_score(dc, X, y, cv =5 , scoring=\"accuracy\").mean()\n",
    "#.81 - not as good as .93, but still better than previous models"
   ]
  },
  {
   "cell_type": "code",
   "execution_count": null,
   "metadata": {
    "collapsed": true
   },
   "outputs": [],
   "source": [
    "\n"
   ]
  },
  {
   "cell_type": "markdown",
   "metadata": {
    "collapsed": true
   },
   "source": [
    "No difference - 77.25 percent"
   ]
  },
  {
   "cell_type": "code",
   "execution_count": 51,
   "metadata": {},
   "outputs": [
    {
     "data": {
      "text/plain": [
       "{'criterion': 'gini',\n",
       " 'max_depth': 9,\n",
       " 'max_features': 6,\n",
       " 'min_samples_split': 2}"
      ]
     },
     "execution_count": 51,
     "metadata": {},
     "output_type": "execute_result"
    }
   ],
   "source": [
    "#Let's try a Decision Tree Model but using GridSearch\n",
    "depths_range = range(2, 20)\n",
    "param_grid_dt = {\"criterion\": [\"gini\"], \"max_depth\": depths_range}\n",
    "param_grid_dt[\"min_samples_split\"] =[2, 10, 20]\n",
    "param_grid_dt[\"max_features\"] = [2, 4, 6, 8]\n",
    "\n",
    "grid_dt = GridSearchCV(estimator = DecisionTreeClassifier(), \n",
    "                        param_grid = param_grid_dt, cv = 5, scoring = \"accuracy\")\n",
    "\n",
    "#Intialize Grid\n",
    "grid_dt = GridSearchCV(estimator = DecisionTreeClassifier(), \n",
    "                        param_grid = param_grid_dt, cv = 5, scoring = \"accuracy\")\n",
    "#Fit grid on data\n",
    "grid_dt.fit(X, y)\n",
    "\n",
    "#Best parameter\n",
    "grid_dt.best_params_\n",
    "\n",
    "# 'max_depth': 11\n",
    "# 'max_features': 6"
   ]
  },
  {
   "cell_type": "code",
   "execution_count": 52,
   "metadata": {},
   "outputs": [
    {
     "data": {
      "text/plain": [
       "0.832"
      ]
     },
     "execution_count": 52,
     "metadata": {},
     "output_type": "execute_result"
    }
   ],
   "source": [
    "#Best score\n",
    "grid_dt.best_score_\n",
    "#0.832 - a little better than .81 without parameters set"
   ]
  },
  {
   "cell_type": "code",
   "execution_count": null,
   "metadata": {
    "collapsed": true
   },
   "outputs": [],
   "source": []
  },
  {
   "cell_type": "code",
   "execution_count": null,
   "metadata": {
    "collapsed": true
   },
   "outputs": [],
   "source": []
  },
  {
   "cell_type": "code",
   "execution_count": 53,
   "metadata": {},
   "outputs": [
    {
     "data": {
      "text/plain": [
       "{'n_neighbors': 17}"
      ]
     },
     "execution_count": 53,
     "metadata": {},
     "output_type": "execute_result"
    }
   ],
   "source": [
    "#One more - try KNN with Grid Search with the features we decided on in previous runs\n",
    "\n",
    "y = df.target\n",
    "X = df.drop([\"target\", \"haight\", \"marina\",\"fillmore\", \"sunset\"], axis=1)\n",
    "\n",
    "neighbors_range = range(1, 21, 2)\n",
    "param_grid_knn = {}\n",
    "param_grid_knn[\"n_neighbors\"] = neighbors_range\n",
    "\n",
    "knn = GridSearchCV(estimator = KNeighborsClassifier(), \n",
    "                        param_grid = param_grid_knn, cv = 5, scoring = \"accuracy\")\n",
    "knn.fit(X, y)\n",
    "knn.best_params_\n",
    "#17 neighbors"
   ]
  },
  {
   "cell_type": "code",
   "execution_count": 54,
   "metadata": {},
   "outputs": [
    {
     "data": {
      "text/plain": [
       "0.908"
      ]
     },
     "execution_count": 54,
     "metadata": {},
     "output_type": "execute_result"
    }
   ],
   "source": [
    "knn.best_score_\n",
    "#90.8 - seems the best of all 3 models we tried"
   ]
  },
  {
   "cell_type": "code",
   "execution_count": 55,
   "metadata": {},
   "outputs": [
    {
     "data": {
      "text/plain": [
       "0.89925"
      ]
     },
     "execution_count": 55,
     "metadata": {},
     "output_type": "execute_result"
    }
   ],
   "source": [
    "#OK I'm curious - let's run the same against the full dataset to see how much the feature engineering helped\n",
    "#Try again with KNN\n",
    "y = data.target\n",
    "X = data.drop([\"target\"], axis=1)\n",
    "\n",
    "neighbors_range = range(1, 21, 2)\n",
    "param_grid_knn = {}\n",
    "param_grid_knn[\"n_neighbors\"] = neighbors_range\n",
    "\n",
    "knn = GridSearchCV(estimator = KNeighborsClassifier(), \n",
    "                        param_grid = param_grid_knn, cv = 5, scoring = \"accuracy\")\n",
    "knn.fit(X, y)\n",
    "knn.best_score_\n",
    "#89.9 - looks like our benefits came more from choosing the right model rather than reducing features, but still better to have a smaller dataset"
   ]
  },
  {
   "cell_type": "markdown",
   "metadata": {},
   "source": [
    "## Section 3: Movie Revenue Prediction\n",
    "\n",
    "Use the movie_metadata dataset to fit a regression model to predict gross. Use Linear, Polynomial, Ridge, Lasso regression. Use rMSE as your evaluation metric.\n",
    "\n",
    "<br>\n",
    "\n",
    "Once you've made the best possible model, I want you to pick three movies that are set to be released in January or February 2018 and use the model to predict how much revenue those movies will bring in."
   ]
  },
  {
   "cell_type": "code",
   "execution_count": 57,
   "metadata": {},
   "outputs": [
    {
     "data": {
      "text/html": [
       "<div>\n",
       "<style>\n",
       "    .dataframe thead tr:only-child th {\n",
       "        text-align: right;\n",
       "    }\n",
       "\n",
       "    .dataframe thead th {\n",
       "        text-align: left;\n",
       "    }\n",
       "\n",
       "    .dataframe tbody tr th {\n",
       "        vertical-align: top;\n",
       "    }\n",
       "</style>\n",
       "<table border=\"1\" class=\"dataframe\">\n",
       "  <thead>\n",
       "    <tr style=\"text-align: right;\">\n",
       "      <th></th>\n",
       "      <th>color</th>\n",
       "      <th>director_name</th>\n",
       "      <th>num_critic_for_reviews</th>\n",
       "      <th>duration</th>\n",
       "      <th>director_facebook_likes</th>\n",
       "      <th>actor_3_facebook_likes</th>\n",
       "      <th>actor_2_name</th>\n",
       "      <th>actor_1_facebook_likes</th>\n",
       "      <th>gross</th>\n",
       "      <th>genres</th>\n",
       "      <th>...</th>\n",
       "      <th>num_user_for_reviews</th>\n",
       "      <th>language</th>\n",
       "      <th>country</th>\n",
       "      <th>content_rating</th>\n",
       "      <th>budget</th>\n",
       "      <th>title_year</th>\n",
       "      <th>actor_2_facebook_likes</th>\n",
       "      <th>imdb_score</th>\n",
       "      <th>aspect_ratio</th>\n",
       "      <th>movie_facebook_likes</th>\n",
       "    </tr>\n",
       "  </thead>\n",
       "  <tbody>\n",
       "    <tr>\n",
       "      <th>0</th>\n",
       "      <td>Color</td>\n",
       "      <td>James Cameron</td>\n",
       "      <td>723.0</td>\n",
       "      <td>178.0</td>\n",
       "      <td>0.0</td>\n",
       "      <td>855.0</td>\n",
       "      <td>Joel David Moore</td>\n",
       "      <td>1000.0</td>\n",
       "      <td>760505847.0</td>\n",
       "      <td>Action|Adventure|Fantasy|Sci-Fi</td>\n",
       "      <td>...</td>\n",
       "      <td>3054.0</td>\n",
       "      <td>English</td>\n",
       "      <td>USA</td>\n",
       "      <td>PG-13</td>\n",
       "      <td>237000000.0</td>\n",
       "      <td>2009.0</td>\n",
       "      <td>936.0</td>\n",
       "      <td>7.9</td>\n",
       "      <td>1.78</td>\n",
       "      <td>33000</td>\n",
       "    </tr>\n",
       "    <tr>\n",
       "      <th>1</th>\n",
       "      <td>Color</td>\n",
       "      <td>Gore Verbinski</td>\n",
       "      <td>302.0</td>\n",
       "      <td>169.0</td>\n",
       "      <td>563.0</td>\n",
       "      <td>1000.0</td>\n",
       "      <td>Orlando Bloom</td>\n",
       "      <td>40000.0</td>\n",
       "      <td>309404152.0</td>\n",
       "      <td>Action|Adventure|Fantasy</td>\n",
       "      <td>...</td>\n",
       "      <td>1238.0</td>\n",
       "      <td>English</td>\n",
       "      <td>USA</td>\n",
       "      <td>PG-13</td>\n",
       "      <td>300000000.0</td>\n",
       "      <td>2007.0</td>\n",
       "      <td>5000.0</td>\n",
       "      <td>7.1</td>\n",
       "      <td>2.35</td>\n",
       "      <td>0</td>\n",
       "    </tr>\n",
       "    <tr>\n",
       "      <th>2</th>\n",
       "      <td>Color</td>\n",
       "      <td>Sam Mendes</td>\n",
       "      <td>602.0</td>\n",
       "      <td>148.0</td>\n",
       "      <td>0.0</td>\n",
       "      <td>161.0</td>\n",
       "      <td>Rory Kinnear</td>\n",
       "      <td>11000.0</td>\n",
       "      <td>200074175.0</td>\n",
       "      <td>Action|Adventure|Thriller</td>\n",
       "      <td>...</td>\n",
       "      <td>994.0</td>\n",
       "      <td>English</td>\n",
       "      <td>UK</td>\n",
       "      <td>PG-13</td>\n",
       "      <td>245000000.0</td>\n",
       "      <td>2015.0</td>\n",
       "      <td>393.0</td>\n",
       "      <td>6.8</td>\n",
       "      <td>2.35</td>\n",
       "      <td>85000</td>\n",
       "    </tr>\n",
       "    <tr>\n",
       "      <th>3</th>\n",
       "      <td>Color</td>\n",
       "      <td>Christopher Nolan</td>\n",
       "      <td>813.0</td>\n",
       "      <td>164.0</td>\n",
       "      <td>22000.0</td>\n",
       "      <td>23000.0</td>\n",
       "      <td>Christian Bale</td>\n",
       "      <td>27000.0</td>\n",
       "      <td>448130642.0</td>\n",
       "      <td>Action|Thriller</td>\n",
       "      <td>...</td>\n",
       "      <td>2701.0</td>\n",
       "      <td>English</td>\n",
       "      <td>USA</td>\n",
       "      <td>PG-13</td>\n",
       "      <td>250000000.0</td>\n",
       "      <td>2012.0</td>\n",
       "      <td>23000.0</td>\n",
       "      <td>8.5</td>\n",
       "      <td>2.35</td>\n",
       "      <td>164000</td>\n",
       "    </tr>\n",
       "    <tr>\n",
       "      <th>4</th>\n",
       "      <td>NaN</td>\n",
       "      <td>Doug Walker</td>\n",
       "      <td>NaN</td>\n",
       "      <td>NaN</td>\n",
       "      <td>131.0</td>\n",
       "      <td>NaN</td>\n",
       "      <td>Rob Walker</td>\n",
       "      <td>131.0</td>\n",
       "      <td>NaN</td>\n",
       "      <td>Documentary</td>\n",
       "      <td>...</td>\n",
       "      <td>NaN</td>\n",
       "      <td>NaN</td>\n",
       "      <td>NaN</td>\n",
       "      <td>NaN</td>\n",
       "      <td>NaN</td>\n",
       "      <td>NaN</td>\n",
       "      <td>12.0</td>\n",
       "      <td>7.1</td>\n",
       "      <td>NaN</td>\n",
       "      <td>0</td>\n",
       "    </tr>\n",
       "  </tbody>\n",
       "</table>\n",
       "<p>5 rows × 28 columns</p>\n",
       "</div>"
      ],
      "text/plain": [
       "   color      director_name  num_critic_for_reviews  duration  \\\n",
       "0  Color      James Cameron                   723.0     178.0   \n",
       "1  Color     Gore Verbinski                   302.0     169.0   \n",
       "2  Color         Sam Mendes                   602.0     148.0   \n",
       "3  Color  Christopher Nolan                   813.0     164.0   \n",
       "4    NaN        Doug Walker                     NaN       NaN   \n",
       "\n",
       "   director_facebook_likes  actor_3_facebook_likes      actor_2_name  \\\n",
       "0                      0.0                   855.0  Joel David Moore   \n",
       "1                    563.0                  1000.0     Orlando Bloom   \n",
       "2                      0.0                   161.0      Rory Kinnear   \n",
       "3                  22000.0                 23000.0    Christian Bale   \n",
       "4                    131.0                     NaN        Rob Walker   \n",
       "\n",
       "   actor_1_facebook_likes        gross                           genres  \\\n",
       "0                  1000.0  760505847.0  Action|Adventure|Fantasy|Sci-Fi   \n",
       "1                 40000.0  309404152.0         Action|Adventure|Fantasy   \n",
       "2                 11000.0  200074175.0        Action|Adventure|Thriller   \n",
       "3                 27000.0  448130642.0                  Action|Thriller   \n",
       "4                   131.0          NaN                      Documentary   \n",
       "\n",
       "          ...          num_user_for_reviews language  country  content_rating  \\\n",
       "0         ...                        3054.0  English      USA           PG-13   \n",
       "1         ...                        1238.0  English      USA           PG-13   \n",
       "2         ...                         994.0  English       UK           PG-13   \n",
       "3         ...                        2701.0  English      USA           PG-13   \n",
       "4         ...                           NaN      NaN      NaN             NaN   \n",
       "\n",
       "        budget  title_year actor_2_facebook_likes imdb_score  aspect_ratio  \\\n",
       "0  237000000.0      2009.0                  936.0        7.9          1.78   \n",
       "1  300000000.0      2007.0                 5000.0        7.1          2.35   \n",
       "2  245000000.0      2015.0                  393.0        6.8          2.35   \n",
       "3  250000000.0      2012.0                23000.0        8.5          2.35   \n",
       "4          NaN         NaN                   12.0        7.1           NaN   \n",
       "\n",
       "  movie_facebook_likes  \n",
       "0                33000  \n",
       "1                    0  \n",
       "2                85000  \n",
       "3               164000  \n",
       "4                    0  \n",
       "\n",
       "[5 rows x 28 columns]"
      ]
     },
     "execution_count": 57,
     "metadata": {},
     "output_type": "execute_result"
    }
   ],
   "source": [
    "movies = pd.read_csv(\"../data/movie_metadata.csv\")\n",
    "\n",
    "movies.head()"
   ]
  },
  {
   "cell_type": "code",
   "execution_count": 58,
   "metadata": {},
   "outputs": [
    {
     "data": {
      "text/plain": [
       "(5043, 28)"
      ]
     },
     "execution_count": 58,
     "metadata": {},
     "output_type": "execute_result"
    }
   ],
   "source": [
    "movies.shape"
   ]
  },
  {
   "cell_type": "code",
   "execution_count": 59,
   "metadata": {},
   "outputs": [],
   "source": [
    "df = movies.copy()\n",
    "df.set_index(\"movie_title\", inplace=True)"
   ]
  },
  {
   "cell_type": "code",
   "execution_count": 60,
   "metadata": {},
   "outputs": [
    {
     "data": {
      "text/plain": [
       "color                         19\n",
       "director_name                104\n",
       "num_critic_for_reviews        50\n",
       "duration                      15\n",
       "director_facebook_likes      104\n",
       "actor_3_facebook_likes        23\n",
       "actor_2_name                  13\n",
       "actor_1_facebook_likes         7\n",
       "gross                        884\n",
       "genres                         0\n",
       "actor_1_name                   7\n",
       "num_voted_users                0\n",
       "cast_total_facebook_likes      0\n",
       "actor_3_name                  23\n",
       "facenumber_in_poster          13\n",
       "plot_keywords                153\n",
       "movie_imdb_link                0\n",
       "num_user_for_reviews          21\n",
       "language                      12\n",
       "country                        5\n",
       "content_rating               303\n",
       "budget                       492\n",
       "title_year                   108\n",
       "actor_2_facebook_likes        13\n",
       "imdb_score                     0\n",
       "aspect_ratio                 329\n",
       "movie_facebook_likes           0\n",
       "dtype: int64"
      ]
     },
     "execution_count": 60,
     "metadata": {},
     "output_type": "execute_result"
    }
   ],
   "source": [
    "df.isnull().sum()"
   ]
  },
  {
   "cell_type": "code",
   "execution_count": 61,
   "metadata": {
    "collapsed": true
   },
   "outputs": [],
   "source": [
    "#Imputation\n",
    "df.duration.fillna(df.duration.median(), inplace = True)\n",
    "df.num_critic_for_reviews.fillna(df.num_critic_for_reviews.median(), inplace = True)\n",
    "df.num_user_for_reviews.fillna(df.num_user_for_reviews.median(), inplace = True)\n",
    "df.director_facebook_likes.fillna(df.director_facebook_likes.median(), inplace = True)\n",
    "df.actor_1_facebook_likes.fillna(df.actor_1_facebook_likes.median(), inplace = True)\n",
    "df.actor_2_facebook_likes.fillna(df.actor_2_facebook_likes.median(), inplace = True)\n",
    "df.actor_3_facebook_likes.fillna(df.actor_3_facebook_likes.median(), inplace = True)\n",
    "df.facenumber_in_poster.fillna(df.facenumber_in_poster.median(), inplace=True)\n",
    "df.budget.fillna(df.budget.median(), inplace = True)"
   ]
  },
  {
   "cell_type": "code",
   "execution_count": 62,
   "metadata": {},
   "outputs": [
    {
     "data": {
      "text/plain": [
       "<matplotlib.axes._subplots.AxesSubplot at 0x7f2f76944c50>"
      ]
     },
     "execution_count": 62,
     "metadata": {},
     "output_type": "execute_result"
    },
    {
     "data": {
      "image/png": "[encoded data removed]",
      "text/plain": [
       "<matplotlib.figure.Figure at 0x7f2f769446d0>"
      ]
     },
     "metadata": {},
     "output_type": "display_data"
    }
   ],
   "source": [
    "sb.heatmap(df.corr(), annot=False, cmap=\"ocean\")"
   ]
  },
  {
   "cell_type": "code",
   "execution_count": 63,
   "metadata": {
    "collapsed": true
   },
   "outputs": [],
   "source": [
    "#drop missing grosses\n",
    "dropnulls = df.gross.isnull()\n",
    "dropnulls = dropnulls[dropnulls].index\n",
    "df = df.drop(dropnulls)\n",
    "\n",
    "#drop text fields\n",
    "df.drop([\"director_name\", \"actor_1_name\", \"actor_2_name\", \"actor_3_name\", \"genres\", \"plot_keywords\", \"movie_imdb_link\"], axis=1, inplace=True)\n",
    "\n",
    "#drop colinear fields\n",
    "df.drop([\"cast_total_facebook_likes\",\"num_user_for_reviews\", \"movie_facebook_likes\", \"num_critic_for_reviews\"], axis=1, inplace=True)\n",
    "\n",
    "#drop seemingly usless columns\n",
    "df.drop([\"aspect_ratio\", \"title_year\", \"facenumber_in_poster\"], axis=1, inplace=True)"
   ]
  },
  {
   "cell_type": "code",
   "execution_count": 43,
   "metadata": {},
   "outputs": [
    {
     "data": {
      "text/html": [
       "<div>\n",
       "<style>\n",
       "    .dataframe thead tr:only-child th {\n",
       "        text-align: right;\n",
       "    }\n",
       "\n",
       "    .dataframe thead th {\n",
       "        text-align: left;\n",
       "    }\n",
       "\n",
       "    .dataframe tbody tr th {\n",
       "        vertical-align: top;\n",
       "    }\n",
       "</style>\n",
       "<table border=\"1\" class=\"dataframe\">\n",
       "  <thead>\n",
       "    <tr style=\"text-align: right;\">\n",
       "      <th></th>\n",
       "      <th>color</th>\n",
       "      <th>duration</th>\n",
       "      <th>director_facebook_likes</th>\n",
       "      <th>actor_3_facebook_likes</th>\n",
       "      <th>actor_1_facebook_likes</th>\n",
       "      <th>gross</th>\n",
       "      <th>num_voted_users</th>\n",
       "      <th>language</th>\n",
       "      <th>country</th>\n",
       "      <th>content_rating</th>\n",
       "      <th>budget</th>\n",
       "      <th>actor_2_facebook_likes</th>\n",
       "      <th>imdb_score</th>\n",
       "    </tr>\n",
       "    <tr>\n",
       "      <th>movie_title</th>\n",
       "      <th></th>\n",
       "      <th></th>\n",
       "      <th></th>\n",
       "      <th></th>\n",
       "      <th></th>\n",
       "      <th></th>\n",
       "      <th></th>\n",
       "      <th></th>\n",
       "      <th></th>\n",
       "      <th></th>\n",
       "      <th></th>\n",
       "      <th></th>\n",
       "      <th></th>\n",
       "    </tr>\n",
       "  </thead>\n",
       "  <tbody>\n",
       "    <tr>\n",
       "      <th>Avatar</th>\n",
       "      <td>Color</td>\n",
       "      <td>178.0</td>\n",
       "      <td>0.0</td>\n",
       "      <td>855.0</td>\n",
       "      <td>1000.0</td>\n",
       "      <td>760505847.0</td>\n",
       "      <td>886204</td>\n",
       "      <td>English</td>\n",
       "      <td>USA</td>\n",
       "      <td>PG-13</td>\n",
       "      <td>237000000.0</td>\n",
       "      <td>936.0</td>\n",
       "      <td>7.9</td>\n",
       "    </tr>\n",
       "    <tr>\n",
       "      <th>Pirates of the Caribbean: At World's End</th>\n",
       "      <td>Color</td>\n",
       "      <td>169.0</td>\n",
       "      <td>563.0</td>\n",
       "      <td>1000.0</td>\n",
       "      <td>40000.0</td>\n",
       "      <td>309404152.0</td>\n",
       "      <td>471220</td>\n",
       "      <td>English</td>\n",
       "      <td>USA</td>\n",
       "      <td>PG-13</td>\n",
       "      <td>300000000.0</td>\n",
       "      <td>5000.0</td>\n",
       "      <td>7.1</td>\n",
       "    </tr>\n",
       "    <tr>\n",
       "      <th>Spectre</th>\n",
       "      <td>Color</td>\n",
       "      <td>148.0</td>\n",
       "      <td>0.0</td>\n",
       "      <td>161.0</td>\n",
       "      <td>11000.0</td>\n",
       "      <td>200074175.0</td>\n",
       "      <td>275868</td>\n",
       "      <td>English</td>\n",
       "      <td>UK</td>\n",
       "      <td>PG-13</td>\n",
       "      <td>245000000.0</td>\n",
       "      <td>393.0</td>\n",
       "      <td>6.8</td>\n",
       "    </tr>\n",
       "    <tr>\n",
       "      <th>The Dark Knight Rises</th>\n",
       "      <td>Color</td>\n",
       "      <td>164.0</td>\n",
       "      <td>22000.0</td>\n",
       "      <td>23000.0</td>\n",
       "      <td>27000.0</td>\n",
       "      <td>448130642.0</td>\n",
       "      <td>1144337</td>\n",
       "      <td>English</td>\n",
       "      <td>USA</td>\n",
       "      <td>PG-13</td>\n",
       "      <td>250000000.0</td>\n",
       "      <td>23000.0</td>\n",
       "      <td>8.5</td>\n",
       "    </tr>\n",
       "    <tr>\n",
       "      <th>John Carter</th>\n",
       "      <td>Color</td>\n",
       "      <td>132.0</td>\n",
       "      <td>475.0</td>\n",
       "      <td>530.0</td>\n",
       "      <td>640.0</td>\n",
       "      <td>73058679.0</td>\n",
       "      <td>212204</td>\n",
       "      <td>English</td>\n",
       "      <td>USA</td>\n",
       "      <td>PG-13</td>\n",
       "      <td>263700000.0</td>\n",
       "      <td>632.0</td>\n",
       "      <td>6.6</td>\n",
       "    </tr>\n",
       "  </tbody>\n",
       "</table>\n",
       "</div>"
      ],
      "text/plain": [
       "                                           color  duration  \\\n",
       "movie_title                                                  \n",
       "Avatar                                     Color     178.0   \n",
       "Pirates of the Caribbean: At World's End   Color     169.0   \n",
       "Spectre                                    Color     148.0   \n",
       "The Dark Knight Rises                      Color     164.0   \n",
       "John Carter                                Color     132.0   \n",
       "\n",
       "                                           director_facebook_likes  \\\n",
       "movie_title                                                          \n",
       "Avatar                                                         0.0   \n",
       "Pirates of the Caribbean: At World's End                     563.0   \n",
       "Spectre                                                        0.0   \n",
       "The Dark Knight Rises                                      22000.0   \n",
       "John Carter                                                  475.0   \n",
       "\n",
       "                                           actor_3_facebook_likes  \\\n",
       "movie_title                                                         \n",
       "Avatar                                                      855.0   \n",
       "Pirates of the Caribbean: At World's End                   1000.0   \n",
       "Spectre                                                     161.0   \n",
       "The Dark Knight Rises                                     23000.0   \n",
       "John Carter                                                 530.0   \n",
       "\n",
       "                                           actor_1_facebook_likes  \\\n",
       "movie_title                                                         \n",
       "Avatar                                                     1000.0   \n",
       "Pirates of the Caribbean: At World's End                  40000.0   \n",
       "Spectre                                                   11000.0   \n",
       "The Dark Knight Rises                                     27000.0   \n",
       "John Carter                                                 640.0   \n",
       "\n",
       "                                                 gross  num_voted_users  \\\n",
       "movie_title                                                               \n",
       "Avatar                                     760505847.0           886204   \n",
       "Pirates of the Caribbean: At World's End   309404152.0           471220   \n",
       "Spectre                                    200074175.0           275868   \n",
       "The Dark Knight Rises                      448130642.0          1144337   \n",
       "John Carter                                 73058679.0           212204   \n",
       "\n",
       "                                          language country content_rating  \\\n",
       "movie_title                                                                 \n",
       "Avatar                                     English     USA          PG-13   \n",
       "Pirates of the Caribbean: At World's End   English     USA          PG-13   \n",
       "Spectre                                    English      UK          PG-13   \n",
       "The Dark Knight Rises                      English     USA          PG-13   \n",
       "John Carter                                English     USA          PG-13   \n",
       "\n",
       "                                                budget  \\\n",
       "movie_title                                              \n",
       "Avatar                                     237000000.0   \n",
       "Pirates of the Caribbean: At World's End   300000000.0   \n",
       "Spectre                                    245000000.0   \n",
       "The Dark Knight Rises                      250000000.0   \n",
       "John Carter                                263700000.0   \n",
       "\n",
       "                                           actor_2_facebook_likes  imdb_score  \n",
       "movie_title                                                                    \n",
       "Avatar                                                      936.0         7.9  \n",
       "Pirates of the Caribbean: At World's End                   5000.0         7.1  \n",
       "Spectre                                                     393.0         6.8  \n",
       "The Dark Knight Rises                                     23000.0         8.5  \n",
       "John Carter                                                 632.0         6.6  "
      ]
     },
     "execution_count": 43,
     "metadata": {},
     "output_type": "execute_result"
    }
   ],
   "source": [
    "df.head()"
   ]
  },
  {
   "cell_type": "code",
   "execution_count": 64,
   "metadata": {
    "collapsed": true
   },
   "outputs": [],
   "source": [
    "df.drop(\"language\", axis=1, inplace=True) #language and country probably related\n",
    "#on second thought let's just focus on US movies\n",
    "df = df[df.country == \"USA\"]\n",
    "df.drop(\"country\", axis=1, inplace=True)"
   ]
  },
  {
   "cell_type": "code",
   "execution_count": 65,
   "metadata": {
    "collapsed": true
   },
   "outputs": [],
   "source": [
    "#Categorical categories\n",
    "#from sklearn.preprocessing import Imputer, OneHotEncoder, LabelEncoder, LabelBinarizer\n",
    "df.color.fillna(value=\"Color\", inplace=True)\n",
    "color_dict = {\"Black and White\":0, \"Color\":1}\n",
    "df[\"color\"]= df.color.map(color_dict)"
   ]
  },
  {
   "cell_type": "code",
   "execution_count": 66,
   "metadata": {
    "collapsed": true
   },
   "outputs": [],
   "source": [
    "df.content_rating.fillna(value=\"Not Rated\", inplace=True)\n",
    "rating_dums = pd.get_dummies(df.content_rating, prefix=\"rating\", drop_first=True)\n",
    "df.drop(\"content_rating\", axis= 1, inplace=True)\n",
    "df = pd.concat([df, rating_dums], axis=1)"
   ]
  },
  {
   "cell_type": "code",
   "execution_count": 67,
   "metadata": {},
   "outputs": [
    {
     "data": {
      "text/html": [
       "<div>\n",
       "<style>\n",
       "    .dataframe thead tr:only-child th {\n",
       "        text-align: right;\n",
       "    }\n",
       "\n",
       "    .dataframe thead th {\n",
       "        text-align: left;\n",
       "    }\n",
       "\n",
       "    .dataframe tbody tr th {\n",
       "        vertical-align: top;\n",
       "    }\n",
       "</style>\n",
       "<table border=\"1\" class=\"dataframe\">\n",
       "  <thead>\n",
       "    <tr style=\"text-align: right;\">\n",
       "      <th></th>\n",
       "      <th>color</th>\n",
       "      <th>duration</th>\n",
       "      <th>director_facebook_likes</th>\n",
       "      <th>actor_3_facebook_likes</th>\n",
       "      <th>actor_1_facebook_likes</th>\n",
       "      <th>gross</th>\n",
       "      <th>num_voted_users</th>\n",
       "      <th>budget</th>\n",
       "      <th>actor_2_facebook_likes</th>\n",
       "      <th>imdb_score</th>\n",
       "      <th>rating_G</th>\n",
       "      <th>rating_M</th>\n",
       "      <th>rating_NC-17</th>\n",
       "      <th>rating_Not Rated</th>\n",
       "      <th>rating_PG</th>\n",
       "      <th>rating_PG-13</th>\n",
       "      <th>rating_Passed</th>\n",
       "      <th>rating_R</th>\n",
       "      <th>rating_Unrated</th>\n",
       "      <th>rating_X</th>\n",
       "    </tr>\n",
       "    <tr>\n",
       "      <th>movie_title</th>\n",
       "      <th></th>\n",
       "      <th></th>\n",
       "      <th></th>\n",
       "      <th></th>\n",
       "      <th></th>\n",
       "      <th></th>\n",
       "      <th></th>\n",
       "      <th></th>\n",
       "      <th></th>\n",
       "      <th></th>\n",
       "      <th></th>\n",
       "      <th></th>\n",
       "      <th></th>\n",
       "      <th></th>\n",
       "      <th></th>\n",
       "      <th></th>\n",
       "      <th></th>\n",
       "      <th></th>\n",
       "      <th></th>\n",
       "      <th></th>\n",
       "    </tr>\n",
       "  </thead>\n",
       "  <tbody>\n",
       "    <tr>\n",
       "      <th>Avatar</th>\n",
       "      <td>1.0</td>\n",
       "      <td>178.0</td>\n",
       "      <td>0.0</td>\n",
       "      <td>855.0</td>\n",
       "      <td>1000.0</td>\n",
       "      <td>760505847.0</td>\n",
       "      <td>886204</td>\n",
       "      <td>237000000.0</td>\n",
       "      <td>936.0</td>\n",
       "      <td>7.9</td>\n",
       "      <td>0</td>\n",
       "      <td>0</td>\n",
       "      <td>0</td>\n",
       "      <td>0</td>\n",
       "      <td>0</td>\n",
       "      <td>1</td>\n",
       "      <td>0</td>\n",
       "      <td>0</td>\n",
       "      <td>0</td>\n",
       "      <td>0</td>\n",
       "    </tr>\n",
       "    <tr>\n",
       "      <th>Pirates of the Caribbean: At World's End</th>\n",
       "      <td>1.0</td>\n",
       "      <td>169.0</td>\n",
       "      <td>563.0</td>\n",
       "      <td>1000.0</td>\n",
       "      <td>40000.0</td>\n",
       "      <td>309404152.0</td>\n",
       "      <td>471220</td>\n",
       "      <td>300000000.0</td>\n",
       "      <td>5000.0</td>\n",
       "      <td>7.1</td>\n",
       "      <td>0</td>\n",
       "      <td>0</td>\n",
       "      <td>0</td>\n",
       "      <td>0</td>\n",
       "      <td>0</td>\n",
       "      <td>1</td>\n",
       "      <td>0</td>\n",
       "      <td>0</td>\n",
       "      <td>0</td>\n",
       "      <td>0</td>\n",
       "    </tr>\n",
       "    <tr>\n",
       "      <th>The Dark Knight Rises</th>\n",
       "      <td>1.0</td>\n",
       "      <td>164.0</td>\n",
       "      <td>22000.0</td>\n",
       "      <td>23000.0</td>\n",
       "      <td>27000.0</td>\n",
       "      <td>448130642.0</td>\n",
       "      <td>1144337</td>\n",
       "      <td>250000000.0</td>\n",
       "      <td>23000.0</td>\n",
       "      <td>8.5</td>\n",
       "      <td>0</td>\n",
       "      <td>0</td>\n",
       "      <td>0</td>\n",
       "      <td>0</td>\n",
       "      <td>0</td>\n",
       "      <td>1</td>\n",
       "      <td>0</td>\n",
       "      <td>0</td>\n",
       "      <td>0</td>\n",
       "      <td>0</td>\n",
       "    </tr>\n",
       "    <tr>\n",
       "      <th>John Carter</th>\n",
       "      <td>1.0</td>\n",
       "      <td>132.0</td>\n",
       "      <td>475.0</td>\n",
       "      <td>530.0</td>\n",
       "      <td>640.0</td>\n",
       "      <td>73058679.0</td>\n",
       "      <td>212204</td>\n",
       "      <td>263700000.0</td>\n",
       "      <td>632.0</td>\n",
       "      <td>6.6</td>\n",
       "      <td>0</td>\n",
       "      <td>0</td>\n",
       "      <td>0</td>\n",
       "      <td>0</td>\n",
       "      <td>0</td>\n",
       "      <td>1</td>\n",
       "      <td>0</td>\n",
       "      <td>0</td>\n",
       "      <td>0</td>\n",
       "      <td>0</td>\n",
       "    </tr>\n",
       "    <tr>\n",
       "      <th>Spider-Man 3</th>\n",
       "      <td>1.0</td>\n",
       "      <td>156.0</td>\n",
       "      <td>0.0</td>\n",
       "      <td>4000.0</td>\n",
       "      <td>24000.0</td>\n",
       "      <td>336530303.0</td>\n",
       "      <td>383056</td>\n",
       "      <td>258000000.0</td>\n",
       "      <td>11000.0</td>\n",
       "      <td>6.2</td>\n",
       "      <td>0</td>\n",
       "      <td>0</td>\n",
       "      <td>0</td>\n",
       "      <td>0</td>\n",
       "      <td>0</td>\n",
       "      <td>1</td>\n",
       "      <td>0</td>\n",
       "      <td>0</td>\n",
       "      <td>0</td>\n",
       "      <td>0</td>\n",
       "    </tr>\n",
       "  </tbody>\n",
       "</table>\n",
       "</div>"
      ],
      "text/plain": [
       "                                           color  duration  \\\n",
       "movie_title                                                  \n",
       "Avatar                                       1.0     178.0   \n",
       "Pirates of the Caribbean: At World's End     1.0     169.0   \n",
       "The Dark Knight Rises                        1.0     164.0   \n",
       "John Carter                                  1.0     132.0   \n",
       "Spider-Man 3                                 1.0     156.0   \n",
       "\n",
       "                                           director_facebook_likes  \\\n",
       "movie_title                                                          \n",
       "Avatar                                                         0.0   \n",
       "Pirates of the Caribbean: At World's End                     563.0   \n",
       "The Dark Knight Rises                                      22000.0   \n",
       "John Carter                                                  475.0   \n",
       "Spider-Man 3                                                   0.0   \n",
       "\n",
       "                                           actor_3_facebook_likes  \\\n",
       "movie_title                                                         \n",
       "Avatar                                                      855.0   \n",
       "Pirates of the Caribbean: At World's End                   1000.0   \n",
       "The Dark Knight Rises                                     23000.0   \n",
       "John Carter                                                 530.0   \n",
       "Spider-Man 3                                               4000.0   \n",
       "\n",
       "                                           actor_1_facebook_likes  \\\n",
       "movie_title                                                         \n",
       "Avatar                                                     1000.0   \n",
       "Pirates of the Caribbean: At World's End                  40000.0   \n",
       "The Dark Knight Rises                                     27000.0   \n",
       "John Carter                                                 640.0   \n",
       "Spider-Man 3                                              24000.0   \n",
       "\n",
       "                                                 gross  num_voted_users  \\\n",
       "movie_title                                                               \n",
       "Avatar                                     760505847.0           886204   \n",
       "Pirates of the Caribbean: At World's End   309404152.0           471220   \n",
       "The Dark Knight Rises                      448130642.0          1144337   \n",
       "John Carter                                 73058679.0           212204   \n",
       "Spider-Man 3                               336530303.0           383056   \n",
       "\n",
       "                                                budget  \\\n",
       "movie_title                                              \n",
       "Avatar                                     237000000.0   \n",
       "Pirates of the Caribbean: At World's End   300000000.0   \n",
       "The Dark Knight Rises                      250000000.0   \n",
       "John Carter                                263700000.0   \n",
       "Spider-Man 3                               258000000.0   \n",
       "\n",
       "                                           actor_2_facebook_likes  imdb_score  \\\n",
       "movie_title                                                                     \n",
       "Avatar                                                      936.0         7.9   \n",
       "Pirates of the Caribbean: At World's End                   5000.0         7.1   \n",
       "The Dark Knight Rises                                     23000.0         8.5   \n",
       "John Carter                                                 632.0         6.6   \n",
       "Spider-Man 3                                              11000.0         6.2   \n",
       "\n",
       "                                           rating_G  rating_M  rating_NC-17  \\\n",
       "movie_title                                                                   \n",
       "Avatar                                            0         0             0   \n",
       "Pirates of the Caribbean: At World's End          0         0             0   \n",
       "The Dark Knight Rises                             0         0             0   \n",
       "John Carter                                       0         0             0   \n",
       "Spider-Man 3                                      0         0             0   \n",
       "\n",
       "                                           rating_Not Rated  rating_PG  \\\n",
       "movie_title                                                              \n",
       "Avatar                                                    0          0   \n",
       "Pirates of the Caribbean: At World's End                  0          0   \n",
       "The Dark Knight Rises                                     0          0   \n",
       "John Carter                                               0          0   \n",
       "Spider-Man 3                                              0          0   \n",
       "\n",
       "                                           rating_PG-13  rating_Passed  \\\n",
       "movie_title                                                              \n",
       "Avatar                                                1              0   \n",
       "Pirates of the Caribbean: At World's End              1              0   \n",
       "The Dark Knight Rises                                 1              0   \n",
       "John Carter                                           1              0   \n",
       "Spider-Man 3                                          1              0   \n",
       "\n",
       "                                           rating_R  rating_Unrated  rating_X  \n",
       "movie_title                                                                    \n",
       "Avatar                                            0               0         0  \n",
       "Pirates of the Caribbean: At World's End          0               0         0  \n",
       "The Dark Knight Rises                             0               0         0  \n",
       "John Carter                                       0               0         0  \n",
       "Spider-Man 3                                      0               0         0  "
      ]
     },
     "execution_count": 67,
     "metadata": {},
     "output_type": "execute_result"
    }
   ],
   "source": [
    "df.head()"
   ]
  },
  {
   "cell_type": "code",
   "execution_count": 68,
   "metadata": {},
   "outputs": [
    {
     "data": {
      "text/plain": [
       "55214607.22874807"
      ]
     },
     "execution_count": 68,
     "metadata": {},
     "output_type": "execute_result"
    }
   ],
   "source": [
    "df.gross.mean()"
   ]
  },
  {
   "cell_type": "code",
   "execution_count": null,
   "metadata": {},
   "outputs": [],
   "source": []
  },
  {
   "cell_type": "code",
   "execution_count": null,
   "metadata": {
    "collapsed": true
   },
   "outputs": [],
   "source": []
  },
  {
   "cell_type": "code",
   "execution_count": 69,
   "metadata": {},
   "outputs": [
    {
     "name": "stderr",
     "output_type": "stream",
     "text": [
      "/home/villager/Programs/anaconda2/lib/python2.7/site-packages/sklearn/metrics/scorer.py:100: DeprecationWarning: Scoring method mean_squared_error was renamed to neg_mean_squared_error in version 0.18 and will be removed in 0.20.\n",
      "  sample_weight=sample_weight)\n",
      "/home/villager/Programs/anaconda2/lib/python2.7/site-packages/sklearn/metrics/scorer.py:100: DeprecationWarning: Scoring method mean_squared_error was renamed to neg_mean_squared_error in version 0.18 and will be removed in 0.20.\n",
      "  sample_weight=sample_weight)\n",
      "/home/villager/Programs/anaconda2/lib/python2.7/site-packages/sklearn/metrics/scorer.py:100: DeprecationWarning: Scoring method mean_squared_error was renamed to neg_mean_squared_error in version 0.18 and will be removed in 0.20.\n",
      "  sample_weight=sample_weight)\n",
      "/home/villager/Programs/anaconda2/lib/python2.7/site-packages/sklearn/metrics/scorer.py:100: DeprecationWarning: Scoring method mean_squared_error was renamed to neg_mean_squared_error in version 0.18 and will be removed in 0.20.\n",
      "  sample_weight=sample_weight)\n",
      "/home/villager/Programs/anaconda2/lib/python2.7/site-packages/sklearn/metrics/scorer.py:100: DeprecationWarning: Scoring method mean_squared_error was renamed to neg_mean_squared_error in version 0.18 and will be removed in 0.20.\n",
      "  sample_weight=sample_weight)\n"
     ]
    },
    {
     "data": {
      "text/plain": [
       "43234871.60601899"
      ]
     },
     "execution_count": 69,
     "metadata": {},
     "output_type": "execute_result"
    }
   ],
   "source": [
    "#Try with Linear Regression\n",
    "df.color.fillna(value=\"1\", inplace=True)\n",
    "from sklearn.linear_model import LinearRegression\n",
    "\n",
    "X = df.drop(\"gross\", axis=1)\n",
    "y = df.gross\n",
    "\n",
    "# define a function that accepts X and y and computes testing RMSE\n",
    "def cross_val_rmse(X, y):\n",
    "    lr = LinearRegression()\n",
    "    scores = cross_val_score(lr, X, y, cv=5, scoring='mean_squared_error')\n",
    "    return np.sqrt(abs(scores)).mean() # return average RMSE\n",
    "\n",
    "cross_val_rmse(X, y)\n",
    "\n",
    "#43,234,871 - this is high, I would expect in thousands "
   ]
  },
  {
   "cell_type": "code",
   "execution_count": 70,
   "metadata": {},
   "outputs": [
    {
     "name": "stderr",
     "output_type": "stream",
     "text": [
      "/home/villager/Programs/anaconda2/lib/python2.7/site-packages/sklearn/metrics/scorer.py:100: DeprecationWarning: Scoring method mean_squared_error was renamed to neg_mean_squared_error in version 0.18 and will be removed in 0.20.\n",
      "  sample_weight=sample_weight)\n",
      "/home/villager/Programs/anaconda2/lib/python2.7/site-packages/sklearn/metrics/scorer.py:100: DeprecationWarning: Scoring method mean_squared_error was renamed to neg_mean_squared_error in version 0.18 and will be removed in 0.20.\n",
      "  sample_weight=sample_weight)\n",
      "/home/villager/Programs/anaconda2/lib/python2.7/site-packages/sklearn/metrics/scorer.py:100: DeprecationWarning: Scoring method mean_squared_error was renamed to neg_mean_squared_error in version 0.18 and will be removed in 0.20.\n",
      "  sample_weight=sample_weight)\n",
      "/home/villager/Programs/anaconda2/lib/python2.7/site-packages/sklearn/metrics/scorer.py:100: DeprecationWarning: Scoring method mean_squared_error was renamed to neg_mean_squared_error in version 0.18 and will be removed in 0.20.\n",
      "  sample_weight=sample_weight)\n",
      "/home/villager/Programs/anaconda2/lib/python2.7/site-packages/sklearn/metrics/scorer.py:100: DeprecationWarning: Scoring method mean_squared_error was renamed to neg_mean_squared_error in version 0.18 and will be removed in 0.20.\n",
      "  sample_weight=sample_weight)\n"
     ]
    },
    {
     "data": {
      "text/plain": [
       "43088927.724611923"
      ]
     },
     "execution_count": 70,
     "metadata": {},
     "output_type": "execute_result"
    }
   ],
   "source": [
    "#Try with Ridge Regression\n",
    "from sklearn.linear_model import Ridge\n",
    "\n",
    "X = df.drop(\"gross\", axis=1)\n",
    "y = df.gross\n",
    "\n",
    "# define a function that accepts X and y and computes testing RMSE\n",
    "def cross_val_rmse(X, y):\n",
    "    ridge = Ridge(alpha=0.4) #with more time optimize alpha\n",
    "    scores = cross_val_score(ridge, X, y, cv=5, scoring='mean_squared_error')\n",
    "    return np.sqrt(abs(scores)).mean() # return average RMSE\n",
    "\n",
    "cross_val_rmse(X, y)\n",
    "\n",
    "#43,088,927"
   ]
  },
  {
   "cell_type": "code",
   "execution_count": 71,
   "metadata": {},
   "outputs": [
    {
     "name": "stderr",
     "output_type": "stream",
     "text": [
      "/home/villager/Programs/anaconda2/lib/python2.7/site-packages/sklearn/linear_model/coordinate_descent.py:491: ConvergenceWarning: Objective did not converge. You might want to increase the number of iterations. Fitting data with very small alpha may cause precision problems.\n",
      "  ConvergenceWarning)\n",
      "/home/villager/Programs/anaconda2/lib/python2.7/site-packages/sklearn/metrics/scorer.py:100: DeprecationWarning: Scoring method mean_squared_error was renamed to neg_mean_squared_error in version 0.18 and will be removed in 0.20.\n",
      "  sample_weight=sample_weight)\n",
      "/home/villager/Programs/anaconda2/lib/python2.7/site-packages/sklearn/metrics/scorer.py:100: DeprecationWarning: Scoring method mean_squared_error was renamed to neg_mean_squared_error in version 0.18 and will be removed in 0.20.\n",
      "  sample_weight=sample_weight)\n",
      "/home/villager/Programs/anaconda2/lib/python2.7/site-packages/sklearn/metrics/scorer.py:100: DeprecationWarning: Scoring method mean_squared_error was renamed to neg_mean_squared_error in version 0.18 and will be removed in 0.20.\n",
      "  sample_weight=sample_weight)\n",
      "/home/villager/Programs/anaconda2/lib/python2.7/site-packages/sklearn/metrics/scorer.py:100: DeprecationWarning: Scoring method mean_squared_error was renamed to neg_mean_squared_error in version 0.18 and will be removed in 0.20.\n",
      "  sample_weight=sample_weight)\n",
      "/home/villager/Programs/anaconda2/lib/python2.7/site-packages/sklearn/metrics/scorer.py:100: DeprecationWarning: Scoring method mean_squared_error was renamed to neg_mean_squared_error in version 0.18 and will be removed in 0.20.\n",
      "  sample_weight=sample_weight)\n"
     ]
    },
    {
     "data": {
      "text/plain": [
       "43218515.352466442"
      ]
     },
     "execution_count": 71,
     "metadata": {},
     "output_type": "execute_result"
    }
   ],
   "source": [
    "#Try with Lasso Regression\n",
    "from sklearn.linear_model import Lasso\n",
    "\n",
    "X = df.drop(\"gross\", axis=1)\n",
    "y = df.gross\n",
    "\n",
    "# define a function that accepts X and y and computes testing RMSE\n",
    "def cross_val_rmse(X, y):\n",
    "    lasso = Lasso(alpha=0.4) #with more time optimize alpha\n",
    "    scores = cross_val_score(lasso, X, y, cv=5, scoring='mean_squared_error')\n",
    "    return np.sqrt(abs(scores)).mean() # return average RMSE\n",
    "\n",
    "cross_val_rmse(X, y)\n",
    "\n",
    "#43,218,515"
   ]
  },
  {
   "cell_type": "markdown",
   "metadata": {
    "collapsed": true
   },
   "source": [
    "Linear seems to be the best with this evaluation "
   ]
  },
  {
   "cell_type": "code",
   "execution_count": 72,
   "metadata": {},
   "outputs": [
    {
     "data": {
      "text/html": [
       "<div>\n",
       "<style>\n",
       "    .dataframe thead tr:only-child th {\n",
       "        text-align: right;\n",
       "    }\n",
       "\n",
       "    .dataframe thead th {\n",
       "        text-align: left;\n",
       "    }\n",
       "\n",
       "    .dataframe tbody tr th {\n",
       "        vertical-align: top;\n",
       "    }\n",
       "</style>\n",
       "<table border=\"1\" class=\"dataframe\">\n",
       "  <thead>\n",
       "    <tr style=\"text-align: right;\">\n",
       "      <th></th>\n",
       "      <th>actor_1_facebook_likes</th>\n",
       "      <th>actor_2_facebook_likes</th>\n",
       "      <th>actor_3_facebook_likes</th>\n",
       "      <th>budget</th>\n",
       "      <th>color</th>\n",
       "      <th>director_facebook_likes</th>\n",
       "      <th>duration</th>\n",
       "      <th>imdb_score</th>\n",
       "      <th>num_voted_users</th>\n",
       "      <th>rating_G</th>\n",
       "      <th>rating_M</th>\n",
       "      <th>rating_NC-17</th>\n",
       "      <th>rating_Not Rated</th>\n",
       "      <th>rating_PG</th>\n",
       "      <th>rating_PG-13</th>\n",
       "      <th>rating_Passed</th>\n",
       "      <th>rating_R</th>\n",
       "      <th>rating_Unrated</th>\n",
       "      <th>rating_X</th>\n",
       "    </tr>\n",
       "  </thead>\n",
       "  <tbody>\n",
       "    <tr>\n",
       "      <th>0</th>\n",
       "      <td>152592</td>\n",
       "      <td>7370349</td>\n",
       "      <td>9141</td>\n",
       "      <td>50000000</td>\n",
       "      <td>1</td>\n",
       "      <td>114599</td>\n",
       "      <td>115</td>\n",
       "      <td>7.5</td>\n",
       "      <td>5971</td>\n",
       "      <td>0</td>\n",
       "      <td>0</td>\n",
       "      <td>0</td>\n",
       "      <td>0</td>\n",
       "      <td>0</td>\n",
       "      <td>0</td>\n",
       "      <td>0</td>\n",
       "      <td>0</td>\n",
       "      <td>0</td>\n",
       "      <td>0</td>\n",
       "    </tr>\n",
       "  </tbody>\n",
       "</table>\n",
       "</div>"
      ],
      "text/plain": [
       "   actor_1_facebook_likes  actor_2_facebook_likes  actor_3_facebook_likes  \\\n",
       "0                  152592                 7370349                    9141   \n",
       "\n",
       "     budget  color  director_facebook_likes  duration  imdb_score  \\\n",
       "0  50000000      1                   114599       115         7.5   \n",
       "\n",
       "   num_voted_users  rating_G  rating_M  rating_NC-17  rating_Not Rated  \\\n",
       "0             5971         0         0             0                 0   \n",
       "\n",
       "   rating_PG  rating_PG-13  rating_Passed  rating_R  rating_Unrated  rating_X  \n",
       "0          0             0              0         0               0         0  "
      ]
     },
     "execution_count": 72,
     "metadata": {},
     "output_type": "execute_result"
    }
   ],
   "source": [
    "#predict Black Panther - not enough information\n",
    "#df_bp = pd.DataFrame({'color': 1, 'duration':120, 'director_facebook_likes': 1714, 'actor_1_facebook_likes': 179034, 'actor_2_facebook_likes': 804493, 'actor_3_facebook_likes': 2969128,})\n",
    "\n",
    "#Let's look at The Post\n",
    "df_post = pd.DataFrame({'color': [1], 'duration':[115], 'num_voted_users':[5971], 'director_facebook_likes': [114599], 'actor_1_facebook_likes': [152592], 'actor_2_facebook_likes': [7370349], 'actor_3_facebook_likes': [9141], 'budget': [50000000], 'rating_PG-13': [1], 'imdb_score': [7.5], 'rating_G':[0], 'rating_M':[0], 'rating_NC-17':[0], 'rating_Not Rated':0,'rating_PG':[0], u'rating_PG-13':[0], 'rating_Passed':[0], 'rating_R':[0],'rating_Unrated':[0], 'rating_X':[0]})\n",
    "df_post"
   ]
  },
  {
   "cell_type": "code",
   "execution_count": 73,
   "metadata": {},
   "outputs": [
    {
     "data": {
      "text/plain": [
       "array([  6.95551199e+10])"
      ]
     },
     "execution_count": 73,
     "metadata": {},
     "output_type": "execute_result"
    }
   ],
   "source": [
    "#Predict with Linear Regression\n",
    "X = df.drop(\"gross\", axis=1)\n",
    "y = df.gross\n",
    "lr = LinearRegression()\n",
    "lr.fit(X,y)\n",
    "lr.predict(df_post)\n",
    "\n",
    "#$69,555,119,900 - that's billion? Something is wrong"
   ]
  },
  {
   "cell_type": "markdown",
   "metadata": {},
   "source": [
    "## Bonus!!\n",
    "\n",
    "<br>\n",
    "\n",
    "Code a K-Nearest Neighbors model from scratch using just python, that means no external libraries such as numpy. This may seem daunting but it's a lot easier than you think. Hint: Use a Class to create the algorithm."
   ]
  },
  {
   "cell_type": "code",
   "execution_count": null,
   "metadata": {
    "collapsed": true
   },
   "outputs": [],
   "source": []
  }
 ],
 "metadata": {
  "kernelspec": {
   "display_name": "Python 2",
   "language": "python",
   "name": "python2"
  },
  "language_info": {
   "codemirror_mode": {
    "name": "ipython",
    "version": 2
   },
   "file_extension": ".py",
   "mimetype": "text/x-python",
   "name": "python",
   "nbconvert_exporter": "python",
   "pygments_lexer": "ipython2",
   "version": "2.7.14"
  }
 },
 "nbformat": 4,
 "nbformat_minor": 2
}
